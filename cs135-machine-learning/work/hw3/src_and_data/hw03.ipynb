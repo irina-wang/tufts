{
 "cells": [
  {
   "cell_type": "markdown",
   "metadata": {},
   "source": [
    "## Name and ID\n",
    "\n",
    "Irina Mengqi Wang\n",
    "1278675 / mwang17"
   ]
  },
  {
   "cell_type": "markdown",
   "metadata": {},
   "source": [
    "## HW03 Code\n",
    "\n",
    "\n",
    "You will complete the following notebook, as described in the PDF for Homework 03 (included in the download with the starter code).  You will submit:\n",
    "1. This notebook file, along with your COLLABORATORS.txt file, to the Gradescope link for code.\n",
    "2. A PDF of this notebook and all of its output, once it is completed, to the Gradescope link for the PDF.\n",
    "\n",
    "\n",
    "Please report any questions to the [class Piazza page](piazza.com/tufts/spring2021/comp135/home).\n",
    "\n",
    "### Import required libraries"
   ]
  },
  {
   "cell_type": "code",
   "execution_count": 1,
   "metadata": {},
   "outputs": [],
   "source": [
    "import os\n",
    "import numpy as np\n",
    "import pandas as pd\n",
    "\n",
    "import warnings\n",
    "\n",
    "import sklearn.linear_model\n",
    "import sklearn.metrics\n",
    "\n",
    "from matplotlib import pyplot as plt\n",
    "import seaborn as sns\n",
    "%matplotlib inline\n",
    "plt.style.use('seaborn') # pretty matplotlib plots"
   ]
  },
  {
   "cell_type": "code",
   "execution_count": 2,
   "metadata": {},
   "outputs": [],
   "source": [
    "warnings.simplefilter(action='ignore', category=FutureWarning)"
   ]
  },
  {
   "cell_type": "markdown",
   "metadata": {},
   "source": [
    "Cancer-Risk Screening\n",
    "\n",
    "### 1: Compute true/false positives/negatives.\n",
    "\n",
    "Complete the following code."
   ]
  },
  {
   "cell_type": "code",
   "execution_count": 3,
   "metadata": {},
   "outputs": [],
   "source": [
    "def calc_TP_TN_FP_FN(ytrue_N, yhat_N):\n",
    "    ''' Compute counts of four possible outcomes of a binary classifier for evaluation.\n",
    "    \n",
    "    Args\n",
    "    ----\n",
    "    ytrue_N : 1D array of floats\n",
    "        Each entry represents the binary value (0 or 1) of 'true' label of one example\n",
    "        One entry per example in current dataset\n",
    "    yhat_N : 1D array of floats\n",
    "        Each entry represents a predicted binary value (either 0 or 1).\n",
    "        One entry per example in current dataset.\n",
    "        Needs to be same size as ytrue_N.\n",
    "\n",
    "    Returns\n",
    "    -------\n",
    "    TP : float\n",
    "        Number of true positives\n",
    "    TN : float\n",
    "        Number of true negatives\n",
    "    FP : float\n",
    "        Number of false positives\n",
    "    FN : float\n",
    "        Number of false negatives\n",
    "    '''\n",
    "    TP = 0.0\n",
    "    TN = 0.0\n",
    "    FP = 0.0\n",
    "    FN = 0.0\n",
    "    \n",
    "    for i in range(len(ytrue_N)):\n",
    "        if (ytrue_N[i] == yhat_N[i] == 1):\n",
    "            TP += 1\n",
    "        elif (ytrue_N[i] == yhat_N[i] == 0):\n",
    "            TN += 1\n",
    "        elif (ytrue_N[i] == 0 and yhat_N[i] == 1):\n",
    "            FP += 1\n",
    "        else:\n",
    "            FN += 1\n",
    "    return TP, TN, FP, FN"
   ]
  },
  {
   "cell_type": "code",
   "execution_count": 4,
   "metadata": {},
   "outputs": [
    {
     "data": {
      "text/plain": [
       "(0.0, 0.0, 10.0, 0.0)"
      ]
     },
     "execution_count": 4,
     "metadata": {},
     "output_type": "execute_result"
    }
   ],
   "source": [
    "all0 = np.zeros(10)\n",
    "all1 = np.ones(10)\n",
    "calc_TP_TN_FP_FN(all0, all1)"
   ]
  },
  {
   "cell_type": "code",
   "execution_count": 5,
   "metadata": {},
   "outputs": [
    {
     "data": {
      "text/plain": [
       "(0.0, 0.0, 0.0, 10.0)"
      ]
     },
     "execution_count": 5,
     "metadata": {},
     "output_type": "execute_result"
    }
   ],
   "source": [
    "calc_TP_TN_FP_FN(all1, all0)"
   ]
  },
  {
   "cell_type": "code",
   "execution_count": 6,
   "metadata": {},
   "outputs": [
    {
     "data": {
      "text/plain": [
       "(10.0, 0.0, 0.0, 0.0)"
      ]
     },
     "execution_count": 6,
     "metadata": {},
     "output_type": "execute_result"
    }
   ],
   "source": [
    "calc_TP_TN_FP_FN(all1, all1)"
   ]
  },
  {
   "cell_type": "code",
   "execution_count": 7,
   "metadata": {},
   "outputs": [
    {
     "data": {
      "text/plain": [
       "(0.0, 10.0, 0.0, 0.0)"
      ]
     },
     "execution_count": 7,
     "metadata": {},
     "output_type": "execute_result"
    }
   ],
   "source": [
    "calc_TP_TN_FP_FN(all0, all0)"
   ]
  },
  {
   "cell_type": "markdown",
   "metadata": {},
   "source": [
    "### Supplied functions for later use\n",
    "\n",
    "***Do not*** edit the following functions.  They are already complete, and will be used in your later code."
   ]
  },
  {
   "cell_type": "code",
   "execution_count": 8,
   "metadata": {},
   "outputs": [],
   "source": [
    "def calc_perf_metrics_for_threshold(ytrue_N, yproba1_N, thresh):\n",
    "    ''' Compute performance metrics for a given probabilistic classifier and threshold\n",
    "    '''\n",
    "    tp, tn, fp, fn = calc_TP_TN_FP_FN(ytrue_N, yproba1_N >= thresh)\n",
    "    ## Compute ACC, TPR, TNR, etc.\n",
    "    acc = (tp + tn) / float(tp + tn + fp + fn + 1e-10)\n",
    "    tpr = tp / float(tp + fn + 1e-10)\n",
    "    tnr = tn / float(fp + tn + 1e-10)\n",
    "    ppv = tp / float(tp + fp + 1e-10)\n",
    "    npv = tn / float(tn + fn + 1e-10)\n",
    "    \n",
    "    return acc, tpr, tnr, ppv, npv\n",
    "\n",
    "def print_perf_metrics_for_threshold(ytrue_N, yproba1_N, thresh):\n",
    "    ''' Pretty print perf. metrics for a given probabilistic classifier and threshold\n",
    "    '''\n",
    "    acc, tpr, tnr, ppv, npv = calc_perf_metrics_for_threshold(ytrue_N, yproba1_N, thresh)\n",
    "    \n",
    "    ## Pretty print the results\n",
    "    print(\"%.3f ACC\" % acc)\n",
    "    print(\"%.3f TPR\" % tpr)\n",
    "    print(\"%.3f TNR\" % tnr)\n",
    "    print(\"%.3f PPV\" % ppv)\n",
    "    print(\"%.3f NPV\" % npv)"
   ]
  },
  {
   "cell_type": "code",
   "execution_count": 9,
   "metadata": {},
   "outputs": [],
   "source": [
    "def calc_confusion_matrix_for_threshold(ytrue_N, yproba1_N, thresh):\n",
    "    ''' Compute the confusion matrix for a given probabilistic classifier and threshold\n",
    "    \n",
    "    Args\n",
    "    ----\n",
    "    ytrue_N : 1D array of floats\n",
    "        Each entry represents the binary value (0 or 1) of 'true' label of one example\n",
    "        One entry per example in current dataset\n",
    "    yproba1_N : 1D array of floats\n",
    "        Each entry represents a probability (between 0 and 1) that correct label is positive (1)\n",
    "        One entry per example in current dataset\n",
    "        Needs to be same size as ytrue_N\n",
    "    thresh : float\n",
    "        Scalar threshold for converting probabilities into hard decisions\n",
    "        Calls an example \"positive\" if yproba1 >= thresh\n",
    "\n",
    "    Returns\n",
    "    -------\n",
    "    cm_df : Pandas DataFrame\n",
    "        Can be printed like print(cm_df) to easily display results\n",
    "    '''\n",
    "    cm = sklearn.metrics.confusion_matrix(ytrue_N, yproba1_N >= thresh)\n",
    "    cm_df = pd.DataFrame(data=cm, columns=[0, 1], index=[0, 1])\n",
    "    cm_df.columns.name = 'Predicted'\n",
    "    cm_df.index.name = 'True'\n",
    "    return cm_df"
   ]
  },
  {
   "cell_type": "code",
   "execution_count": 10,
   "metadata": {},
   "outputs": [],
   "source": [
    "def compute_perf_metrics_across_thresholds(ytrue_N, yproba1_N, thresh_grid=None):\n",
    "    ''' Compute common binary classifier performance metrics across many thresholds\n",
    "    \n",
    "    If no array of thresholds is provided, will use all 'unique' values\n",
    "    in the yproba1_N array to define all possible thresholds with different performance.\n",
    "    \n",
    "    Args\n",
    "    ----\n",
    "    ytrue_N : 1D array of floats\n",
    "        Each entry represents the binary value (0 or 1) of 'true' label of one example\n",
    "        One entry per example in current dataset\n",
    "    yproba1_N : 1D array of floats\n",
    "        Each entry represents a probability (between 0 and 1) that correct label is positive (1)\n",
    "        One entry per example in current dataset\n",
    "\n",
    "    Returns\n",
    "    -------\n",
    "    thresh_grid : 1D array of floats\n",
    "        One entry for each possible threshold\n",
    "    perf_dict : dict, with key, value pairs:\n",
    "        * 'acc' : 1D array of accuracy values (one per threshold)\n",
    "        * 'ppv' : 1D array of positive predictive values (one per threshold)\n",
    "        * 'npv' : 1D array of negative predictive values (one per threshold)\n",
    "        * 'tpr' : 1D array of true positive rates (one per threshold)\n",
    "        * 'tnr' : 1D array of true negative rates (one per threshold)\n",
    "    '''\n",
    "    if thresh_grid is None:\n",
    "        bin_edges = np.linspace(0, 1.001, 21)\n",
    "        thresh_grid = np.sort(np.hstack([bin_edges, np.unique(yproba1_N)]))\n",
    "    tpr_grid = np.zeros_like(thresh_grid)\n",
    "    tnr_grid = np.zeros_like(thresh_grid)\n",
    "    ppv_grid = np.zeros_like(thresh_grid)\n",
    "    npv_grid = np.zeros_like(thresh_grid)\n",
    "    acc_grid = np.zeros_like(thresh_grid)\n",
    "    for tt, thresh in enumerate(thresh_grid):\n",
    "        # Apply specific threshold to convert probas into hard binary values (0 or 1)\n",
    "        # Then count number of true positives, true negatives, etc.\n",
    "        # Then compute metrics like accuracy and true positive rate\n",
    "        acc, tpr, tnr, ppv, npv = calc_perf_metrics_for_threshold(ytrue_N, yproba1_N, thresh)\n",
    "        acc_grid[tt] = acc\n",
    "        tpr_grid[tt] = tpr\n",
    "        tnr_grid[tt] = tnr\n",
    "        ppv_grid[tt] = ppv\n",
    "        npv_grid[tt] = npv\n",
    "    return thresh_grid, dict(\n",
    "        acc=acc_grid,\n",
    "        tpr=tpr_grid,\n",
    "        tnr=tnr_grid,\n",
    "        ppv=ppv_grid,\n",
    "        npv=npv_grid)\n",
    "\n",
    "def make_plot_perf_vs_threshold(ytrue_N, yproba1_N, bin_edges=np.linspace(0, 1, 21)):\n",
    "    ''' Make pretty plot of binary classifier performance as threshold increases\n",
    "    \n",
    "    Produces a plot with 3 rows:\n",
    "    * top row: hist of predicted probabilities for negative examples (shaded red)\n",
    "    * middle row: histogram of predicted probabilities for positive examples (shaded blue)\n",
    "    * bottom row: line plots of metrics that require hard decisions (ACC, TPR, TNR, etc.)\n",
    "    \n",
    "    The two histograms are as follows:\n",
    "    * The first (red) shows the number of class-0 entries, grouped by \n",
    "      the probabilities assigned by the predictor (yproba1_N).\n",
    "    * The second (blue) shows the number of class-1 entries, grouped by\n",
    "      the probabilities assigned by the predictor (yproba1_N).\n",
    "    \n",
    "    A \"perfect\" classifier would assign everything in class 0 the probability 0.0, \n",
    "    and everything in class 1 the probability 1.0, and the histograms would look \n",
    "    like one big pile of 150 items at 0.0, and then 25 items at 1.0.  \n",
    "    \n",
    "    You can actually see what this would look like by calling:\n",
    "        make_plot_perf_vs_threshold(y_va_N, y_va_N)\n",
    "    \n",
    "    Note that we of course don't expect perfect (0.0/1.0) predictions, but we can \n",
    "    still get a \"perfect\" probabilistic classifier if we have a threshold point T \n",
    "    where all the 0-class stuff from the first histogram is below T, and all the \n",
    "    1-class stuff from the second one is at or above T.  Of course, we probably \n",
    "    can't get that either, since complex data may not be linearly separable at all, \n",
    "    but that's the goal.\n",
    "    '''\n",
    "    fig, axes = plt.subplots(nrows=3, ncols=1, figsize=(12, 8))\n",
    "    sns.distplot(\n",
    "        yproba1_N[ytrue_N == 0],\n",
    "        color='r', bins=bin_edges, kde=False, rug=True, ax=axes[0]);\n",
    "    sns.distplot(\n",
    "        yproba1_N[ytrue_N == 1],\n",
    "        color='b', bins=bin_edges, kde=False, rug=True, ax=axes[1]);\n",
    "\n",
    "    thresh_grid, perf_grid = compute_perf_metrics_across_thresholds(ytrue_N, yproba1_N)\n",
    "    axes[2].plot(thresh_grid, perf_grid['acc'], 'k-', label='accuracy')\n",
    "    axes[2].plot(thresh_grid, perf_grid['tpr'], 'b-', label='TPR (recall/sensitivity)')\n",
    "    axes[2].plot(thresh_grid, perf_grid['tnr'], 'g-', label='TNR (specificity)')\n",
    "    axes[2].plot(thresh_grid, perf_grid['ppv'], 'c-', label='PPV (precision)')\n",
    "    axes[2].plot(thresh_grid, perf_grid['npv'], 'm-', label='NPV')\n",
    "    \n",
    "    axes[2].legend()\n",
    "    axes[2].set_ylim([0, 1])"
   ]
  },
  {
   "cell_type": "markdown",
   "metadata": {},
   "source": [
    "### Load the dataset.\n",
    "\n",
    "The following should ***not*** be modified.  After it runs, the various arrays it creates will contain the 2- or 3-feature input datasets."
   ]
  },
  {
   "cell_type": "code",
   "execution_count": 11,
   "metadata": {},
   "outputs": [],
   "source": [
    "# Load 3 feature version of x arrays\n",
    "x_tr_M3 = np.loadtxt('./data_cancer/x_train.csv', delimiter=',', skiprows=1)\n",
    "x_va_N3 = np.loadtxt('./data_cancer/x_valid.csv', delimiter=',', skiprows=1)\n",
    "x_te_N3 = np.loadtxt('./data_cancer/x_test.csv', delimiter=',', skiprows=1)\n",
    "\n",
    "# 2 feature version of x arrays\n",
    "x_tr_M2 = x_tr_M3[:, :2].copy()\n",
    "x_va_N2 = x_va_N3[:, :2].copy()\n",
    "x_te_N2 = x_te_N3[:, :2].copy()"
   ]
  },
  {
   "cell_type": "code",
   "execution_count": 12,
   "metadata": {},
   "outputs": [],
   "source": [
    "y_tr_M = np.loadtxt('./data_cancer/y_train.csv', delimiter=',', skiprows=1)\n",
    "y_va_N = np.loadtxt('./data_cancer/y_valid.csv', delimiter=',', skiprows=1)\n",
    "y_te_N = np.loadtxt('./data_cancer/y_test.csv', delimiter=',', skiprows=1)"
   ]
  },
  {
   "cell_type": "markdown",
   "metadata": {},
   "source": [
    "### 2: Compute the fraction of patients with cancer.\n",
    "\n",
    "Complete the following code.  Your solution needs to ***compute*** these values from the training, validation, and testing sets (i.e., don't simply hand-count and print the values)."
   ]
  },
  {
   "cell_type": "code",
   "execution_count": 13,
   "metadata": {},
   "outputs": [
    {
     "name": "stdout",
     "output_type": "stream",
     "text": [
      "Fraction with cancer in TRAIN: 0.141\n",
      "Fraction with cancer in VALID: 0.139\n",
      "Fraction with cancer in TEST : 0.139\n"
     ]
    }
   ],
   "source": [
    "print(\"Fraction with cancer in TRAIN: %.3f\" % (len(np.nonzero(y_tr_M)[0])/len(y_tr_M))) \n",
    "print(\"Fraction with cancer in VALID: %.3f\" % (len(np.nonzero(y_va_N)[0])/len(y_va_N)))\n",
    "print(\"Fraction with cancer in TEST : %.3f\" % (len(np.nonzero(y_te_N)[0])/len(y_te_N)))"
   ]
  },
  {
   "cell_type": "markdown",
   "metadata": {},
   "source": [
    "### 3: The predict-0-always baseline\n",
    "\n",
    "#### (a) Compute the accuracy of the always-0 classifier.\n",
    "\n",
    "Complete the code to compute and print the accuracy of the always-0 classifier on validation and test outputs."
   ]
  },
  {
   "cell_type": "code",
   "execution_count": 14,
   "metadata": {},
   "outputs": [
    {
     "name": "stdout",
     "output_type": "stream",
     "text": [
      "Always-0: accuracy on VALID: 0.861\n",
      "Always-0: accuracy on TEST : 0.861\n"
     ]
    }
   ],
   "source": [
    "always_0_va_acc, _, _, _, _ = calc_perf_metrics_for_threshold(y_va_N, np.zeros(len(y_va_N)), 0.5)\n",
    "always_0_te_acc, _, _, _, _ = calc_perf_metrics_for_threshold(y_te_N, np.zeros(len(y_te_N)), 0.5)\n",
    "\n",
    "print(\"Always-0: accuracy on VALID: %.3f\" % always_0_va_acc) # TODO edit values!\n",
    "print(\"Always-0: accuracy on TEST : %.3f\" % always_0_te_acc)\n"
   ]
  },
  {
   "cell_type": "markdown",
   "metadata": {},
   "source": [
    "#### (b) Print a confusion matrix for the always-0 classifier.\n",
    "\n",
    "Add code below to generate a confusion matrix for the always-0 classifier on the validation set."
   ]
  },
  {
   "cell_type": "code",
   "execution_count": 15,
   "metadata": {},
   "outputs": [
    {
     "name": "stdout",
     "output_type": "stream",
     "text": [
      "Predicted    0  1\n",
      "True             \n",
      "0          155  0\n",
      "1           25  0\n"
     ]
    }
   ],
   "source": [
    "y_va_pred_all_zeros = np.zeros(len(y_va_N))\n",
    "print(calc_confusion_matrix_for_threshold(y_va_N, y_va_pred_all_zeros, 0.5))"
   ]
  },
  {
   "cell_type": "markdown",
   "metadata": {},
   "source": [
    "#### (c) Reflect on the accuracy of the always-0 classifier.\n",
    "\n",
    "**Answer**: \n",
    "\n",
    "The higher accuracy rate is mainly due to the low cancer proportion in the population and in reality. \n",
    "\n",
    "**[+]**\n",
    "- High overall accuracy, as there are statistically more negative cases in the populaton(the true negative rate is 100%). \n",
    "- it's simple, and it's easy to generate and calculate.\n",
    "- no need to fit a model to do the prediction, and helps us achieve our goal of avoiding painful biopsy.\n",
    "\n",
    "\n",
    "**[-]**\n",
    "- it fails to explain the relationship of the outputs in relationship to the features.\n",
    "- And people who actually have cancer will never be diagnosed.\n",
    "- it reflects the proportion of negative case in the sample and it's _always_ 0, the predicting performance might be relatively low on other data. "
   ]
  },
  {
   "cell_type": "markdown",
   "metadata": {},
   "source": [
    "#### (d) Analyze the various costs of using the always-0 classifier.\n",
    "\n",
    "\n",
    "Although this always-0 classifier help us generate high _correct rejection_ on all actual negative cases, it's also being overly positive and will _miss_ the patients who actually have cancer. In other words, it will also contain **high false negatives** which often come at a great cost---- patient may miss the \"golden window\" and even pay with their lives, not to the psychological suffering and late surgery fees. Hospital, on the other hand, may be sued for the diagnosis failure and experience a lost in reputation. These are pretty serious consequences, sometimes even worse than saying everyone has cancer with the always-1 classifier. Thus in general, I would not to use this classifier."
   ]
  },
  {
   "cell_type": "markdown",
   "metadata": {},
   "source": [
    "### 4: Logistic Regression\n",
    "\n",
    "#### (a) Create a set of `LogisticRegression` models.\n",
    "\n",
    "Each model will use a different control parameter, `C`, and each will be fit to 2-feature data.  Probabilistic predictions will be made on both **training set** and **validation set** inputs, and logistic-loss for each will be recorded."
   ]
  },
  {
   "cell_type": "code",
   "execution_count": 16,
   "metadata": {},
   "outputs": [],
   "source": [
    "tr_loss_list = list()\n",
    "va_loss_list = list()\n",
    "\n",
    "N2_model_list = list()\n",
    "C_grid = np.logspace(-9, 6, 31)\n",
    "for C in C_grid:\n",
    "    model = sklearn.linear_model.LogisticRegression(C=C,solver='liblinear')\n",
    "    model.fit(x_tr_M2,y_tr_M)\n",
    "    \n",
    "    N2_model_list.append(model)\n",
    "    p_tr = model.predict_proba(x_tr_M2)\n",
    "    p_va = model.predict_proba(x_va_N2)\n",
    "\n",
    "    tr_log_loss = sklearn.metrics.log_loss(y_tr_M,p_tr)\n",
    "    va_log_loss = sklearn.metrics.log_loss(y_va_N,p_va)\n",
    "    \n",
    "    tr_loss_list.append(tr_log_loss)\n",
    "    va_loss_list.append(va_log_loss)"
   ]
  },
  {
   "cell_type": "code",
   "execution_count": 17,
   "metadata": {},
   "outputs": [
    {
     "data": {
      "text/html": [
       "<div>\n",
       "<style scoped>\n",
       "    .dataframe tbody tr th:only-of-type {\n",
       "        vertical-align: middle;\n",
       "    }\n",
       "\n",
       "    .dataframe tbody tr th {\n",
       "        vertical-align: top;\n",
       "    }\n",
       "\n",
       "    .dataframe thead th {\n",
       "        text-align: right;\n",
       "    }\n",
       "</style>\n",
       "<table border=\"1\" class=\"dataframe\">\n",
       "  <thead>\n",
       "    <tr style=\"text-align: right;\">\n",
       "      <th></th>\n",
       "      <th>2 feature train loss</th>\n",
       "      <th>2 feature validation loss</th>\n",
       "    </tr>\n",
       "  </thead>\n",
       "  <tbody>\n",
       "    <tr>\n",
       "      <th>0</th>\n",
       "      <td>0.692946</td>\n",
       "      <td>0.692942</td>\n",
       "    </tr>\n",
       "    <tr>\n",
       "      <th>1</th>\n",
       "      <td>0.692510</td>\n",
       "      <td>0.692500</td>\n",
       "    </tr>\n",
       "    <tr>\n",
       "      <th>2</th>\n",
       "      <td>0.691142</td>\n",
       "      <td>0.691110</td>\n",
       "    </tr>\n",
       "    <tr>\n",
       "      <th>3</th>\n",
       "      <td>0.686890</td>\n",
       "      <td>0.686790</td>\n",
       "    </tr>\n",
       "    <tr>\n",
       "      <th>4</th>\n",
       "      <td>0.674156</td>\n",
       "      <td>0.673852</td>\n",
       "    </tr>\n",
       "    <tr>\n",
       "      <th>5</th>\n",
       "      <td>0.639965</td>\n",
       "      <td>0.639109</td>\n",
       "    </tr>\n",
       "    <tr>\n",
       "      <th>6</th>\n",
       "      <td>0.570698</td>\n",
       "      <td>0.568692</td>\n",
       "    </tr>\n",
       "    <tr>\n",
       "      <th>7</th>\n",
       "      <td>0.489034</td>\n",
       "      <td>0.485551</td>\n",
       "    </tr>\n",
       "    <tr>\n",
       "      <th>8</th>\n",
       "      <td>0.440997</td>\n",
       "      <td>0.436387</td>\n",
       "    </tr>\n",
       "    <tr>\n",
       "      <th>9</th>\n",
       "      <td>0.426297</td>\n",
       "      <td>0.421078</td>\n",
       "    </tr>\n",
       "    <tr>\n",
       "      <th>10</th>\n",
       "      <td>0.423630</td>\n",
       "      <td>0.418147</td>\n",
       "    </tr>\n",
       "    <tr>\n",
       "      <th>11</th>\n",
       "      <td>0.423271</td>\n",
       "      <td>0.417691</td>\n",
       "    </tr>\n",
       "    <tr>\n",
       "      <th>12</th>\n",
       "      <td>0.423186</td>\n",
       "      <td>0.417565</td>\n",
       "    </tr>\n",
       "    <tr>\n",
       "      <th>13</th>\n",
       "      <td>0.423034</td>\n",
       "      <td>0.417375</td>\n",
       "    </tr>\n",
       "    <tr>\n",
       "      <th>14</th>\n",
       "      <td>0.422584</td>\n",
       "      <td>0.416839</td>\n",
       "    </tr>\n",
       "    <tr>\n",
       "      <th>15</th>\n",
       "      <td>0.421308</td>\n",
       "      <td>0.415346</td>\n",
       "    </tr>\n",
       "    <tr>\n",
       "      <th>16</th>\n",
       "      <td>0.418121</td>\n",
       "      <td>0.411802</td>\n",
       "    </tr>\n",
       "    <tr>\n",
       "      <th>17</th>\n",
       "      <td>0.410703</td>\n",
       "      <td>0.404295</td>\n",
       "    </tr>\n",
       "    <tr>\n",
       "      <th>18</th>\n",
       "      <td>0.394642</td>\n",
       "      <td>0.389351</td>\n",
       "    </tr>\n",
       "    <tr>\n",
       "      <th>19</th>\n",
       "      <td>0.370996</td>\n",
       "      <td>0.369299</td>\n",
       "    </tr>\n",
       "    <tr>\n",
       "      <th>20</th>\n",
       "      <td>0.352278</td>\n",
       "      <td>0.356556</td>\n",
       "    </tr>\n",
       "    <tr>\n",
       "      <th>21</th>\n",
       "      <td>0.345341</td>\n",
       "      <td>0.354896</td>\n",
       "    </tr>\n",
       "    <tr>\n",
       "      <th>22</th>\n",
       "      <td>0.343544</td>\n",
       "      <td>0.356692</td>\n",
       "    </tr>\n",
       "    <tr>\n",
       "      <th>23</th>\n",
       "      <td>0.343328</td>\n",
       "      <td>0.357794</td>\n",
       "    </tr>\n",
       "    <tr>\n",
       "      <th>24</th>\n",
       "      <td>0.343303</td>\n",
       "      <td>0.358226</td>\n",
       "    </tr>\n",
       "    <tr>\n",
       "      <th>25</th>\n",
       "      <td>0.343300</td>\n",
       "      <td>0.358372</td>\n",
       "    </tr>\n",
       "    <tr>\n",
       "      <th>26</th>\n",
       "      <td>0.343300</td>\n",
       "      <td>0.358419</td>\n",
       "    </tr>\n",
       "    <tr>\n",
       "      <th>27</th>\n",
       "      <td>0.343299</td>\n",
       "      <td>0.358434</td>\n",
       "    </tr>\n",
       "    <tr>\n",
       "      <th>28</th>\n",
       "      <td>0.343299</td>\n",
       "      <td>0.358439</td>\n",
       "    </tr>\n",
       "    <tr>\n",
       "      <th>29</th>\n",
       "      <td>0.343299</td>\n",
       "      <td>0.358441</td>\n",
       "    </tr>\n",
       "    <tr>\n",
       "      <th>30</th>\n",
       "      <td>0.343299</td>\n",
       "      <td>0.358441</td>\n",
       "    </tr>\n",
       "  </tbody>\n",
       "</table>\n",
       "</div>"
      ],
      "text/plain": [
       "    2 feature train loss  2 feature validation loss\n",
       "0               0.692946                   0.692942\n",
       "1               0.692510                   0.692500\n",
       "2               0.691142                   0.691110\n",
       "3               0.686890                   0.686790\n",
       "4               0.674156                   0.673852\n",
       "5               0.639965                   0.639109\n",
       "6               0.570698                   0.568692\n",
       "7               0.489034                   0.485551\n",
       "8               0.440997                   0.436387\n",
       "9               0.426297                   0.421078\n",
       "10              0.423630                   0.418147\n",
       "11              0.423271                   0.417691\n",
       "12              0.423186                   0.417565\n",
       "13              0.423034                   0.417375\n",
       "14              0.422584                   0.416839\n",
       "15              0.421308                   0.415346\n",
       "16              0.418121                   0.411802\n",
       "17              0.410703                   0.404295\n",
       "18              0.394642                   0.389351\n",
       "19              0.370996                   0.369299\n",
       "20              0.352278                   0.356556\n",
       "21              0.345341                   0.354896\n",
       "22              0.343544                   0.356692\n",
       "23              0.343328                   0.357794\n",
       "24              0.343303                   0.358226\n",
       "25              0.343300                   0.358372\n",
       "26              0.343300                   0.358419\n",
       "27              0.343299                   0.358434\n",
       "28              0.343299                   0.358439\n",
       "29              0.343299                   0.358441\n",
       "30              0.343299                   0.358441"
      ]
     },
     "execution_count": 17,
     "metadata": {},
     "output_type": "execute_result"
    }
   ],
   "source": [
    "# print out the results in clear tabular format\n",
    "pd.DataFrame(np.transpose([tr_loss_list, va_loss_list]), columns=['2 feature train loss', '2 feature validation loss'])"
   ]
  },
  {
   "cell_type": "code",
   "execution_count": 18,
   "metadata": {},
   "outputs": [],
   "source": [
    "min_loss = min(va_loss_list)\n",
    "index_N2 = va_loss_list.index(min_loss)\n",
    "best_C =  C_grid[index_N2]"
   ]
  },
  {
   "cell_type": "markdown",
   "metadata": {},
   "source": [
    "#### Plot logistic loss (y-axis) vs. C (x-axis) on the training set and validation set.\n",
    "\n",
    "The best values for `C` and the loss should be printed."
   ]
  },
  {
   "cell_type": "code",
   "execution_count": 19,
   "metadata": {},
   "outputs": [
    {
     "data": {
      "image/png": "[encoded data removed]",
      "text/plain": [
       "<Figure size 576x396 with 1 Axes>"
      ]
     },
     "metadata": {},
     "output_type": "display_data"
    },
    {
     "name": "stdout",
     "output_type": "stream",
     "text": [
      "Best C-value for LR with 2-feature data: 31.623\n",
      "Validation set log-loss at best C-value: 0.3549\n"
     ]
    }
   ],
   "source": [
    "plt.xlabel('log10(C)');\n",
    "plt.ylabel('logistic loss');\n",
    "plt.ylim([0.0, 0.7]);\n",
    "\n",
    "sns.lineplot(x = np.log10(C_grid), y = tr_loss_list, label = \"Train Loss\", color = \"red\", marker='o')\n",
    "sns.lineplot(x = np.log10(C_grid), y = va_loss_list,label = \"Validation Loss\", color = \"blue\", marker='o')\n",
    "\n",
    "# show a legend on the plot \n",
    "plt.legend() \n",
    "plt.title('Logistic loss of 2-feature on C-grid')\n",
    "plt.show()\n",
    "\n",
    "print(\"Best C-value for LR with 2-feature data: %.3f\" % best_C) \n",
    "print(\"Validation set log-loss at best C-value: %.4f\" % min_loss)"
   ]
  },
  {
   "cell_type": "markdown",
   "metadata": {},
   "source": [
    "#### (b) Plot the performance of the predictions made by the best classifier from step (a) on the validation set."
   ]
  },
  {
   "cell_type": "code",
   "execution_count": 20,
   "metadata": {},
   "outputs": [
    {
     "data": {
      "image/png": "[encoded data removed]",
      "text/plain": [
       "<Figure size 864x576 with 3 Axes>"
      ]
     },
     "metadata": {},
     "output_type": "display_data"
    }
   ],
   "source": [
    "best_model_N2 = N2_model_list[index_N2]\n",
    "yprob_va_N2 = best_model_N2.predict_proba(x_va_N2)\n",
    "make_plot_perf_vs_threshold(y_va_N, yprob_va_N2[:, 1],bin_edges=np.linspace(0, 1, 21))"
   ]
  },
  {
   "cell_type": "markdown",
   "metadata": {},
   "source": [
    "#### (c) Model fitting with 3-feature data\n",
    "\n",
    "Repeat the model generation from **1.4 (a)**, using the full 3-feature data."
   ]
  },
  {
   "cell_type": "code",
   "execution_count": 21,
   "metadata": {},
   "outputs": [],
   "source": [
    "tr_loss_list = list()\n",
    "va_loss_list = list()\n",
    "N3_model_list = list()\n",
    "\n",
    "C_grid = np.logspace(-9, 6, 31)\n",
    "for C in C_grid:\n",
    "    model = sklearn.linear_model.LogisticRegression(C=C,solver='liblinear')\n",
    "    model.fit(x_tr_M3,y_tr_M)\n",
    "    \n",
    "    N3_model_list.append(model)\n",
    "    p_tr = model.predict_proba(x_tr_M3)\n",
    "    p_va = model.predict_proba(x_va_N3)\n",
    "\n",
    "    tr_log_loss = sklearn.metrics.log_loss(y_tr_M,p_tr)\n",
    "    va_log_loss = sklearn.metrics.log_loss(y_va_N,p_va)\n",
    "    \n",
    "    tr_loss_list.append(tr_log_loss)\n",
    "    va_loss_list.append(va_log_loss)"
   ]
  },
  {
   "cell_type": "code",
   "execution_count": 22,
   "metadata": {},
   "outputs": [
    {
     "data": {
      "text/html": [
       "<div>\n",
       "<style scoped>\n",
       "    .dataframe tbody tr th:only-of-type {\n",
       "        vertical-align: middle;\n",
       "    }\n",
       "\n",
       "    .dataframe tbody tr th {\n",
       "        vertical-align: top;\n",
       "    }\n",
       "\n",
       "    .dataframe thead th {\n",
       "        text-align: right;\n",
       "    }\n",
       "</style>\n",
       "<table border=\"1\" class=\"dataframe\">\n",
       "  <thead>\n",
       "    <tr style=\"text-align: right;\">\n",
       "      <th></th>\n",
       "      <th>3 features train loss</th>\n",
       "      <th>3 features validation loss</th>\n",
       "    </tr>\n",
       "  </thead>\n",
       "  <tbody>\n",
       "    <tr>\n",
       "      <th>0</th>\n",
       "      <td>0.692946</td>\n",
       "      <td>0.692942</td>\n",
       "    </tr>\n",
       "    <tr>\n",
       "      <th>1</th>\n",
       "      <td>0.692510</td>\n",
       "      <td>0.692500</td>\n",
       "    </tr>\n",
       "    <tr>\n",
       "      <th>2</th>\n",
       "      <td>0.691142</td>\n",
       "      <td>0.691110</td>\n",
       "    </tr>\n",
       "    <tr>\n",
       "      <th>3</th>\n",
       "      <td>0.686889</td>\n",
       "      <td>0.686789</td>\n",
       "    </tr>\n",
       "    <tr>\n",
       "      <th>4</th>\n",
       "      <td>0.674154</td>\n",
       "      <td>0.673850</td>\n",
       "    </tr>\n",
       "    <tr>\n",
       "      <th>5</th>\n",
       "      <td>0.639960</td>\n",
       "      <td>0.639104</td>\n",
       "    </tr>\n",
       "    <tr>\n",
       "      <th>6</th>\n",
       "      <td>0.570692</td>\n",
       "      <td>0.568688</td>\n",
       "    </tr>\n",
       "    <tr>\n",
       "      <th>7</th>\n",
       "      <td>0.489036</td>\n",
       "      <td>0.485555</td>\n",
       "    </tr>\n",
       "    <tr>\n",
       "      <th>8</th>\n",
       "      <td>0.440993</td>\n",
       "      <td>0.436381</td>\n",
       "    </tr>\n",
       "    <tr>\n",
       "      <th>9</th>\n",
       "      <td>0.426229</td>\n",
       "      <td>0.420993</td>\n",
       "    </tr>\n",
       "    <tr>\n",
       "      <th>10</th>\n",
       "      <td>0.423338</td>\n",
       "      <td>0.417788</td>\n",
       "    </tr>\n",
       "    <tr>\n",
       "      <th>11</th>\n",
       "      <td>0.422283</td>\n",
       "      <td>0.416474</td>\n",
       "    </tr>\n",
       "    <tr>\n",
       "      <th>12</th>\n",
       "      <td>0.420138</td>\n",
       "      <td>0.413803</td>\n",
       "    </tr>\n",
       "    <tr>\n",
       "      <th>13</th>\n",
       "      <td>0.414724</td>\n",
       "      <td>0.407011</td>\n",
       "    </tr>\n",
       "    <tr>\n",
       "      <th>14</th>\n",
       "      <td>0.405214</td>\n",
       "      <td>0.394533</td>\n",
       "    </tr>\n",
       "    <tr>\n",
       "      <th>15</th>\n",
       "      <td>0.396724</td>\n",
       "      <td>0.382085</td>\n",
       "    </tr>\n",
       "    <tr>\n",
       "      <th>16</th>\n",
       "      <td>0.390886</td>\n",
       "      <td>0.372971</td>\n",
       "    </tr>\n",
       "    <tr>\n",
       "      <th>17</th>\n",
       "      <td>0.382425</td>\n",
       "      <td>0.362332</td>\n",
       "    </tr>\n",
       "    <tr>\n",
       "      <th>18</th>\n",
       "      <td>0.364943</td>\n",
       "      <td>0.343271</td>\n",
       "    </tr>\n",
       "    <tr>\n",
       "      <th>19</th>\n",
       "      <td>0.338732</td>\n",
       "      <td>0.315652</td>\n",
       "    </tr>\n",
       "    <tr>\n",
       "      <th>20</th>\n",
       "      <td>0.316683</td>\n",
       "      <td>0.292761</td>\n",
       "    </tr>\n",
       "    <tr>\n",
       "      <th>21</th>\n",
       "      <td>0.307504</td>\n",
       "      <td>0.283476</td>\n",
       "    </tr>\n",
       "    <tr>\n",
       "      <th>22</th>\n",
       "      <td>0.305363</td>\n",
       "      <td>0.281398</td>\n",
       "    </tr>\n",
       "    <tr>\n",
       "      <th>23</th>\n",
       "      <td>0.305026</td>\n",
       "      <td>0.281055</td>\n",
       "    </tr>\n",
       "    <tr>\n",
       "      <th>24</th>\n",
       "      <td>0.304979</td>\n",
       "      <td>0.281019</td>\n",
       "    </tr>\n",
       "    <tr>\n",
       "      <th>25</th>\n",
       "      <td>0.304971</td>\n",
       "      <td>0.281014</td>\n",
       "    </tr>\n",
       "    <tr>\n",
       "      <th>26</th>\n",
       "      <td>0.304969</td>\n",
       "      <td>0.281014</td>\n",
       "    </tr>\n",
       "    <tr>\n",
       "      <th>27</th>\n",
       "      <td>0.304969</td>\n",
       "      <td>0.281014</td>\n",
       "    </tr>\n",
       "    <tr>\n",
       "      <th>28</th>\n",
       "      <td>0.304969</td>\n",
       "      <td>0.281014</td>\n",
       "    </tr>\n",
       "    <tr>\n",
       "      <th>29</th>\n",
       "      <td>0.304969</td>\n",
       "      <td>0.281014</td>\n",
       "    </tr>\n",
       "    <tr>\n",
       "      <th>30</th>\n",
       "      <td>0.304969</td>\n",
       "      <td>0.281014</td>\n",
       "    </tr>\n",
       "  </tbody>\n",
       "</table>\n",
       "</div>"
      ],
      "text/plain": [
       "    3 features train loss  3 features validation loss\n",
       "0                0.692946                    0.692942\n",
       "1                0.692510                    0.692500\n",
       "2                0.691142                    0.691110\n",
       "3                0.686889                    0.686789\n",
       "4                0.674154                    0.673850\n",
       "5                0.639960                    0.639104\n",
       "6                0.570692                    0.568688\n",
       "7                0.489036                    0.485555\n",
       "8                0.440993                    0.436381\n",
       "9                0.426229                    0.420993\n",
       "10               0.423338                    0.417788\n",
       "11               0.422283                    0.416474\n",
       "12               0.420138                    0.413803\n",
       "13               0.414724                    0.407011\n",
       "14               0.405214                    0.394533\n",
       "15               0.396724                    0.382085\n",
       "16               0.390886                    0.372971\n",
       "17               0.382425                    0.362332\n",
       "18               0.364943                    0.343271\n",
       "19               0.338732                    0.315652\n",
       "20               0.316683                    0.292761\n",
       "21               0.307504                    0.283476\n",
       "22               0.305363                    0.281398\n",
       "23               0.305026                    0.281055\n",
       "24               0.304979                    0.281019\n",
       "25               0.304971                    0.281014\n",
       "26               0.304969                    0.281014\n",
       "27               0.304969                    0.281014\n",
       "28               0.304969                    0.281014\n",
       "29               0.304969                    0.281014\n",
       "30               0.304969                    0.281014"
      ]
     },
     "execution_count": 22,
     "metadata": {},
     "output_type": "execute_result"
    }
   ],
   "source": [
    "# print out the results in clear tabular format\n",
    "pd.DataFrame(np.transpose([tr_loss_list, va_loss_list]), columns=['3 features train loss', '3 features validation loss'])"
   ]
  },
  {
   "cell_type": "code",
   "execution_count": 23,
   "metadata": {},
   "outputs": [],
   "source": [
    "min_loss_N3 = min(va_loss_list)\n",
    "index_N3 = va_loss_list.index(min_loss_N3)\n",
    "best_C_N3 =  C_grid[index_N3]"
   ]
  },
  {
   "cell_type": "markdown",
   "metadata": {},
   "source": [
    "#### Plot logistic loss (y-axis) vs. C (x-axis) for the 3-feature classifiers on the training set and validation set.\n",
    "\n",
    "Again, the best values for `C` and the loss should be printed."
   ]
  },
  {
   "cell_type": "code",
   "execution_count": 24,
   "metadata": {},
   "outputs": [
    {
     "data": {
      "image/png": "[encoded data removed]",
      "text/plain": [
       "<Figure size 576x396 with 1 Axes>"
      ]
     },
     "metadata": {},
     "output_type": "display_data"
    },
    {
     "name": "stdout",
     "output_type": "stream",
     "text": [
      "Best C-value for LR with 2-feature data: 1000000.000\n",
      "Validation set log-loss at best C-value: 0.2810\n"
     ]
    }
   ],
   "source": [
    "plt.xlabel('log10(C)');\n",
    "plt.ylabel('logistic loss');\n",
    "plt.ylim([0.0, 0.7]);\n",
    "\n",
    "sns.lineplot(x = np.log10(C_grid), y = tr_loss_list, label = \"Train Loss\", color = \"red\", marker='o')\n",
    "sns.lineplot(x = np.log10(C_grid), y = va_loss_list,label = \"Validation Loss\", color = \"blue\", marker='o')\n",
    "\n",
    "# show a legend on the plot \n",
    "plt.legend() \n",
    "plt.title('Logistic loss of 3-feature on C-grid')\n",
    "plt.show()\n",
    "\n",
    "print(\"Best C-value for LR with 2-feature data: %.3f\" % best_C_N3) \n",
    "print(\"Validation set log-loss at best C-value: %.4f\" % min_loss_N3)"
   ]
  },
  {
   "cell_type": "markdown",
   "metadata": {},
   "source": [
    "#### Plot the performance of the predictions made by the best 3-valued classifier on the validation set."
   ]
  },
  {
   "cell_type": "code",
   "execution_count": 25,
   "metadata": {},
   "outputs": [
    {
     "data": {
      "image/png": "[encoded data removed]",
      "text/plain": [
       "<Figure size 864x576 with 3 Axes>"
      ]
     },
     "metadata": {},
     "output_type": "display_data"
    }
   ],
   "source": [
    "best_model_N3 = N3_model_list[index_N3]\n",
    "yprob_va_N3 = best_model_N3.predict_proba(x_va_N3)\n",
    "make_plot_perf_vs_threshold(y_va_N, yprob_va_N3[:, 1],bin_edges=np.linspace(0, 1, 21))"
   ]
  },
  {
   "cell_type": "markdown",
   "metadata": {},
   "source": [
    "### 5: ROC Curves\n",
    "\n",
    "These curves allow us to compare model performance in terms of trade-offs between false positive and true positive results.\n",
    "\n",
    "#### (a) Plot ROC curves on the validation set.\n",
    "\n",
    "There should be two curves in the plot, one for each of the best two classifiers from prior steps."
   ]
  },
  {
   "cell_type": "code",
   "execution_count": 26,
   "metadata": {},
   "outputs": [
    {
     "data": {
      "image/png": "[encoded data removed]",
      "text/plain": [
       "<Figure size 576x396 with 1 Axes>"
      ]
     },
     "metadata": {},
     "output_type": "display_data"
    }
   ],
   "source": [
    "fpr_va_N2, tpr_va_N2, thr_N2 = sklearn.metrics.roc_curve(y_va_N, yprob_va_N2[:, 1])\n",
    "fpr_va_N3, tpr_va_N3, thr_N3 = sklearn.metrics.roc_curve(y_va_N, yprob_va_N3[:, 1])\n",
    "\n",
    "plt.ylim([0, 1]);\n",
    "plt.xlabel(\"False Postive rate (FPR = 1 - TPR)\")\n",
    "plt.ylabel(\"True Postive rate (TPR)\")\n",
    "\n",
    "plt.plot(fpr_va_N2, tpr_va_N2, label = \"2-feature\", color = \"red\", marker='o')\n",
    "plt.plot(fpr_va_N3, tpr_va_N3, label = \"3-feature\", color = \"blue\", marker='o')\n",
    "\n",
    "# show a legend on the plot \n",
    "plt.legend() \n",
    "plt.title(\"2-feature & 3-feature ROC Curve on Validation Set\")\n",
    "plt.show()"
   ]
  },
  {
   "cell_type": "markdown",
   "metadata": {},
   "source": [
    "#### (b) Plot ROC curves on the test set.\n",
    "\n",
    "There should be two curves in the plot, one for each of the best two classifiers from prior steps."
   ]
  },
  {
   "cell_type": "code",
   "execution_count": 27,
   "metadata": {},
   "outputs": [
    {
     "data": {
      "image/png": "[encoded data removed]",
      "text/plain": [
       "<Figure size 576x396 with 1 Axes>"
      ]
     },
     "metadata": {},
     "output_type": "display_data"
    }
   ],
   "source": [
    "yprob_te_N2 = best_model_N2.predict_proba(x_te_N2)\n",
    "yprob_te_N3 = best_model_N3.predict_proba(x_te_N3)\n",
    "\n",
    "fpr_te_N2, tpr_te_N2, thr = sklearn.metrics.roc_curve(y_te_N, yprob_te_N2[:, 1])\n",
    "fpr_te_N3, tpr_te_N3, thr = sklearn.metrics.roc_curve(y_te_N, yprob_te_N3[:, 1])\n",
    "\n",
    "plt.ylim([0, 1]);\n",
    "plt.xlabel(\"False Postive rate (FPR = 1 - TPR)\");\n",
    "plt.ylabel(\"True Postive rate (TPR)\");\n",
    "\n",
    "plt.plot(fpr_te_N2, tpr_te_N2, label = \"2-feature\", color = \"red\", marker='o')\n",
    "plt.plot(fpr_te_N3, tpr_te_N3, label = \"3-feature\", color = \"blue\", marker='o')\n",
    "\n",
    "# show a legend on the plot \n",
    "plt.legend() \n",
    "plt.title(\"2-feature & 3-feature ROC Curve on Test Set\")\n",
    "plt.show()"
   ]
  },
  {
   "cell_type": "markdown",
   "metadata": {},
   "source": [
    "#### (c) Analyze the results shown in both the above plots, to compare classifier performance."
   ]
  },
  {
   "cell_type": "markdown",
   "metadata": {},
   "source": [
    "**Answer**:\n",
    "\n",
    "Analyze the results to compare the two models, over both data sets. Does one dominate the other in terms of overall performance, or are there areas where one model “wins” and others where the other model does? What does this tell you?\n",
    "\n",
    "Both validation and test set show larger AUROC for 3-feature classifiers, so 3 feature classifiers dominate 2 feature classifiers in terms of overall performance. Although there are cross-overs indicating rarely 2-feature does generates better results at some threshold, overall this trend indicates that using the 3 features are better at predicting 2 features. \n"
   ]
  },
  {
   "cell_type": "markdown",
   "metadata": {},
   "source": [
    "### 6: Selecting a decision threshold\n",
    "\n",
    "#### (a) Using default 0.5 threshold. \n",
    "\n",
    "Generate a confusion matrix for the best 3-feature logistic model on the test set, using threshold 0.5."
   ]
  },
  {
   "cell_type": "code",
   "execution_count": 28,
   "metadata": {},
   "outputs": [
    {
     "name": "stdout",
     "output_type": "stream",
     "text": [
      "Chosen best thr = 0.5000\n",
      "\n",
      "ON THE TEST SET:\n",
      "Predicted    0   1\n",
      "True              \n",
      "0          152   3\n",
      "1           15  10\n",
      "\n",
      "0.900 ACC\n",
      "0.400 TPR\n",
      "0.981 TNR\n",
      "0.769 PPV\n",
      "0.910 NPV\n"
     ]
    }
   ],
   "source": [
    "best_thr = 0.5\n",
    "\n",
    "print(\"Chosen best thr = %.4f\" % best_thr)\n",
    "print(\"\")\n",
    "print(\"ON THE TEST SET:\")\n",
    "print(calc_confusion_matrix_for_threshold(y_te_N, yprob_te_N3[:,1], best_thr))\n",
    "print(\"\")\n",
    "print_perf_metrics_for_threshold(y_te_N, yprob_te_N3[:,1], best_thr)"
   ]
  },
  {
   "cell_type": "markdown",
   "metadata": {},
   "source": [
    "#### (b) Pick a threshold to maximize TPR, while ensuring PPV >= 0.98.\n",
    "\n",
    "After finding the best threshold on the validation set, plot its confusion matrix and print its various performance metrics, for the test set."
   ]
  },
  {
   "cell_type": "code",
   "execution_count": 29,
   "metadata": {},
   "outputs": [
    {
     "name": "stdout",
     "output_type": "stream",
     "text": [
      "ON THE VALIDATION SET:\n",
      "Chosen best thr = 0.6290\n",
      "\n",
      "ON THE TEST SET:\n",
      "Predicted    0  1\n",
      "True             \n",
      "0          155  0\n",
      "1           20  5\n",
      "\n",
      "0.889 ACC\n",
      "0.200 TPR\n",
      "1.000 TNR\n",
      "1.000 PPV\n",
      "0.886 NPV\n"
     ]
    }
   ],
   "source": [
    "thresh_grid, perf_grid = compute_perf_metrics_across_thresholds(y_va_N, yprob_va_N3[:,1])\n",
    "perf_grid\n",
    "\n",
    "qualified_index = np.argwhere(perf_grid['ppv'] >= 0.98)\n",
    "filtered_tpr = perf_grid['tpr'][qualified_index]\n",
    "\n",
    "max_tpr = np.argmax(filtered_tpr)\n",
    "best_i = qualified_index[max_tpr]\n",
    "best_thr = thresh_grid[best_i] \n",
    "\n",
    "print(\"ON THE VALIDATION SET:\")\n",
    "print(\"Chosen best thr = %.4f\" % best_thr)\n",
    "print(\"\")\n",
    "print(\"ON THE TEST SET:\")\n",
    "print(calc_confusion_matrix_for_threshold(y_te_N, yprob_te_N3[:,1], best_thr))\n",
    "print(\"\")\n",
    "print_perf_metrics_for_threshold(y_te_N, yprob_te_N3[:,1], best_thr)"
   ]
  },
  {
   "cell_type": "markdown",
   "metadata": {},
   "source": [
    "#### (c) Pick a threshold to maximize PPV, while ensuring TPR >= 0.98.\n",
    "\n",
    "After finding the best threshold on the validation set, plot its confusion matrix and print its various performance metrics, for the test set."
   ]
  },
  {
   "cell_type": "code",
   "execution_count": 30,
   "metadata": {},
   "outputs": [
    {
     "name": "stdout",
     "output_type": "stream",
     "text": [
      "ON THE VALIDATION SET:\n",
      "Chosen best thr = 0.0300\n",
      "\n",
      "ON THE TEST SET:\n",
      "Predicted   0   1\n",
      "True             \n",
      "0          57  98\n",
      "1           0  25\n",
      "\n",
      "0.456 ACC\n",
      "1.000 TPR\n",
      "0.368 TNR\n",
      "0.203 PPV\n",
      "1.000 NPV\n"
     ]
    }
   ],
   "source": [
    "thresh_grid, perf_grid = compute_perf_metrics_across_thresholds(y_va_N, yprob_va_N3[:,1])\n",
    "perf_grid\n",
    "\n",
    "qualified_index = np.argwhere(perf_grid['tpr'] >= 0.98)\n",
    "filtered_ppv = perf_grid['ppv'][qualified_index]\n",
    "\n",
    "max_ppv = np.argmax(filtered_ppv)\n",
    "best_i = qualified_index[max_ppv]\n",
    "best_thr = thresh_grid[best_i] \n",
    "\n",
    "\n",
    "print(\"ON THE VALIDATION SET:\")\n",
    "print(\"Chosen best thr = %.4f\" % best_thr) \n",
    "print(\"\")\n",
    "print(\"ON THE TEST SET:\")\n",
    "print(calc_confusion_matrix_for_threshold(y_te_N, yprob_te_N3[:,1], best_thr))\n",
    "print(\"\")\n",
    "print_perf_metrics_for_threshold(y_te_N, yprob_te_N3[:,1], best_thr)"
   ]
  },
  {
   "cell_type": "markdown",
   "metadata": {},
   "source": [
    "#### (d) Compare the confusion matrices from (a)–(c) to analyze the different thresholds."
   ]
  },
  {
   "cell_type": "markdown",
   "metadata": {},
   "source": [
    "**Answer**: \n",
    "\n",
    "\n",
    "Life-threatening mistakes are those predicted negative while the patient actually have cancer(false negative). If we want to avoid life-threatening mistakes at all costs, we should choose the threshold at 0.03, which maximize PPV, while ensuring TPR >= 0.98. In this way, we can also eliminate unnecessary biopsy operations.  \n"
   ]
  },
  {
   "cell_type": "markdown",
   "metadata": {},
   "source": [
    "#### (e) How many biopsies can be avoided using the best threshold for the classifier?"
   ]
  },
  {
   "cell_type": "markdown",
   "metadata": {},
   "source": [
    "**Answer**: If we were to use the threshold at 0.03, we can save 57 people who are true negatives from unnecessary biopsy operations. That is, 57/(57+98+25) = 31.67% of the people can avoid biopsies if this classifier were used by the hospital."
   ]
  },
  {
   "cell_type": "code",
   "execution_count": null,
   "metadata": {},
   "outputs": [],
   "source": []
  }
 ],
 "metadata": {
  "kernelspec": {
   "display_name": "Python 3",
   "language": "python",
   "name": "python3"
  },
  "language_info": {
   "codemirror_mode": {
    "name": "ipython",
    "version": 3
   },
   "file_extension": ".py",
   "mimetype": "text/x-python",
   "name": "python",
   "nbconvert_exporter": "python",
   "pygments_lexer": "ipython3",
   "version": "3.8.2"
  }
 },
 "nbformat": 4,
 "nbformat_minor": 2
}
