{
 "cells": [
  {
   "cell_type": "markdown",
   "id": "plain-burden",
   "metadata": {},
   "source": [
    "## Learning about the logistic regression classifier model\n",
    "\n",
    "Some experiments with logistic regression on some smaller data sets."
   ]
  },
  {
   "cell_type": "code",
   "execution_count": 1,
   "id": "impressive-aruba",
   "metadata": {},
   "outputs": [],
   "source": [
    "# imports and setup\n",
    "import numpy as np\n",
    "from numpy.random import default_rng\n",
    "\n",
    "from sklearn.datasets import make_classification, load_digits\n",
    "from sklearn.linear_model import LogisticRegression\n",
    "from sklearn.metrics import roc_curve, roc_auc_score, log_loss, confusion_matrix\n",
    "from sklearn.model_selection import train_test_split\n",
    "\n",
    "import matplotlib\n",
    "import matplotlib.pyplot as plt\n",
    "import seaborn as sns\n",
    "\n",
    "%matplotlib inline\n",
    "np.set_printoptions(suppress=True, precision=3)"
   ]
  },
  {
   "cell_type": "markdown",
   "id": "seeing-market",
   "metadata": {},
   "source": [
    "### Plotting functions\n",
    "\n",
    "Each of these will generate some plotted 2-dimensional, 2-class data.  3 versions:\n",
    "1. Plots just the data points (class 0, class 1).\n",
    "2. Plots the data with a separator and region coloring: the separator is the default classification threshold for logistic regression (given two ouput classes, this is at probability-value $0.5$); each side of the threshold is colored to correspond to the most likely class.\n",
    "3. Plots the data with a separator and a gradient of the various output regions for the logistic regression.  These get smaller on one side of the $0.5$ separator threshold, going to $0.0$ on one side and $1.0$ on the other.  This is typically interpreted as reflecting less/more likelihood of belonging to a given class in the data."
   ]
  },
  {
   "cell_type": "code",
   "execution_count": 2,
   "id": "subtle-madrid",
   "metadata": {},
   "outputs": [],
   "source": [
    "# Plot basic data points, where x is class 0 (\"negative data\") \n",
    "# and o is class 1 (\"positive data\").\n",
    "def plot_data(x, y):\n",
    "    plot_x_min, plot_x_max = x[:, 0].min() - 1, x[:, 0].max() + 1\n",
    "    plot_y_min, plot_y_max = x[:, 1].min() - 1, x[:, 1].max() + 1\n",
    "    \n",
    "    # plot the basic data points\n",
    "    class0_x = x[y==0]\n",
    "    class1_x = x[y==1]\n",
    "    plt.scatter(class0_x[:,0], class0_x[:,1], c='r', marker='x', label='Class 0')\n",
    "    plt.scatter(class1_x[:,0], class1_x[:,1], c='b', marker='o', label='Class 1')\n",
    "    \n",
    "    plt.xlim(plot_x_min, plot_x_max)\n",
    "    plt.ylim(plot_y_min, plot_y_max)\n",
    "    plt.legend()\n",
    "    plt.title(\"Basic data\")"
   ]
  },
  {
   "cell_type": "code",
   "execution_count": 3,
   "id": "deluxe-genius",
   "metadata": {},
   "outputs": [],
   "source": [
    "# Plot basic data points, where x is class 0 (\"negative data\") \n",
    "# and o is class 1 (\"positive data\"). Also plots the separator,\n",
    "# i.e. the line where the logistic output is 0.5 (the default\n",
    "# threshold used by the predict() function), and colors each\n",
    "# side of the separator by the output class (0/1).\n",
    "def plot_model_prediction(model, x, y):\n",
    "    plot_x_min, plot_x_max = x[:, 0].min() - 1, x[:, 0].max() + 1\n",
    "    plot_y_min, plot_y_max = x[:, 1].min() - 1, x[:, 1].max() + 1\n",
    "    \n",
    "    # plot the separator\n",
    "    model_intercept = model.intercept_[0]\n",
    "    weight1, weight2 = model.coef_.T\n",
    "    line_intercept = -model_intercept/weight2\n",
    "    line_slope = -weight1/weight2\n",
    "    line_x = np.array([plot_x_min, plot_x_max])\n",
    "    line_y = line_slope * line_x + line_intercept\n",
    "    plt.plot(line_x, line_y, 'm', lw=1, ls='--')\n",
    "    \n",
    "    # plot the probability contour\n",
    "    xx, yy = np.meshgrid(np.arange(plot_x_min, plot_x_max, 0.01),\n",
    "                         np.arange(plot_y_min, plot_y_max, 0.01))\n",
    "    vx, vy = xx.flatten(), yy.flatten()\n",
    "    vx, vy = vx.reshape((len(vx), 1)), vy.reshape((len(vy), 1))\n",
    "    grid = np.hstack((vx, vy))\n",
    "    \n",
    "    positive_predictions = model.predict(grid)\n",
    "    zz = positive_predictions.reshape(xx.shape)\n",
    "    contour = plt.contourf(xx, yy, zz, \n",
    "                           cmap=matplotlib.colors.ListedColormap(('r','b')), alpha=0.25)\n",
    "\n",
    "    # plot the basic data points\n",
    "    class0_x = x[y==0]\n",
    "    class1_x = x[y==1]\n",
    "    plt.scatter(class0_x[:,0], class0_x[:,1], c='r', marker='x', label='Class 0')\n",
    "    plt.scatter(class1_x[:,0], class1_x[:,1], c='b', marker='o', label='Class 1')\n",
    "        \n",
    "    plt.xlim(plot_x_min, plot_x_max)\n",
    "    plt.ylim(plot_y_min, plot_y_max)\n",
    "    plt.legend()\n",
    "    plt.title(\"Classification regions\")"
   ]
  },
  {
   "cell_type": "code",
   "execution_count": 4,
   "id": "separate-being",
   "metadata": {},
   "outputs": [],
   "source": [
    "# Plot basic data points, where x is class 0 (\"negative data\") \n",
    "# and o is class 1 (\"positive data\"). Also plots the separator,\n",
    "# i.e. the line where the logistic output is 0.5 (the default\n",
    "# threshold used by the predict() function), and a gradient showing\n",
    "# a range of values output by the logistic.\n",
    "def plot_model_contour(model, x, y):\n",
    "    plot_x_min, plot_x_max = x[:, 0].min() - 1, x[:, 0].max() + 1\n",
    "    plot_y_min, plot_y_max = x[:, 1].min() - 1, x[:, 1].max() + 1\n",
    "    \n",
    "    # plot the separator\n",
    "    model_intercept = model.intercept_[0]\n",
    "    weight1, weight2 = model.coef_.T\n",
    "    line_intercept = -model_intercept/weight2\n",
    "    line_slope = -weight1/weight2\n",
    "    line_x = np.array([plot_x_min, plot_x_max])\n",
    "    line_y = line_slope * line_x + line_intercept\n",
    "    plt.plot(line_x, line_y, 'm', lw=1, ls='--')\n",
    "    \n",
    "    # plot the probability contour\n",
    "    xx, yy = np.meshgrid(np.arange(plot_x_min, plot_x_max, 0.1),\n",
    "                         np.arange(plot_y_min, plot_y_max, 0.1))\n",
    "    vx, vy = xx.flatten(), yy.flatten()\n",
    "    vx, vy = vx.reshape((len(vx), 1)), vy.reshape((len(vy), 1))\n",
    "    grid = np.hstack((vx, vy))\n",
    "    \n",
    "    # the plot of various regions of the logistic output;\n",
    "    # you can make this more/less smooth by increasing/decreasing\n",
    "    # the 'levels' parameter below.\n",
    "    positive_predictions = model.predict_proba(grid)[:, 1]\n",
    "    zz = positive_predictions.reshape(xx.shape)\n",
    "    contour = plt.contourf(xx, yy, zz, cmap='Greys', levels=10)\n",
    "    plt.colorbar(contour)\n",
    "\n",
    "    # plot the basic data points\n",
    "    class0_x = x[y==0]\n",
    "    class1_x = x[y==1]\n",
    "    plt.scatter(class0_x[:,0], class0_x[:,1], c='r', marker='x', label='Class 0')\n",
    "    plt.scatter(class1_x[:,0], class1_x[:,1], c='b', marker='o', label='Class 1')\n",
    "    \n",
    "    plt.xlim(plot_x_min, plot_x_max)\n",
    "    plt.ylim(plot_y_min, plot_y_max)\n",
    "    plt.legend()\n",
    "    plt.title(\"Probability(x in class 1)\")"
   ]
  },
  {
   "cell_type": "markdown",
   "id": "formed-inflation",
   "metadata": {},
   "source": [
    "## Basic logistic regression on 2-class synthetic data"
   ]
  },
  {
   "cell_type": "code",
   "execution_count": 6,
   "id": "amazing-mississippi",
   "metadata": {},
   "outputs": [
    {
     "data": {
      "image/png": "[encoded data removed]",
      "text/plain": [
       "<Figure size 432x288 with 1 Axes>"
      ]
     },
     "metadata": {
      "needs_background": "light"
     },
     "output_type": "display_data"
    }
   ],
   "source": [
    "x_N, y_N = make_classification(n_samples=50, n_features=2, n_redundant=0, \n",
    "                               n_clusters_per_class=1, class_sep=1)\n",
    "plot_data(x_N, y_N)"
   ]
  },
  {
   "cell_type": "code",
   "execution_count": 7,
   "id": "regulation-nutrition",
   "metadata": {},
   "outputs": [
    {
     "data": {
      "text/plain": [
       "array([[0.317, 0.683],\n",
       "       [0.989, 0.011],\n",
       "       [0.089, 0.911],\n",
       "       [0.497, 0.503],\n",
       "       [0.299, 0.701],\n",
       "       [0.984, 0.016],\n",
       "       [0.199, 0.801],\n",
       "       [0.622, 0.378],\n",
       "       [0.199, 0.801],\n",
       "       [0.848, 0.152],\n",
       "       [0.089, 0.911],\n",
       "       [0.293, 0.707],\n",
       "       [0.815, 0.185],\n",
       "       [0.874, 0.126],\n",
       "       [0.555, 0.445],\n",
       "       [0.317, 0.683],\n",
       "       [0.831, 0.169],\n",
       "       [0.894, 0.106],\n",
       "       [0.885, 0.115],\n",
       "       [0.247, 0.753],\n",
       "       [0.931, 0.069],\n",
       "       [0.071, 0.929],\n",
       "       [0.941, 0.059],\n",
       "       [0.208, 0.792],\n",
       "       [0.953, 0.047],\n",
       "       [0.961, 0.039],\n",
       "       [0.414, 0.586],\n",
       "       [0.082, 0.918],\n",
       "       [0.024, 0.976],\n",
       "       [0.822, 0.178],\n",
       "       [0.399, 0.601],\n",
       "       [0.817, 0.183],\n",
       "       [0.121, 0.879],\n",
       "       [0.654, 0.346],\n",
       "       [0.201, 0.799],\n",
       "       [0.828, 0.172],\n",
       "       [0.046, 0.954],\n",
       "       [0.327, 0.673],\n",
       "       [0.417, 0.583],\n",
       "       [0.578, 0.422],\n",
       "       [0.959, 0.041],\n",
       "       [0.783, 0.217],\n",
       "       [0.865, 0.135],\n",
       "       [0.915, 0.085],\n",
       "       [0.364, 0.636],\n",
       "       [0.048, 0.952],\n",
       "       [0.134, 0.866],\n",
       "       [0.574, 0.426],\n",
       "       [0.674, 0.326],\n",
       "       [0.045, 0.955]])"
      ]
     },
     "execution_count": 7,
     "metadata": {},
     "output_type": "execute_result"
    }
   ],
   "source": [
    "model = LogisticRegression()\n",
    "model.fit(x_N, y_N)\n",
    "\n",
    "# prob\n",
    "y_pred = model.predict_proba(x_N)\n",
    "y_pred\n",
    "\n",
    "# predict\n",
    "# y_pred = model.predict(x_N)\n",
    "# y_pred"
   ]
  },
  {
   "cell_type": "markdown",
   "id": "searching-boring",
   "metadata": {},
   "source": [
    "#### Sample outputs\n",
    "We can see that, for a random selection of 5 data points, the `predict()` function gives output that is in the form of the usual discrete class label (0/1).  This class is derived from the output of the logistic itself, which can be obtained directly using `predict_proba()`.  Label predictions are chosen based upon the class that gets the highest probability, which means that we are using a threshold of $0.5$ on binary-class data."
   ]
  },
  {
   "cell_type": "code",
   "execution_count": 8,
   "id": "purple-settle",
   "metadata": {},
   "outputs": [
    {
     "data": {
      "text/plain": [
       "array([[-0.305,  2.505],\n",
       "       [-0.556,  0.458],\n",
       "       [-0.119,  2.194],\n",
       "       [-0.919, -1.177],\n",
       "       [-1.727,  0.318]])"
      ]
     },
     "execution_count": 8,
     "metadata": {},
     "output_type": "execute_result"
    }
   ],
   "source": [
    "rng = default_rng()\n",
    "sample_data = rng.choice(x_N, 5)\n",
    "sample_data"
   ]
  },
  {
   "cell_type": "code",
   "execution_count": 8,
   "id": "better-marine",
   "metadata": {},
   "outputs": [
    {
     "data": {
      "text/plain": [
       "array([1, 0, 1, 0, 1])"
      ]
     },
     "execution_count": 8,
     "metadata": {},
     "output_type": "execute_result"
    }
   ],
   "source": [
    "model.predict(sample_data)"
   ]
  },
  {
   "cell_type": "code",
   "execution_count": 9,
   "id": "cloudy-spyware",
   "metadata": {},
   "outputs": [
    {
     "data": {
      "text/plain": [
       "array([[0.111, 0.889],\n",
       "       [0.945, 0.055],\n",
       "       [0.077, 0.923],\n",
       "       [0.944, 0.056],\n",
       "       [0.049, 0.951]])"
      ]
     },
     "execution_count": 9,
     "metadata": {},
     "output_type": "execute_result"
    }
   ],
   "source": [
    "model.predict_proba(sample_data)"
   ]
  },
  {
   "cell_type": "code",
   "execution_count": 9,
   "id": "breathing-kentucky",
   "metadata": {},
   "outputs": [
    {
     "data": {
      "image/png": "[encoded data removed]",
      "text/plain": [
       "<Figure size 432x288 with 1 Axes>"
      ]
     },
     "metadata": {
      "needs_background": "light"
     },
     "output_type": "display_data"
    }
   ],
   "source": [
    "plot_model_prediction(model, x_N, y_N)"
   ]
  },
  {
   "cell_type": "code",
   "execution_count": 11,
   "id": "legitimate-lottery",
   "metadata": {},
   "outputs": [
    {
     "data": {
      "image/png": "[encoded data removed]",
      "text/plain": [
       "<Figure size 432x288 with 2 Axes>"
      ]
     },
     "metadata": {
      "needs_background": "light"
     },
     "output_type": "display_data"
    }
   ],
   "source": [
    "plot_model_contour(model, x_N, y_N)"
   ]
  },
  {
   "cell_type": "markdown",
   "id": "uniform-sweden",
   "metadata": {},
   "source": [
    "#### Basic model metrics\n",
    "\n",
    "We can compute a number of metrics of model performance, either using the model itself, or using its predictions and outside functions."
   ]
  },
  {
   "cell_type": "code",
   "execution_count": 12,
   "id": "removable-directory",
   "metadata": {},
   "outputs": [],
   "source": [
    "y_pred = model.predict(x_N)\n",
    "y_prob = model.predict_proba(x_N)"
   ]
  },
  {
   "cell_type": "code",
   "execution_count": 13,
   "id": "elect-script",
   "metadata": {},
   "outputs": [
    {
     "data": {
      "text/plain": [
       "1.0"
      ]
     },
     "execution_count": 13,
     "metadata": {},
     "output_type": "execute_result"
    }
   ],
   "source": [
    "# Metric 1: this is based solely upon basic accuracy \n",
    "# (fraction of correct outputs from the predict() function).\n",
    "model.score(x_N, y_N)"
   ]
  },
  {
   "cell_type": "code",
   "execution_count": 14,
   "id": "lesser-diana",
   "metadata": {},
   "outputs": [
    {
     "data": {
      "text/plain": [
       "0.048858925113763246"
      ]
     },
     "execution_count": 14,
     "metadata": {},
     "output_type": "execute_result"
    }
   ],
   "source": [
    "# Metric 2: we can also see what the logistic loss is; this is what\n",
    "# the model algorithms seek to minimize, but is generally pretty meaningless\n",
    "# to us, except that (a) if we compare two models on the same data, lower\n",
    "# numbers are better, and (b) if logistic loss is 0, we have the best possible result.\n",
    "log_loss(y_N, y_prob)"
   ]
  },
  {
   "cell_type": "code",
   "execution_count": 15,
   "id": "nuclear-ebony",
   "metadata": {},
   "outputs": [
    {
     "data": {
      "text/plain": [
       "9.992007221626415e-16"
      ]
     },
     "execution_count": 15,
     "metadata": {},
     "output_type": "execute_result"
    }
   ],
   "source": [
    "# ERROR ERROR ERROR!!!\n",
    "# A common mistake is to use the output of predict() and then compute logistic loss.\n",
    "# This is always too high—it treats every prediction as an extreme probability, and\n",
    "# means that every element that is incorrect gives maximum loss, whereas properly \n",
    "# measured logistic loss treats numbers that are closer to what they should be as\n",
    "# generating less loss, even if the prediction threshold misclassifies them per se.\n",
    "log_loss(y_N, y_pred)"
   ]
  },
  {
   "cell_type": "markdown",
   "id": "creative-dealing",
   "metadata": {},
   "source": [
    "#### ROC curve metrics\n",
    "We can use the `roc_curve()` and `roc_auc_score()` functions to see how the model does across various possible thresholds.  If we want to set our threshold for classification to achieve a different TPR/FPR trade-off (or something else), we can simply use `predict_proba()` and then write our own simple version of `predict()` that assigns discrete classes based upon whatever\n",
    "threshold we like.\n",
    "\n",
    "In the code below, `fpr`, `tpr`, and `thresholds` are returned as lists of the various T/F positive rates, relative to different possible thresholds for classification.\n",
    "\n",
    "**However**: be aware that interpreting the `thresholds` value requires some care.  In particular, it will usually contain some value(s) greater than $1.0$ (which, obviously, can't be treated as a probability threshold directly).  Read the documentation to see what's going on there, and do some research if you're trying to use these numbers as probability thresholds to make sure you know what is going on."
   ]
  },
  {
   "cell_type": "code",
   "execution_count": 16,
   "id": "classical-singles",
   "metadata": {},
   "outputs": [
    {
     "data": {
      "image/png": "[encoded data removed]",
      "text/plain": [
       "<Figure size 432x288 with 1 Axes>"
      ]
     },
     "metadata": {
      "needs_background": "light"
     },
     "output_type": "display_data"
    }
   ],
   "source": [
    "# Note: with only data points, mostly the ROC curve is going to be pretty boring,\n",
    "# in the sense that it won't have many points, or is even \"perfect\" (with area = 1.0).\n",
    "# If you go back to the start of all this code, and make the data-set size larger in \n",
    "# the make_classification() function, you will get more interesting results.\n",
    "probs_class1 = y_prob[:,1]\n",
    "auroc = roc_auc_score(y_N, probs_class1)\n",
    "fpr, tpr, thresholds = roc_curve(y_N, probs_class1)\n",
    "plt.plot(fpr, tpr, marker='.', label='Logistic')\n",
    "plt.title('AUROC = %.3f' % auroc)\n",
    "plt.xlabel('False positive rate')\n",
    "plt.ylabel('True positive rate')\n",
    "plt.legend();"
   ]
  },
  {
   "cell_type": "code",
   "execution_count": 17,
   "id": "assumed-brick",
   "metadata": {},
   "outputs": [
    {
     "name": "stdout",
     "output_type": "stream",
     "text": [
      "Threshold: 1.999614, TPR: 0.000000, FPR: 0.000000\n",
      "Threshold: 0.999614, TPR: 0.040000, FPR: 0.000000\n",
      "Threshold: 0.733231, TPR: 1.000000, FPR: 0.000000\n",
      "Threshold: 0.032145, TPR: 1.000000, FPR: 1.000000\n"
     ]
    }
   ],
   "source": [
    "for i in range(len(fpr)):\n",
    "    print(\"Threshold: %f, TPR: %f, FPR: %f\" % (thresholds[i], tpr[i], fpr[i]))"
   ]
  },
  {
   "cell_type": "markdown",
   "id": "neural-tsunami",
   "metadata": {},
   "source": [
    "### A built-in test data-set of digit images\n",
    "We can use `load_digits()` to use a pre-defined set of about 1,800 low-resolution images of the digits $0, 1, \\ldots, 9$.  Each of these images consists of 64 grayscale pixel values, rolled out into a single vector of values, like all input data.  We can reshape and display the data as an $(8 \\times 8)$ image if we like, but when we feed it into models it needs to be in its usual one-dimensional $\\mathbf{x}$-vector form."
   ]
  },
  {
   "cell_type": "code",
   "execution_count": 18,
   "id": "tender-mandate",
   "metadata": {},
   "outputs": [
    {
     "name": "stdout",
     "output_type": "stream",
     "text": [
      "Data shape:  (1797, 64)\n"
     ]
    }
   ],
   "source": [
    "digits = load_digits()\n",
    "print(\"Data shape: \", digits.data.shape)"
   ]
  },
  {
   "cell_type": "code",
   "execution_count": 19,
   "id": "middle-pickup",
   "metadata": {},
   "outputs": [
    {
     "name": "stdout",
     "output_type": "stream",
     "text": [
      "Data input:  [ 0.  0.  3. 13. 13.  3.  0.  0.  0.  0. 14.  8.  7. 15.  1.  0.  0.  3.\n",
      " 16.  0.  0.  9.  6.  0.  0.  6. 13.  0.  0.  4.  8.  0.  0.  4.  9.  0.\n",
      "  0.  4.  8.  0.  0.  1. 13.  0.  0.  5.  8.  0.  0.  0. 14.  7.  0. 11.\n",
      "  4.  0.  0.  0.  3. 15. 16. 14.  0.  0.]\n",
      "Data label:  0\n"
     ]
    }
   ],
   "source": [
    "indices = rng.choice(digits.data.shape[0], 5)\n",
    "random_data = digits.data[indices]\n",
    "random_data_labels = digits.target[indices]\n",
    "\n",
    "# Here's a single random data point, as stored in input/label form\n",
    "print(\"Data input: \", random_data[0])\n",
    "print(\"Data label: \", random_data_labels[0])"
   ]
  },
  {
   "cell_type": "code",
   "execution_count": 20,
   "id": "chicken-bulgaria",
   "metadata": {},
   "outputs": [
    {
     "data": {
      "image/png": "[encoded data removed]",
      "text/plain": [
       "<Figure size 1440x216 with 5 Axes>"
      ]
     },
     "metadata": {
      "needs_background": "light"
     },
     "output_type": "display_data"
    }
   ],
   "source": [
    "# Here are 5 such random data points, reshaped and displayed as images\n",
    "plt.figure(figsize=(20, 3))\n",
    "for index, (img, out) in enumerate(zip(random_data, random_data_labels)):\n",
    "    plt.subplot(1, 5, index + 1)\n",
    "    plt.imshow(np.reshape(img, (8,8)), cmap=plt.cm.gray)\n",
    "    plt.title('Label = %i\\n' % out, fontsize=20)"
   ]
  },
  {
   "cell_type": "markdown",
   "id": "german-badge",
   "metadata": {},
   "source": [
    "#### Using logistic regression with multi-class ($k > 2$) data\n",
    "Since the logistic model just assigns probability-like values, summing to $1.0$, it can easily handle multi-class data.  Again, if you use the `predict()` function, it will just generate the probability-values using `predict_proba()` and then assign each data point to the class that has the largest such value.  (The implicit threshold for classification is thus more complicated to work out, since it really depends upon all the labels.)"
   ]
  },
  {
   "cell_type": "code",
   "execution_count": 21,
   "id": "aerial-incident",
   "metadata": {},
   "outputs": [
    {
     "name": "stdout",
     "output_type": "stream",
     "text": [
      "Basic accuracy:  0.9611111111111111\n"
     ]
    }
   ],
   "source": [
    "x_train, x_test, y_train, y_test = train_test_split(digits.data, digits.target, test_size=0.2)\n",
    "model = LogisticRegression(max_iter=10_000)\n",
    "model.fit(x_train, y_train)\n",
    "predictions = model.predict(x_test)\n",
    "score = model.score(x_test, y_test)\n",
    "print(\"Basic accuracy: \", score)"
   ]
  },
  {
   "cell_type": "markdown",
   "id": "institutional-blade",
   "metadata": {},
   "source": [
    "#### Confusion matrices\n",
    "The `confusion_matrix()` function will generate results for multi-class data, too.  In this case, it has 10 rows and columns, one each for predicted label and actual label, both from $[0,9]$."
   ]
  },
  {
   "cell_type": "code",
   "execution_count": 22,
   "id": "judicial-egyptian",
   "metadata": {},
   "outputs": [
    {
     "name": "stdout",
     "output_type": "stream",
     "text": [
      "[[40  0  0  0  0  0  0  0  0  0]\n",
      " [ 0 38  0  0  0  0  0  0  1  0]\n",
      " [ 0  0 41  0  0  0  0  0  0  0]\n",
      " [ 0  0  0 37  0  2  0  0  0  0]\n",
      " [ 0  0  0  0 32  0  0  1  0  0]\n",
      " [ 0  0  0  1  0 26  0  0  0  2]\n",
      " [ 0  0  0  0  0  0 36  0  0  0]\n",
      " [ 0  0  0  0  0  0  0 29  1  0]\n",
      " [ 0  1  0  0  0  1  1  0 34  0]\n",
      " [ 0  0  0  1  0  1  0  0  1 33]]\n"
     ]
    }
   ],
   "source": [
    "conf_matrix = confusion_matrix(y_test, predictions)\n",
    "print(conf_matrix)"
   ]
  },
  {
   "cell_type": "code",
   "execution_count": 23,
   "id": "express-sphere",
   "metadata": {},
   "outputs": [
    {
     "data": {
      "text/plain": [
       "Text(0.5, 1.0, 'Confusion matrix')"
      ]
     },
     "execution_count": 23,
     "metadata": {},
     "output_type": "execute_result"
    },
    {
     "data": {
      "image/png": "[encoded data removed]",
      "text/plain": [
       "<Figure size 648x648 with 2 Axes>"
      ]
     },
     "metadata": {
      "needs_background": "light"
     },
     "output_type": "display_data"
    }
   ],
   "source": [
    "# The basic CM isn't very pretty, but we can jazz it up with some plotting.\n",
    "plt.figure(figsize=(9, 9))\n",
    "sns.heatmap(conf_matrix, annot=True, linewidths=0.5, cmap='Reds')\n",
    "plt.ylabel('Actual digit')\n",
    "plt.xlabel('Predicted digit')\n",
    "plt.title('Confusion matrix')"
   ]
  },
  {
   "cell_type": "code",
   "execution_count": 24,
   "id": "radio-insulin",
   "metadata": {},
   "outputs": [
    {
     "data": {
      "image/png": "[encoded data removed]",
      "text/plain": [
       "<Figure size 1440x216 with 5 Axes>"
      ]
     },
     "metadata": {
      "needs_background": "light"
     },
     "output_type": "display_data"
    }
   ],
   "source": [
    "# Here, we can see examples of 5 of the data-points that the model gets wrong.  \n",
    "# (This assumes there are at least 5; if not, might need to modify code a bit.)\n",
    "wrong = np.nonzero(predictions != y_test)[0]\n",
    "\n",
    "plt.figure(figsize=(20, 3))\n",
    "for plotIdx, wrongIdx in enumerate(wrong[0:5]):\n",
    "    plt.subplot(1, 5, plotIdx + 1)\n",
    "    plt.imshow(np.reshape(x_test[wrongIdx], (8,8)), cmap=plt.cm.gray)\n",
    "    plt.title('Predicted: {}, Actual: {}'.format(predictions[wrongIdx],\n",
    "             y_test[wrongIdx]))"
   ]
  },
  {
   "cell_type": "code",
   "execution_count": null,
   "id": "complicated-broadway",
   "metadata": {},
   "outputs": [],
   "source": []
  }
 ],
 "metadata": {
  "kernelspec": {
   "display_name": "Python 3",
   "language": "python",
   "name": "python3"
  },
  "language_info": {
   "codemirror_mode": {
    "name": "ipython",
    "version": 3
   },
   "file_extension": ".py",
   "mimetype": "text/x-python",
   "name": "python",
   "nbconvert_exporter": "python",
   "pygments_lexer": "ipython3",
   "version": "3.8.2"
  }
 },
 "nbformat": 4,
 "nbformat_minor": 5
}
