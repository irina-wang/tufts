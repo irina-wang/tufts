{
 "cells": [
  {
   "cell_type": "markdown",
   "id": "proof-recycling",
   "metadata": {},
   "source": [
    "## Basic use of decision trees and ensembles (forests)\n",
    "We can classify data based upon features in a number of ways.  While many such methods use weights applied to those features, *decision trees* instead treat features as variables controlling a branching path through the data, selecting subsets based upon the values of their features, and seeking to classify that data given particular combinations of feature-values.\n",
    "\n",
    "https://scikit-learn.org/stable/modules/generated/sklearn.tree.DecisionTreeClassifier.html\n",
    "\n",
    "A *decision forest* is a combination of multiple such trees.  Such classifiers use the combined outputs of each tree in the forest—in a basic \"voting\" scheme—in order to classify new data.  Each tree in the forest is designed to be somewhat different, usually by using different parts of the training data, different subsets of the overall set of features, and the like.  As a result, decision forests often show better performance with respect to overfitting, since they already introduce a lot of model diversity.\n",
    "\n",
    "https://scikit-learn.org/stable/modules/generated/sklearn.ensemble.RandomForestClassifier.html"
   ]
  },
  {
   "cell_type": "code",
   "execution_count": 17,
   "id": "broad-disease",
   "metadata": {},
   "outputs": [],
   "source": [
    "import numpy as np \n",
    "\n",
    "from sklearn.datasets import make_classification\n",
    "from sklearn.feature_selection import SelectFromModel\n",
    "from sklearn.metrics import accuracy_score\n",
    "from sklearn.model_selection import train_test_split\n",
    "from sklearn.model_selection import KFold\n",
    "from sklearn.model_selection import cross_val_score\n",
    "\n",
    "from sklearn.tree import DecisionTreeClassifier\n",
    "from sklearn.ensemble import RandomForestClassifier\n",
    "\n",
    "from sklearn import set_config\n",
    "set_config(print_changed_only=False)\n",
    "\n",
    "import matplotlib\n",
    "import matplotlib.pyplot as plt\n",
    "import seaborn as sns\n",
    "%matplotlib inline"
   ]
  },
  {
   "cell_type": "code",
   "execution_count": 16,
   "id": "contained-shadow",
   "metadata": {},
   "outputs": [],
   "source": [
    "# A synthetic data set of 10 thousand entries, where only some of the features are likely \n",
    "# to be of practical use in classification.\n",
    "num_features = 25\n",
    "num_inform = 5\n",
    "x, y = make_classification(n_samples=10_000, n_features=num_features, n_informative=num_inform, \n",
    "                           n_redundant=(num_features - num_inform), random_state=13)\n",
    "x_train, x_test, y_train, y_test = train_test_split(x, y, test_size = 0.3, random_state=1)"
   ]
  },
  {
   "cell_type": "markdown",
   "id": "eight-zimbabwe",
   "metadata": {},
   "source": [
    "### A basic decision tree classifier\n",
    "Out-of-the-box performance of a simple decision tree is often a highly-overfit model, as it can use arbitrary levels of complexity in order to divide and sub-divide data into precisely defined (but not very general) categories."
   ]
  },
  {
   "cell_type": "code",
   "execution_count": 3,
   "id": "compressed-badge",
   "metadata": {},
   "outputs": [
    {
     "data": {
      "text/plain": [
       "DecisionTreeClassifier(ccp_alpha=0.0, class_weight=None, criterion='gini',\n",
       "                       max_depth=None, max_features=None, max_leaf_nodes=None,\n",
       "                       min_impurity_decrease=0.0, min_impurity_split=None,\n",
       "                       min_samples_leaf=1, min_samples_split=2,\n",
       "                       min_weight_fraction_leaf=0.0, presort='deprecated',\n",
       "                       random_state=None, splitter='best')"
      ]
     },
     "execution_count": 3,
     "metadata": {},
     "output_type": "execute_result"
    }
   ],
   "source": [
    "# A default model: in this type of tree there are no restrictions on tree size or\n",
    "# any other hyperparameters that might combat overfitting.  The default criterion\n",
    "# for splitting nodes is based upon a statistical notion called the Gini impurity: \n",
    "#      https://en.wikipedia.org/wiki/Decision_tree_learning#Metrics  \n",
    "# \n",
    "model = DecisionTreeClassifier()\n",
    "model"
   ]
  },
  {
   "cell_type": "code",
   "execution_count": 18,
   "id": "atomic-fantasy",
   "metadata": {},
   "outputs": [
    {
     "name": "stdout",
     "output_type": "stream",
     "text": [
      "Train: 1.000; Test: 0.937\n"
     ]
    }
   ],
   "source": [
    "# Trying the model on our test-train split.\n",
    "model.fit(x_train, y_train)\n",
    "pred_train = model.predict(x_train)\n",
    "pred_test = model.predict(x_test)\n",
    "acc_train = accuracy_score(y_train, pred_train)\n",
    "acc_test = accuracy_score(y_test, pred_test)\n",
    "print(\"Train: %.3f; Test: %.3f\" % (acc_train, acc_test))"
   ]
  },
  {
   "cell_type": "code",
   "execution_count": 19,
   "id": "collaborative-remainder",
   "metadata": {},
   "outputs": [
    {
     "name": "stdout",
     "output_type": "stream",
     "text": [
      "Mean acc: 0.947; stdev: 0.008\n"
     ]
    }
   ],
   "source": [
    "# A more robust estimation of the models test performance, using k-fold CV.\n",
    "kfcv = KFold(n_splits=10, random_state=13, shuffle=True)\n",
    "scores = cross_val_score(model, x, y, scoring='accuracy', cv=kfcv, n_jobs=-1)\n",
    "mean_score, std_score = (np.mean(scores), np.std(scores))\n",
    "print(\"Mean acc: %.3f; stdev: %.3f\" % (mean_score, std_score))"
   ]
  },
  {
   "cell_type": "markdown",
   "id": "medieval-stock",
   "metadata": {},
   "source": [
    "### Depth and over-fitting of tree models\n",
    "A default version of the tree can use as much depth as it needs, splitting data on ever-finer levels (especially in a case like this, when numeric data has effectively infinite resolution for splitting).  If we restrict the depth of the tree, we can see comparable, or even better, performance at limited depth."
   ]
  },
  {
   "cell_type": "code",
   "execution_count": 20,
   "id": "steady-humanity",
   "metadata": {},
   "outputs": [
    {
     "name": "stdout",
     "output_type": "stream",
     "text": [
      "Depth:  1; Train: 0.657; Test: 0.649\n",
      "Depth:  2; Train: 0.733; Test: 0.729\n",
      "Depth:  3; Train: 0.794; Test: 0.789\n",
      "Depth:  4; Train: 0.831; Test: 0.824\n",
      "Depth:  5; Train: 0.857; Test: 0.844\n",
      "Depth:  6; Train: 0.895; Test: 0.873\n",
      "Depth:  7; Train: 0.910; Test: 0.886\n",
      "Depth:  8; Train: 0.921; Test: 0.894\n",
      "Depth:  9; Train: 0.934; Test: 0.902\n",
      "Depth: 10; Train: 0.947; Test: 0.904\n",
      "Depth: 11; Train: 0.957; Test: 0.907\n",
      "Depth: 12; Train: 0.965; Test: 0.909\n",
      "Depth: 13; Train: 0.972; Test: 0.909\n",
      "Depth: 14; Train: 0.980; Test: 0.905\n",
      "Depth: 15; Train: 0.984; Test: 0.908\n",
      "Depth: 16; Train: 0.989; Test: 0.907\n",
      "Depth: 17; Train: 0.993; Test: 0.906\n",
      "Depth: 18; Train: 0.996; Test: 0.906\n",
      "Depth: 19; Train: 0.998; Test: 0.909\n",
      "Depth: 20; Train: 0.999; Test: 0.905\n",
      "Depth: 21; Train: 0.999; Test: 0.907\n",
      "Depth: 22; Train: 1.000; Test: 0.905\n",
      "Depth: 23; Train: 1.000; Test: 0.906\n",
      "Depth: 24; Train: 1.000; Test: 0.905\n",
      "Depth: 25; Train: 1.000; Test: 0.904\n"
     ]
    }
   ],
   "source": [
    "depths = range(1, num_features + 1)\n",
    "train_accs = []\n",
    "test_accs = []\n",
    "for depth in depths:\n",
    "    model = DecisionTreeClassifier(max_depth=depth)\n",
    "    model.fit(x, y)\n",
    "    pred = model.predict(x)\n",
    "    acc_train = accuracy_score(y, pred)\n",
    "    scores = cross_val_score(model, x, y, scoring='accuracy', cv=kfcv, n_jobs=-1)\n",
    "    acc_cv = np.mean(scores)\n",
    "    \n",
    "    train_accs.append(acc_train)\n",
    "    test_accs.append(acc_cv)\n",
    "    print(\"Depth: %2d; Train: %.3f; Test: %.3f\" % (depth, acc_train, acc_cv))"
   ]
  },
  {
   "cell_type": "code",
   "execution_count": 21,
   "id": "beneficial-digit",
   "metadata": {},
   "outputs": [
    {
     "data": {
      "image/png": "[encoded data removed]",
      "text/plain": [
       "<Figure size 432x288 with 1 Axes>"
      ]
     },
     "metadata": {
      "needs_background": "light"
     },
     "output_type": "display_data"
    }
   ],
   "source": [
    "plt.plot(depths, train_accs, '-o', label='Train')\n",
    "plt.plot(depths, test_accs, '-o', label='Test')\n",
    "plt.legend();"
   ]
  },
  {
   "cell_type": "markdown",
   "id": "taken-italian",
   "metadata": {},
   "source": [
    "### Feature importance and feature selection\n",
    "Decision trees (and many other models) allow us to investigate which features are actually important to the performance of our models.  In this case, they will be rated according to how much they are telling us about\n",
    "the decision function we are generating.\n",
    "\n",
    "In cases where some features are much more important than others, we can try to build models using only the important ones.  The `SelectFromModel` object automates this process.  Here we use it to extract only those top $k$ features, based upon the use of a decision tree model.\n",
    "\n",
    "https://scikit-learn.org/stable/modules/generated/sklearn.feature_selection.SelectFromModel.html"
   ]
  },
  {
   "cell_type": "code",
   "execution_count": 22,
   "id": "postal-litigation",
   "metadata": {},
   "outputs": [
    {
     "data": {
      "image/png": "[encoded data removed]",
      "text/plain": [
       "<Figure size 432x288 with 1 Axes>"
      ]
     },
     "metadata": {
      "needs_background": "light"
     },
     "output_type": "display_data"
    }
   ],
   "source": [
    "feature_importance = model.feature_importances_\n",
    "plt.bar([val for val in range(len(feature_importance))], feature_importance);"
   ]
  },
  {
   "cell_type": "code",
   "execution_count": 23,
   "id": "billion-creature",
   "metadata": {},
   "outputs": [],
   "source": [
    "def get_important_features(x_train, y_train, max_features):\n",
    "    selector = SelectFromModel(DecisionTreeClassifier(), max_features=max_features, threshold=-np.inf)\n",
    "    selector.fit(x_train, y_train)\n",
    "    x_train_selected = selector.transform(x_train)\n",
    "    return x_train_selected"
   ]
  },
  {
   "cell_type": "code",
   "execution_count": 24,
   "id": "charming-grill",
   "metadata": {},
   "outputs": [
    {
     "name": "stdout",
     "output_type": "stream",
     "text": [
      "Features:  1; Depth: 70; Train: 1.000; Test: 0.905\n",
      "Features:  2; Depth: 35; Train: 1.000; Test: 0.903\n",
      "Features:  3; Depth: 29; Train: 1.000; Test: 0.903\n",
      "Features:  4; Depth: 26; Train: 1.000; Test: 0.904\n",
      "Features:  5; Depth: 23; Train: 1.000; Test: 0.906\n",
      "Features: 10; Depth: 24; Train: 1.000; Test: 0.903\n",
      "Features: 25; Depth: 24; Train: 1.000; Test: 0.906\n"
     ]
    }
   ],
   "source": [
    "# Build models using only a limited number of features (includes all features for comparison).\n",
    "features = [1, 2, 3, 4, 5, 10, num_features]\n",
    "for feature_count in features:\n",
    "    x_train_selected = get_important_features(x, y, feature_count)\n",
    "    model = DecisionTreeClassifier()\n",
    "    model.fit(x_train_selected, y)\n",
    "    pred = model.predict(x_train_selected)\n",
    "    acc_train = accuracy_score(y, pred)\n",
    "    scores = cross_val_score(model, x, y, scoring='accuracy', cv=kfcv, n_jobs=-1)\n",
    "    acc_cv = np.mean(scores)\n",
    "    print(\"Features: %2d; Depth: %2d; Train: %.3f; Test: %.3f\" % \n",
    "          (feature_count, model.tree_.max_depth, acc_train, acc_cv))"
   ]
  },
  {
   "cell_type": "markdown",
   "id": "dramatic-chuck",
   "metadata": {},
   "source": [
    "### Decision forest models\n",
    "A default random forest model often out-performs a default single-tree model, and can be mroe robust against overfitting, even as we let the trees in the forest get deeper."
   ]
  },
  {
   "cell_type": "code",
   "execution_count": 25,
   "id": "outer-fiber",
   "metadata": {},
   "outputs": [
    {
     "name": "stdout",
     "output_type": "stream",
     "text": [
      "Train: 1.000; Test: 0.940\n"
     ]
    }
   ],
   "source": [
    "forest = RandomForestClassifier()\n",
    "forest.fit(x_train, y_train)\n",
    "\n",
    "pred_train = forest.predict(x_train)\n",
    "pred_test = forest.predict(x_test)\n",
    "\n",
    "acc_train = accuracy_score(y_train, pred_train)\n",
    "acc_test = accuracy_score(y_test, pred_test)\n",
    "print(\"Train: %.3f; Test: %.3f\" % (acc_train, acc_test))"
   ]
  },
  {
   "cell_type": "code",
   "execution_count": 26,
   "id": "thick-marker",
   "metadata": {},
   "outputs": [
    {
     "name": "stdout",
     "output_type": "stream",
     "text": [
      "Mean acc: 0.947; stdev: 0.008\n"
     ]
    }
   ],
   "source": [
    "scores = cross_val_score(forest, x, y, scoring='accuracy', cv=kfcv, n_jobs=-1)\n",
    "mean_score, std_score = (np.mean(scores), np.std(scores))\n",
    "print(\"Mean acc: %.3f; stdev: %.3f\" % (mean_score, std_score))"
   ]
  },
  {
   "cell_type": "code",
   "execution_count": 27,
   "id": "advance-knock",
   "metadata": {},
   "outputs": [
    {
     "name": "stdout",
     "output_type": "stream",
     "text": [
      "Depth:  1; Train: 0.721; Test: 0.689\n",
      "Depth:  2; Train: 0.793; Test: 0.801\n",
      "Depth:  3; Train: 0.846; Test: 0.838\n",
      "Depth:  5; Train: 0.896; Test: 0.888\n",
      "Depth: 10; Train: 0.965; Test: 0.936\n",
      "Depth: -1; Train: 1.000; Test: 0.947\n"
     ]
    }
   ],
   "source": [
    "train_accs = []\n",
    "test_accs = []\n",
    "depths = [1, 2, 3, 5, 10, None]\n",
    "for depth in depths:\n",
    "    model = RandomForestClassifier(max_depth=depth)\n",
    "    model.fit(x, y)\n",
    "    pred = model.predict(x)\n",
    "    acc_train = accuracy_score(y, pred)\n",
    "    scores = cross_val_score(model, x, y, scoring='accuracy', cv=kfcv, n_jobs=-1)\n",
    "    acc_cv = np.mean(scores)\n",
    "    \n",
    "    train_accs.append(acc_train)\n",
    "    test_accs.append(acc_cv)\n",
    "    dep = -1 if depth == None else depth\n",
    "    print(\"Depth: %2d; Train: %.3f; Test: %.3f\" % (dep, acc_train, acc_cv))"
   ]
  },
  {
   "cell_type": "code",
   "execution_count": 28,
   "id": "loose-charter",
   "metadata": {},
   "outputs": [
    {
     "data": {
      "image/png": "[encoded data removed]",
      "text/plain": [
       "<Figure size 432x288 with 1 Axes>"
      ]
     },
     "metadata": {
      "needs_background": "light"
     },
     "output_type": "display_data"
    }
   ],
   "source": [
    "x_axis = range(len(depths))\n",
    "labels = [\"Nn\" if d is None else str(d) for d in depths]\n",
    "plt.plot(x_axis, train_accs, '-o', label='Train')\n",
    "plt.plot(x_axis, test_accs, '-o', label='Test')\n",
    "plt.xticks(x_axis, labels)\n",
    "plt.legend();"
   ]
  },
  {
   "cell_type": "code",
   "execution_count": null,
   "id": "aerial-claim",
   "metadata": {},
   "outputs": [],
   "source": []
  }
 ],
 "metadata": {
  "kernelspec": {
   "display_name": "Python 3",
   "language": "python",
   "name": "python3"
  },
  "language_info": {
   "codemirror_mode": {
    "name": "ipython",
    "version": 3
   },
   "file_extension": ".py",
   "mimetype": "text/x-python",
   "name": "python",
   "nbconvert_exporter": "python",
   "pygments_lexer": "ipython3",
   "version": "3.8.2"
  }
 },
 "nbformat": 4,
 "nbformat_minor": 5
}
