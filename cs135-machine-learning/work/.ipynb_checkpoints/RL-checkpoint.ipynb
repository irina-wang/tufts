{
 "cells": [
  {
   "cell_type": "code",
   "execution_count": 1,
   "id": "atmospheric-melbourne",
   "metadata": {},
   "outputs": [],
   "source": [
    "from enum import Enum\n",
    "import random \n",
    "random.seed(0)\n",
    "import numpy as np\n",
    "\n",
    "import matplotlib\n",
    "import matplotlib.pyplot as plt\n",
    "import seaborn as sns\n",
    "%matplotlib inline"
   ]
  },
  {
   "cell_type": "markdown",
   "id": "fiscal-music",
   "metadata": {},
   "source": [
    "## MDP ##"
   ]
  },
  {
   "cell_type": "code",
   "execution_count": 3,
   "id": "pacific-progressive",
   "metadata": {},
   "outputs": [],
   "source": [
    "CLIFF_WORLD = np.array([[0, 0, 0, 0, 0, 0, 0, 0],\n",
    "                       [0, 0, 0, 0, 0, 0, 0, 0],\n",
    "                       [0, 0, 0, 0, 0, 0, 0, 0],\n",
    "                       [0, 1, 1, 1, 1, 1, 1, 0]])"
   ]
  },
  {
   "cell_type": "code",
   "execution_count": 6,
   "id": "proved-worry",
   "metadata": {},
   "outputs": [],
   "source": [
    "OPEN = 0\n",
    "CLIFF = 1\n",
    "\n",
    "ROWS = range(len(CLIFF_WORLD))\n",
    "COLS = range(len(CLIFF_WORLD[0]))\n",
    "TOP_EDGE = 0\n",
    "BOTTOM_EDGE = len(CLIFF_WORLD)-1\n",
    "LEFT_EDGE = 0\n",
    "RIGHT_EDGE = len(CLIFF_WORLD[0])-1\n",
    "\n",
    "\n",
    "STATE_START = (BOTTOM_EDGE, LEFT_EDGE)\n",
    "STATE_GOAL = (BOTTOM_EDGE, RIGHT_EDGE)\n",
    "\n",
    "REWARD_BASIC = -1\n",
    "REWARD_CLIFF = -100\n",
    "\n",
    "class Action(Enum):\n",
    "    UP = 1 \n",
    "    DOWN = 2 \n",
    "    LEFT = 3 \n",
    "    RIGHT = 4 \n",
    "    \n",
    "    \n",
    "def state_transition(state, action):\n",
    "    # absorbing state \n",
    "    if state == STATE_GOAL: \n",
    "        return state, 0\n",
    "    \n",
    "    row = state[0]\n",
    "    col = state[1]\n",
    "    if action is Action.UP and state[0] != TOP_EDGE:\n",
    "        row = state[0] - 1\n",
    "    elif action is Action.DOWN and state[0] != BOTTOM_EDGE:\n",
    "        row = state[0] + 1\n",
    "    elif action is Action.LEFT and state[1] != LEFT_EDGE:\n",
    "        col = state[1] - 1\n",
    "    elif action is Action.RIGHT and state[1] != RIGHT_EDGE:\n",
    "        col = state[1] + 1\n",
    "        \n",
    "    next_state = (row,col)\n",
    "    \n",
    "    reward = REWARD_BASIC\n",
    "    \n",
    "    if CLIFF_WORLD[row][col] == CLIFF:\n",
    "        next_state = STATE_START\n",
    "        reward = REWARD_CLIFF\n",
    "        \n",
    "    return next_state, reward "
   ]
  },
  {
   "cell_type": "markdown",
   "id": "universal-revolution",
   "metadata": {},
   "source": [
    "## learning "
   ]
  },
  {
   "cell_type": "code",
   "execution_count": 7,
   "id": "floral-output",
   "metadata": {},
   "outputs": [],
   "source": [
    "ALPHA = 0.1\n",
    "GAMMA = 0.9\n",
    "EPSILON = 0.1 \n",
    "EPISODE_NUM = 500\n",
    "EPISODE_LENGTH = 1024"
   ]
  },
  {
   "cell_type": "code",
   "execution_count": null,
   "id": "related-thunder",
   "metadata": {},
   "outputs": [],
   "source": [
    "def epsilon_greedy_select(state, q_values, epsilon=0):\n",
    "    action_selected = random.choice(list(Action))\n",
    "    if random.random() >= epsilon:\n",
    "        actions = [action for action in Action]\n",
    "        qvals = [q_values.get((state, acton), float('-inf')) for action in actions]\n",
    "        action_selected = actions[np.argmax(qvals)]"
   ]
  }
 ],
 "metadata": {
  "kernelspec": {
   "display_name": "Python 3",
   "language": "python",
   "name": "python3"
  },
  "language_info": {
   "codemirror_mode": {
    "name": "ipython",
    "version": 3
   },
   "file_extension": ".py",
   "mimetype": "text/x-python",
   "name": "python",
   "nbconvert_exporter": "python",
   "pygments_lexer": "ipython3",
   "version": "3.8.2"
  }
 },
 "nbformat": 4,
 "nbformat_minor": 5
}
