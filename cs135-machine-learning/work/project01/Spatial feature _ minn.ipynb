{
 "cells": [
  {
   "cell_type": "code",
   "execution_count": null,
   "id": "center-laser",
   "metadata": {},
   "outputs": [],
   "source": []
  },
  {
   "cell_type": "code",
   "execution_count": 10,
   "id": "wicked-joseph",
   "metadata": {},
   "outputs": [],
   "source": [
    "import numpy as np\n",
    "from sklearn.datasets import load_breast_cancer\n",
    "from sklearn.model_selection import train_test_split, KFold\n",
    "from sklearn.linear_model import LogisticRegression\n",
    "from sklearn.metrics import accuracy_score, log_loss, confusion_matrix\n",
    "from sklearn.preprocessing import minmax_scale\n",
    "\n",
    "from numpy.random import default_rng\n",
    "import seaborn as sns\n",
    "import matplotlib\n",
    "import matplotlib.pyplot as plt\n",
    "\n",
    "%matplotlib inline\n",
    "np.set_printoptions(suppress=True, precision=2)\n",
    "plt.style.use('seaborn') # pretty matplotlib plots\n",
    "sns.set(font_scale=2)"
   ]
  },
  {
   "cell_type": "code",
   "execution_count": 11,
   "id": "roman-abraham",
   "metadata": {},
   "outputs": [],
   "source": [
    "# Load 3 feature version of x arrays\n",
    "x_train = np.loadtxt('./data_sneaker_vs_sandal/x_train.csv', delimiter=',', skiprows=1)\n",
    "x_test = np.loadtxt('./data_sneaker_vs_sandal/x_test.csv', delimiter=',', skiprows=1)\n",
    "\n",
    "y_train = np.loadtxt('./data_sneaker_vs_sandal/y_train.csv', delimiter=',', skiprows=1)"
   ]
  },
  {
   "cell_type": "code",
   "execution_count": 12,
   "id": "simple-rebound",
   "metadata": {},
   "outputs": [],
   "source": [
    "x_ft_i = []\n",
    "for i in range(len(x_train)):\n",
    "    k = x_train[i].reshape(7,7,4,4)\n",
    "    aver = np.min(k,axis=3)\n",
    "    t = np.min(aver,axis=2)\n",
    "    t.reshape(49)\n",
    "    x_ft = np.append(x_train[i], t)\n",
    "    x_ft_i.append(x_ft)"
   ]
  },
  {
   "cell_type": "code",
   "execution_count": 13,
   "id": "extra-horse",
   "metadata": {},
   "outputs": [],
   "source": [
    "x_test_i = []\n",
    "for i in range(len(x_test)):\n",
    "    k = x_test[i].reshape(7,7,4,4)\n",
    "    aver = np.min(k,axis=3)\n",
    "    t = np.min(aver,axis=2)\n",
    "    t.reshape(49)\n",
    "    x_ft = np.append(x_test[i], t)\n",
    "    x_test_i.append(x_ft)"
   ]
  },
  {
   "cell_type": "code",
   "execution_count": 14,
   "id": "optional-motor",
   "metadata": {},
   "outputs": [],
   "source": [
    "from sklearn.preprocessing import minmax_scale"
   ]
  },
  {
   "cell_type": "code",
   "execution_count": 15,
   "id": "ethical-philosophy",
   "metadata": {},
   "outputs": [],
   "source": [
    "# x_ft_sp = minmax_scale(x_ft_i)\n",
    "# x_te_sp = minmax_scale(x_test_i)"
   ]
  },
  {
   "cell_type": "code",
   "execution_count": 18,
   "id": "occupied-starter",
   "metadata": {},
   "outputs": [],
   "source": [
    "def bestC(x_tr,y_tr,x_te,y_te):\n",
    "    te_loss_list_w_C = list()\n",
    "\n",
    "    model_list_w_C = list()\n",
    "    acc_list_w_C = list()\n",
    "    \n",
    "    C_grid = np.logspace(-9, 6, 31)\n",
    "\n",
    "    for C in C_grid:\n",
    "        model = LogisticRegression(C=C,solver='liblinear')\n",
    "        model.fit(x_tr,y_tr)\n",
    "\n",
    "        model_list_w_C.append(model)\n",
    "\n",
    "        pred_te = model.predict_proba(x_te)\n",
    "        score_te = model.score(x_te,y_te)\n",
    "        te_log_loss = log_loss(y_te,pred_te)\n",
    "\n",
    "        # score\n",
    "        acc_list_w_C.append(score_te)\n",
    "\n",
    "        # log loss\n",
    "        te_loss_list_w_C.append(te_log_loss)\n",
    "        \n",
    "        min_te_loss = min(te_loss_list_w_C)\n",
    "        min_te_loss_index = te_loss_list_w_C.index(min_te_loss)\n",
    "        best_C =  C_grid[min_te_loss_index]\n",
    "        best_acc = acc_list_w_C[min_te_loss_index]\n",
    "        \n",
    "    return best_C"
   ]
  },
  {
   "cell_type": "code",
   "execution_count": 19,
   "id": "decimal-disabled",
   "metadata": {},
   "outputs": [],
   "source": [
    "x_tr, x_va, y_tr, y_va = train_test_split(x_ft_i, y_train, test_size=0.4)"
   ]
  },
  {
   "cell_type": "code",
   "execution_count": 20,
   "id": "changing-federation",
   "metadata": {},
   "outputs": [],
   "source": [
    "CC = bestC(x_tr,y_tr,x_va,y_va)"
   ]
  },
  {
   "cell_type": "code",
   "execution_count": 21,
   "id": "demonstrated-pricing",
   "metadata": {},
   "outputs": [
    {
     "data": {
      "text/plain": [
       "0.31622776601683794"
      ]
     },
     "execution_count": 21,
     "metadata": {},
     "output_type": "execute_result"
    }
   ],
   "source": [
    "CC"
   ]
  },
  {
   "cell_type": "code",
   "execution_count": 16,
   "id": "injured-heavy",
   "metadata": {},
   "outputs": [
    {
     "name": "stdout",
     "output_type": "stream",
     "text": [
      "train log loss 0.07612573873687835\n",
      "train acc 0.973\n"
     ]
    }
   ],
   "source": [
    "model = LogisticRegression(solver='liblinear')\n",
    "model.fit(x_ft_i, y_train)\n",
    "\n",
    "prob_tr = model.predict_proba(x_ft_i)\n",
    "# prob_va = model.predict_proba(x_va)\n",
    "\n",
    "acc_tr = model.score(x_ft_i, y_train)\n",
    "# acc_va = model.score(x_va, y_va)\n",
    "\n",
    "tr_log_loss = log_loss(y_train,prob_tr)\n",
    "# va_log_loss = log_loss(y_va,prob_va)\n",
    "\n",
    "print('train log loss', tr_log_loss)\n",
    "# print('validation log loss', va_log_loss)\n",
    "\n",
    "print('train acc', acc_tr)\n",
    "# print('validation acc', acc_va)"
   ]
  },
  {
   "cell_type": "code",
   "execution_count": 17,
   "id": "ignored-gateway",
   "metadata": {},
   "outputs": [],
   "source": [
    "yproba1_test = model.predict_proba(x_test_i)[:, 1] \n",
    "np.savetxt('yproba1_test.txt', yproba1_test)"
   ]
  },
  {
   "cell_type": "code",
   "execution_count": null,
   "id": "partial-leader",
   "metadata": {},
   "outputs": [],
   "source": []
  },
  {
   "cell_type": "code",
   "execution_count": null,
   "id": "direct-printing",
   "metadata": {},
   "outputs": [],
   "source": []
  }
 ],
 "metadata": {
  "kernelspec": {
   "display_name": "Python 3",
   "language": "python",
   "name": "python3"
  },
  "language_info": {
   "codemirror_mode": {
    "name": "ipython",
    "version": 3
   },
   "file_extension": ".py",
   "mimetype": "text/x-python",
   "name": "python",
   "nbconvert_exporter": "python",
   "pygments_lexer": "ipython3",
   "version": "3.9.1"
  }
 },
 "nbformat": 4,
 "nbformat_minor": 5
}
