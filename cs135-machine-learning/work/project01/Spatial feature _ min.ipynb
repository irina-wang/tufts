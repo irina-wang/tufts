{
 "cells": [
  {
   "cell_type": "code",
   "execution_count": null,
   "id": "center-laser",
   "metadata": {},
   "outputs": [],
   "source": []
  },
  {
   "cell_type": "code",
   "execution_count": 1,
   "id": "wicked-joseph",
   "metadata": {},
   "outputs": [],
   "source": [
    "import numpy as np\n",
    "from sklearn.datasets import load_breast_cancer\n",
    "from sklearn.model_selection import train_test_split, KFold\n",
    "from sklearn.linear_model import LogisticRegression\n",
    "from sklearn.metrics import accuracy_score, log_loss, confusion_matrix\n",
    "from sklearn.preprocessing import minmax_scale\n",
    "\n",
    "from numpy.random import default_rng\n",
    "import seaborn as sns\n",
    "import matplotlib\n",
    "import matplotlib.pyplot as plt\n",
    "\n",
    "%matplotlib inline\n",
    "np.set_printoptions(suppress=True, precision=2)\n",
    "plt.style.use('seaborn') # pretty matplotlib plots\n",
    "sns.set(font_scale=2)"
   ]
  },
  {
   "cell_type": "code",
   "execution_count": 2,
   "id": "roman-abraham",
   "metadata": {},
   "outputs": [],
   "source": [
    "# Load 3 feature version of x arrays\n",
    "x_train = np.loadtxt('./data_sneaker_vs_sandal/x_train.csv', delimiter=',', skiprows=1)\n",
    "x_test = np.loadtxt('./data_sneaker_vs_sandal/x_test.csv', delimiter=',', skiprows=1)\n",
    "\n",
    "y_train = np.loadtxt('./data_sneaker_vs_sandal/y_train.csv', delimiter=',', skiprows=1)"
   ]
  },
  {
   "cell_type": "code",
   "execution_count": 4,
   "id": "simple-rebound",
   "metadata": {},
   "outputs": [],
   "source": [
    "x_ft_i = []\n",
    "for i in range(len(x_train)):\n",
    "    k = x_train[i].reshape(7,7,4,4)\n",
    "    aver = np.min(k,axis=3)\n",
    "    t = np.min(aver,axis=2)\n",
    "    t.reshape(49)\n",
    "    x_ft = np.append(x_train[i], t)\n",
    "    x_ft_i.append(x_ft)"
   ]
  },
  {
   "cell_type": "code",
   "execution_count": 5,
   "id": "extra-horse",
   "metadata": {},
   "outputs": [],
   "source": [
    "x_test_i = []\n",
    "for i in range(len(x_test)):\n",
    "    k = x_train[i].reshape(7,7,4,4)\n",
    "    aver = np.min(k,axis=3)\n",
    "    t = np.min(aver,axis=2)\n",
    "    t.reshape(49)\n",
    "    x_ft = np.append(x_test[i], t)\n",
    "    x_test_i.append(x_ft)"
   ]
  },
  {
   "cell_type": "code",
   "execution_count": 6,
   "id": "optional-motor",
   "metadata": {},
   "outputs": [],
   "source": [
    "from sklearn.preprocessing import minmax_scale"
   ]
  },
  {
   "cell_type": "code",
   "execution_count": 7,
   "id": "ethical-philosophy",
   "metadata": {},
   "outputs": [],
   "source": [
    "x_ft_sp = minmax_scale(x_ft_i)\n",
    "x_te_sp = minmax_scale(x_test_i)"
   ]
  },
  {
   "cell_type": "code",
   "execution_count": 8,
   "id": "injured-heavy",
   "metadata": {},
   "outputs": [
    {
     "name": "stdout",
     "output_type": "stream",
     "text": [
      "train log loss 0.07560228461311977\n",
      "train acc 0.9735\n"
     ]
    }
   ],
   "source": [
    "model = LogisticRegression(solver='liblinear')\n",
    "model.fit(x_ft_sp, y_train)\n",
    "\n",
    "prob_tr = model.predict_proba(x_ft_sp)\n",
    "# prob_va = model.predict_proba(x_va)\n",
    "\n",
    "acc_tr = model.score(x_ft_sp, y_train)\n",
    "# acc_va = model.score(x_va, y_va)\n",
    "\n",
    "tr_log_loss = log_loss(y_train,prob_tr)\n",
    "# va_log_loss = log_loss(y_va,prob_va)\n",
    "\n",
    "print('train log loss', tr_log_loss)\n",
    "# print('validation log loss', va_log_loss)\n",
    "\n",
    "print('train acc', acc_tr)\n",
    "# print('validation acc', acc_va)"
   ]
  },
  {
   "cell_type": "code",
   "execution_count": 18,
   "id": "ignored-gateway",
   "metadata": {},
   "outputs": [],
   "source": [
    "yproba1_test = model.predict_proba(x_te_sp)[:, 1] \n",
    "np.savetxt('yproba1_test.txt', yproba1_test)"
   ]
  },
  {
   "cell_type": "code",
   "execution_count": null,
   "id": "partial-leader",
   "metadata": {},
   "outputs": [],
   "source": []
  }
 ],
 "metadata": {
  "kernelspec": {
   "display_name": "Python 3",
   "language": "python",
   "name": "python3"
  },
  "language_info": {
   "codemirror_mode": {
    "name": "ipython",
    "version": 3
   },
   "file_extension": ".py",
   "mimetype": "text/x-python",
   "name": "python",
   "nbconvert_exporter": "python",
   "pygments_lexer": "ipython3",
   "version": "3.9.1"
  }
 },
 "nbformat": 4,
 "nbformat_minor": 5
}
