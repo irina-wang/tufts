{
 "cells": [
  {
   "cell_type": "code",
   "execution_count": 1,
   "id": "tight-portland",
   "metadata": {},
   "outputs": [],
   "source": [
    "import numpy as np\n",
    "from sklearn.datasets import load_breast_cancer\n",
    "from sklearn.model_selection import train_test_split, KFold\n",
    "from sklearn.linear_model import LogisticRegression\n",
    "from sklearn.metrics import accuracy_score, log_loss, confusion_matrix\n",
    "from sklearn.preprocessing import minmax_scale\n",
    "\n",
    "from numpy.random import default_rng\n",
    "import seaborn as sns\n",
    "import matplotlib\n",
    "import matplotlib.pyplot as plt\n",
    "\n",
    "%matplotlib inline\n",
    "np.set_printoptions(suppress=True, precision=2)\n",
    "plt.style.use('seaborn') # pretty matplotlib plots\n",
    "sns.set(font_scale=2)"
   ]
  },
  {
   "cell_type": "markdown",
   "id": "prescription-gothic",
   "metadata": {},
   "source": [
    "#  Function"
   ]
  },
  {
   "cell_type": "code",
   "execution_count": 2,
   "id": "greek-instrument",
   "metadata": {},
   "outputs": [],
   "source": [
    "def calc_TP_TN_FP_FN(ytrue_N, yhat_N):\n",
    "    ''' Compute counts of four possible outcomes of a binary classifier for evaluation.\n",
    "    \n",
    "    Args\n",
    "    ----\n",
    "    ytrue_N : 1D array of floats\n",
    "        Each entry represents the binary value (0 or 1) of 'true' label of one example\n",
    "        One entry per example in current dataset\n",
    "    yhat_N : 1D array of floats\n",
    "        Each entry represents a predicted binary value (either 0 or 1).\n",
    "        One entry per example in current dataset.\n",
    "        Needs to be same size as ytrue_N.\n",
    "\n",
    "    Returns\n",
    "    -------\n",
    "    TP : float\n",
    "        Number of true positives\n",
    "    TN : float\n",
    "        Number of true negatives\n",
    "    FP : float\n",
    "        Number of false positives\n",
    "    FN : float\n",
    "        Number of false negatives\n",
    "    '''\n",
    "    TP = 0.0\n",
    "    TN = 0.0\n",
    "    FP = 0.0\n",
    "    FN = 0.0\n",
    "    \n",
    "    for i in range(len(ytrue_N)):\n",
    "        if (ytrue_N[i] == yhat_N[i] == 1):\n",
    "            TP += 1\n",
    "        elif (ytrue_N[i] == yhat_N[i] == 0):\n",
    "            TN += 1\n",
    "        elif (ytrue_N[i] == 0 and yhat_N[i] == 1):\n",
    "            FP += 1\n",
    "        else:\n",
    "            FN += 1\n",
    "    return TP, TN, FP, FN"
   ]
  },
  {
   "cell_type": "code",
   "execution_count": 3,
   "id": "executive-baseball",
   "metadata": {},
   "outputs": [],
   "source": [
    "def div_TP_TN_FP_FN(ytrue_N, yhat_N):\n",
    "    ''' Compute counts of four possible outcomes of a binary classifier for evaluation.\n",
    "    \n",
    "    Args\n",
    "    ----\n",
    "    ytrue_N : 1D array of floats\n",
    "        Each entry represents the binary value (0 or 1) of 'true' label of one example\n",
    "        One entry per example in current dataset\n",
    "    yhat_N : 1D array of floats\n",
    "        Each entry represents a predicted binary value (either 0 or 1).\n",
    "        One entry per example in current dataset.\n",
    "        Needs to be same size as ytrue_N.\n",
    "\n",
    "    Returns\n",
    "    -------\n",
    "    TP : float\n",
    "        Number of true positives\n",
    "    TN : float\n",
    "        Number of true negatives\n",
    "    FP : float\n",
    "        Number of false positives\n",
    "    FN : float\n",
    "        Number of false negatives\n",
    "    '''\n",
    "    TP = list()\n",
    "    TN = list()\n",
    "    FP = list()\n",
    "    FN = list()\n",
    "    \n",
    "    for i in range(len(ytrue_N)):\n",
    "        if (ytrue_N[i] == yhat_N[i] == 1):\n",
    "            TP.append(i)\n",
    "        elif (ytrue_N[i] == yhat_N[i] == 0):\n",
    "            TN.append(i)\n",
    "        elif (ytrue_N[i] == 0 and yhat_N[i] == 1):\n",
    "            FP.append(i)\n",
    "        else:\n",
    "            FN.append(i)\n",
    "    return TP, TN, FP, FN"
   ]
  },
  {
   "cell_type": "code",
   "execution_count": 4,
   "id": "coated-antenna",
   "metadata": {},
   "outputs": [],
   "source": [
    "def calc_perf_metrics_for_threshold(ytrue_N, yproba1_N, thresh):\n",
    "    ''' Compute performance metrics for a given probabilistic classifier and threshold\n",
    "    '''\n",
    "    tp, tn, fp, fn = calc_TP_TN_FP_FN(ytrue_N, yproba1_N >= thresh)\n",
    "    ## Compute ACC, TPR, TNR, etc.\n",
    "    acc = (tp + tn) / float(tp + tn + fp + fn + 1e-10)\n",
    "    tpr = tp / float(tp + fn + 1e-10)\n",
    "    tnr = tn / float(fp + tn + 1e-10)\n",
    "    ppv = tp / float(tp + fp + 1e-10)\n",
    "    npv = tn / float(tn + fn + 1e-10)\n",
    "    \n",
    "    return acc, tpr, tnr, ppv, npv\n",
    "\n",
    "def print_perf_metrics_for_threshold(ytrue_N, yproba1_N, thresh):\n",
    "    ''' Pretty print perf. metrics for a given probabilistic classifier and threshold\n",
    "    '''\n",
    "    acc, tpr, tnr, ppv, npv = calc_perf_metrics_for_threshold(ytrue_N, yproba1_N, thresh)\n",
    "    \n",
    "    ## Pretty print the results\n",
    "    print(\"%.3f ACC\" % acc)\n",
    "    print(\"%.3f TPR\" % tpr)\n",
    "    print(\"%.3f TNR\" % tnr)\n",
    "    print(\"%.3f PPV\" % ppv)\n",
    "    print(\"%.3f NPV\" % npv)"
   ]
  },
  {
   "cell_type": "code",
   "execution_count": 5,
   "id": "potential-endorsement",
   "metadata": {},
   "outputs": [],
   "source": [
    "def calc_confusion_matrix_for_threshold(ytrue_N, yproba1_N, thresh):\n",
    "    ''' Compute the confusion matrix for a given probabilistic classifier and threshold\n",
    "    \n",
    "    Args\n",
    "    ----\n",
    "    ytrue_N : 1D array of floats\n",
    "        Each entry represents the binary value (0 or 1) of 'true' label of one example\n",
    "        One entry per example in current dataset\n",
    "    yproba1_N : 1D array of floats\n",
    "        Each entry represents a probability (between 0 and 1) that correct label is positive (1)\n",
    "        One entry per example in current dataset\n",
    "        Needs to be same size as ytrue_N\n",
    "    thresh : float\n",
    "        Scalar threshold for converting probabilities into hard decisions\n",
    "        Calls an example \"positive\" if yproba1 >= thresh\n",
    "\n",
    "    Returns\n",
    "    -------\n",
    "    cm_df : Pandas DataFrame\n",
    "        Can be printed like print(cm_df) to easily display results\n",
    "    '''\n",
    "    cm = sklearn.metrics.confusion_matrix(ytrue_N, yproba1_N >= thresh)\n",
    "    cm_df = pd.DataFrame(data=cm, columns=[0, 1], index=[0, 1])\n",
    "    cm_df.columns.name = 'Predicted'\n",
    "    cm_df.index.name = 'True'\n",
    "    return cm_df"
   ]
  },
  {
   "cell_type": "code",
   "execution_count": 6,
   "id": "failing-vinyl",
   "metadata": {},
   "outputs": [],
   "source": [
    "def compute_perf_metrics_across_thresholds(ytrue_N, yproba1_N, thresh_grid=None):\n",
    "    ''' Compute common binary classifier performance metrics across many thresholds\n",
    "    \n",
    "    If no array of thresholds is provided, will use all 'unique' values\n",
    "    in the yproba1_N array to define all possible thresholds with different performance.\n",
    "    \n",
    "    Args\n",
    "    ----\n",
    "    ytrue_N : 1D array of floats\n",
    "        Each entry represents the binary value (0 or 1) of 'true' label of one example\n",
    "        One entry per example in current dataset\n",
    "    yproba1_N : 1D array of floats\n",
    "        Each entry represents a probability (between 0 and 1) that correct label is positive (1)\n",
    "        One entry per example in current dataset\n",
    "\n",
    "    Returns\n",
    "    -------\n",
    "    thresh_grid : 1D array of floats\n",
    "        One entry for each possible threshold\n",
    "    perf_dict : dict, with key, value pairs:\n",
    "        * 'acc' : 1D array of accuracy values (one per threshold)\n",
    "        * 'ppv' : 1D array of positive predictive values (one per threshold)\n",
    "        * 'npv' : 1D array of negative predictive values (one per threshold)\n",
    "        * 'tpr' : 1D array of true positive rates (one per threshold)\n",
    "        * 'tnr' : 1D array of true negative rates (one per threshold)\n",
    "    '''\n",
    "    if thresh_grid is None:\n",
    "        bin_edges = np.linspace(0, 1.001, 21)\n",
    "        thresh_grid = np.sort(np.hstack([bin_edges, np.unique(yproba1_N)]))\n",
    "    tpr_grid = np.zeros_like(thresh_grid)\n",
    "    tnr_grid = np.zeros_like(thresh_grid)\n",
    "    ppv_grid = np.zeros_like(thresh_grid)\n",
    "    npv_grid = np.zeros_like(thresh_grid)\n",
    "    acc_grid = np.zeros_like(thresh_grid)\n",
    "    for tt, thresh in enumerate(thresh_grid):\n",
    "        # Apply specific threshold to convert probas into hard binary values (0 or 1)\n",
    "        # Then count number of true positives, true negatives, etc.\n",
    "        # Then compute metrics like accuracy and true positive rate\n",
    "        acc, tpr, tnr, ppv, npv = calc_perf_metrics_for_threshold(ytrue_N, yproba1_N, thresh)\n",
    "        acc_grid[tt] = acc\n",
    "        tpr_grid[tt] = tpr\n",
    "        tnr_grid[tt] = tnr\n",
    "        ppv_grid[tt] = ppv\n",
    "        npv_grid[tt] = npv\n",
    "    return thresh_grid, dict(\n",
    "        acc=acc_grid,\n",
    "        tpr=tpr_grid,\n",
    "        tnr=tnr_grid,\n",
    "        ppv=ppv_grid,\n",
    "        npv=npv_grid)\n",
    "\n",
    "def make_plot_perf_vs_threshold(ytrue_N, yproba1_N, bin_edges=np.linspace(0, 1, 21)):\n",
    "    ''' Make pretty plot of binary classifier performance as threshold increases\n",
    "    \n",
    "    Produces a plot with 3 rows:\n",
    "    * top row: hist of predicted probabilities for negative examples (shaded red)\n",
    "    * middle row: histogram of predicted probabilities for positive examples (shaded blue)\n",
    "    * bottom row: line plots of metrics that require hard decisions (ACC, TPR, TNR, etc.)\n",
    "    \n",
    "    The two histograms are as follows:\n",
    "    * The first (red) shows the number of class-0 entries, grouped by \n",
    "      the probabilities assigned by the predictor (yproba1_N).\n",
    "    * The second (blue) shows the number of class-1 entries, grouped by\n",
    "      the probabilities assigned by the predictor (yproba1_N).\n",
    "    \n",
    "    A \"perfect\" classifier would assign everything in class 0 the probability 0.0, \n",
    "    and everything in class 1 the probability 1.0, and the histograms would look \n",
    "    like one big pile of 150 items at 0.0, and then 25 items at 1.0.  \n",
    "    \n",
    "    You can actually see what this would look like by calling:\n",
    "        make_plot_perf_vs_threshold(y_va_N, y_va_N)\n",
    "    \n",
    "    Note that we of course don't expect perfect (0.0/1.0) predictions, but we can \n",
    "    still get a \"perfect\" probabilistic classifier if we have a threshold point T \n",
    "    where all the 0-class stuff from the first histogram is below T, and all the \n",
    "    1-class stuff from the second one is at or above T.  Of course, we probably \n",
    "    can't get that either, since complex data may not be linearly separable at all, \n",
    "    but that's the goal.\n",
    "    '''\n",
    "    fig, axes = plt.subplots(nrows=3, ncols=1, figsize=(12, 8))\n",
    "    sns.distplot(\n",
    "        yproba1_N[ytrue_N == 0],\n",
    "        color='r', bins=bin_edges, kde=False, rug=True, ax=axes[0]);\n",
    "    sns.distplot(\n",
    "        yproba1_N[ytrue_N == 1],\n",
    "        color='b', bins=bin_edges, kde=False, rug=True, ax=axes[1]);\n",
    "\n",
    "    thresh_grid, perf_grid = compute_perf_metrics_across_thresholds(ytrue_N, yproba1_N)\n",
    "    axes[2].plot(thresh_grid, perf_grid['acc'], 'k-', label='accuracy')\n",
    "    axes[2].plot(thresh_grid, perf_grid['tpr'], 'b-', label='TPR (recall/sensitivity)')\n",
    "    axes[2].plot(thresh_grid, perf_grid['tnr'], 'g-', label='TNR (specificity)')\n",
    "    axes[2].plot(thresh_grid, perf_grid['ppv'], 'c-', label='PPV (precision)')\n",
    "    axes[2].plot(thresh_grid, perf_grid['npv'], 'm-', label='NPV')\n",
    "    \n",
    "    axes[2].legend()\n",
    "    axes[2].set_ylim([0, 1])"
   ]
  },
  {
   "cell_type": "markdown",
   "id": "adolescent-roots",
   "metadata": {},
   "source": [
    "### Plotting functions"
   ]
  },
  {
   "cell_type": "code",
   "execution_count": 7,
   "id": "upset-opposition",
   "metadata": {},
   "outputs": [],
   "source": [
    "def plot_data(x, y):\n",
    "    plot_x_min, plot_x_max = x[:, 0].min() - 1, x[:, 0].max() + 1\n",
    "    plot_y_min, plot_y_max = x[:, 1].min() - 1, x[:, 1].max() + 1\n",
    "    \n",
    "    # plot the basic data points\n",
    "    class0_x = x[y==0]\n",
    "    class1_x = x[y==1]\n",
    "    plt.scatter(class0_x[:,0], class0_x[:,1], c='r', marker='x', label='Class 0')\n",
    "    plt.scatter(class1_x[:,0], class1_x[:,1], c='b', marker='o', label='Class 1')\n",
    "    \n",
    "    plt.xlim(plot_x_min, plot_x_max)\n",
    "    plt.ylim(plot_y_min, plot_y_max)\n",
    "    plt.legend()\n",
    "    plt.title(\"Basic data\")"
   ]
  },
  {
   "cell_type": "code",
   "execution_count": 8,
   "id": "plain-period",
   "metadata": {},
   "outputs": [],
   "source": [
    "def plot_model_prediction(model, x, y):\n",
    "    plot_x_min, plot_x_max = x[:, 0].min() - 1, x[:, 0].max() + 1\n",
    "    plot_y_min, plot_y_max = x[:, 1].min() - 1, x[:, 1].max() + 1\n",
    "    \n",
    "    # plot the separator\n",
    "    model_intercept = model.intercept_[0]\n",
    "    weight1, weight2 = model.coef_.T\n",
    "    line_intercept = -model_intercept/weight2\n",
    "    line_slope = -weight1/weight2\n",
    "    line_x = np.array([plot_x_min, plot_x_max])\n",
    "    line_y = line_slope * line_x + line_intercept\n",
    "    plt.plot(line_x, line_y, 'm', lw=1, ls='--')\n",
    "    \n",
    "    # plot the decision data (two colors)\n",
    "    xx, yy = np.meshgrid(np.arange(plot_x_min, plot_x_max, 0.01),\n",
    "                         np.arange(plot_y_min, plot_y_max, 0.01))\n",
    "    vx, vy = xx.flatten(), yy.flatten()\n",
    "    vx, vy = vx.reshape((len(vx), 1)), vy.reshape((len(vy), 1))\n",
    "    grid = np.hstack((vx, vy))\n",
    "    \n",
    "    positive_predictions = model.predict(grid)\n",
    "    zz = positive_predictions.reshape(xx.shape)\n",
    "    contour = plt.contourf(xx, yy, zz, \n",
    "                           cmap=matplotlib.colors.ListedColormap(('r','b')), alpha=0.25)\n",
    "\n",
    "    # plot the basic data points\n",
    "    class0_x = x[y==0]\n",
    "    class1_x = x[y==1]\n",
    "    plt.scatter(class0_x[:,0], class0_x[:,1], c='r', marker='x', label='Class 0')\n",
    "    plt.scatter(class1_x[:,0], class1_x[:,1], c='b', marker='o', label='Class 1')\n",
    "        \n",
    "    plt.xlim(plot_x_min, plot_x_max)\n",
    "    plt.ylim(plot_y_min, plot_y_max)\n",
    "    plt.legend()\n",
    "    plt.title(\"Classification regions\")"
   ]
  },
  {
   "cell_type": "code",
   "execution_count": 9,
   "id": "varying-humanitarian",
   "metadata": {},
   "outputs": [],
   "source": [
    "def plot_model_contour(model, x, y):\n",
    "    plot_x_min, plot_x_max = x[:, 0].min() - 1, x[:, 0].max() + 1\n",
    "    plot_y_min, plot_y_max = x[:, 1].min() - 1, x[:, 1].max() + 1\n",
    "    \n",
    "    # plot the separator\n",
    "    model_intercept = model.intercept_[0]\n",
    "    weight1, weight2 = model.coef_.T\n",
    "    line_intercept = -model_intercept/weight2\n",
    "    line_slope = -weight1/weight2\n",
    "    line_x = np.array([plot_x_min, plot_x_max])\n",
    "    line_y = line_slope * line_x + line_intercept\n",
    "    plt.plot(line_x, line_y, 'm', lw=1, ls='--')\n",
    "    \n",
    "    # plot the probability contour (control smoothness with 'levels' parameter)\n",
    "    xx, yy = np.meshgrid(np.arange(plot_x_min, plot_x_max, 0.1),\n",
    "                         np.arange(plot_y_min, plot_y_max, 0.1))\n",
    "    vx, vy = xx.flatten(), yy.flatten()\n",
    "    vx, vy = vx.reshape((len(vx), 1)), vy.reshape((len(vy), 1))\n",
    "    grid = np.hstack((vx, vy))\n",
    "    \n",
    "    positive_predictions = model.predict_proba(grid)[:, 1]\n",
    "    zz = positive_predictions.reshape(xx.shape)\n",
    "    contour = plt.contourf(xx, yy, zz, cmap='Greys', levels=10)\n",
    "    plt.colorbar(contour)\n",
    "\n",
    "    # plot the basic data points\n",
    "    class0_x = x[y==0]\n",
    "    class1_x = x[y==1]\n",
    "    plt.scatter(class0_x[:,0], class0_x[:,1], c='r', marker='x', label='Class 0')\n",
    "    plt.scatter(class1_x[:,0], class1_x[:,1], c='b', marker='o', label='Class 1')\n",
    "    \n",
    "    plt.xlim(plot_x_min, plot_x_max)\n",
    "    plt.ylim(plot_y_min, plot_y_max)\n",
    "    plt.legend()\n",
    "    plt.title(\"Probability(x in class 1)\")"
   ]
  },
  {
   "cell_type": "markdown",
   "id": "smaller-flower",
   "metadata": {},
   "source": [
    "## -------\n",
    "##  Load the dataset"
   ]
  },
  {
   "cell_type": "code",
   "execution_count": 49,
   "id": "cleared-trunk",
   "metadata": {},
   "outputs": [],
   "source": [
    "# Load 3 feature version of x arrays\n",
    "x_train = np.loadtxt('./data_sneaker_vs_sandal/x_train.csv', delimiter=',', skiprows=1)\n",
    "x_test = np.loadtxt('./data_sneaker_vs_sandal/x_test.csv', delimiter=',', skiprows=1)\n",
    "\n",
    "y_train = np.loadtxt('./data_sneaker_vs_sandal/y_train.csv', delimiter=',', skiprows=1)"
   ]
  },
  {
   "cell_type": "markdown",
   "id": "analyzed-singapore",
   "metadata": {},
   "source": [
    "###  split training data for training & validation set"
   ]
  },
  {
   "cell_type": "code",
   "execution_count": 11,
   "id": "determined-election",
   "metadata": {},
   "outputs": [],
   "source": [
    "x_tr, x_va, y_tr, y_va = train_test_split(x_train, y_train, test_size=0.4)\n",
    "\n",
    "# // check number of sneakers\n",
    "# arr = np.array(y_train)\n",
    "# len(np.nonzero(y_train)[0])"
   ]
  },
  {
   "cell_type": "markdown",
   "id": "compliant-federation",
   "metadata": {},
   "source": [
    "## Baseline: Basic Logistic Regression"
   ]
  },
  {
   "cell_type": "markdown",
   "id": "champion-phone",
   "metadata": {},
   "source": [
    "#### C = 1"
   ]
  },
  {
   "cell_type": "code",
   "execution_count": 13,
   "id": "specific-number",
   "metadata": {},
   "outputs": [],
   "source": [
    "model_list = list()\n",
    "\n",
    "tr_loss_list = list()\n",
    "va_loss_list = list()\n",
    "\n",
    "tr_acc_list = list()\n",
    "va_acc_list = list()"
   ]
  },
  {
   "cell_type": "code",
   "execution_count": 14,
   "id": "rural-sequence",
   "metadata": {},
   "outputs": [],
   "source": [
    "C_grid = np.logspace(-9, 6, 31)"
   ]
  },
  {
   "cell_type": "code",
   "execution_count": 15,
   "id": "atmospheric-sterling",
   "metadata": {},
   "outputs": [],
   "source": [
    "model = LogisticRegression(solver='liblinear', C=1)\n",
    "model.fit(x_tr, y_tr)\n",
    "\n",
    "prob_tr = model.predict_proba(x_tr)\n",
    "prob_va = model.predict_proba(x_va)\n",
    "\n",
    "acc_tr = model.score(x_tr, y_tr)\n",
    "acc_va = model.score(x_va, y_va)\n",
    "\n",
    "tr_log_loss = log_loss(y_tr,prob_tr)\n",
    "va_log_loss = log_loss(y_va,prob_va)\n",
    "\n",
    "acc_tr = model.score(x_tr, y_tr)\n",
    "acc_va = model.score(x_va, y_va)"
   ]
  },
  {
   "cell_type": "code",
   "execution_count": 16,
   "id": "normal-event",
   "metadata": {},
   "outputs": [
    {
     "name": "stdout",
     "output_type": "stream",
     "text": [
      "Train accuracy:  0.9773611111111111\n",
      "Validation accuracy:  0.955625\n",
      "Train Log loss:  0.07191759050637224\n",
      "Validation Log loss:  0.12328297914244923\n"
     ]
    }
   ],
   "source": [
    "print(\"Train accuracy: \", acc_tr)\n",
    "print(\"Validation accuracy: \", acc_va)\n",
    "\n",
    "print(\"Train Log loss: \", tr_log_loss)\n",
    "print(\"Validation Log loss: \", va_log_loss)"
   ]
  },
  {
   "cell_type": "markdown",
   "id": "floppy-exclusion",
   "metadata": {},
   "source": [
    "#### C = 1 : Train on all train data "
   ]
  },
  {
   "cell_type": "code",
   "execution_count": 17,
   "id": "natural-prize",
   "metadata": {},
   "outputs": [],
   "source": [
    "model = LogisticRegression(solver='liblinear', C=1)\n",
    "model.fit(x_train, y_train)\n",
    "\n",
    "prob_train = model.predict_proba(x_train)\n",
    "\n",
    "acc_train = model.score(x_train, y_train)\n",
    "\n",
    "train_log_loss = log_loss(y_train,prob_train)\n",
    "\n",
    "acc_train = model.score(x_train, y_train)"
   ]
  },
  {
   "cell_type": "code",
   "execution_count": 18,
   "id": "threaded-present",
   "metadata": {},
   "outputs": [
    {
     "data": {
      "text/plain": [
       "0.07912759446931152"
      ]
     },
     "execution_count": 18,
     "metadata": {},
     "output_type": "execute_result"
    }
   ],
   "source": [
    "train_log_loss"
   ]
  },
  {
   "cell_type": "code",
   "execution_count": 19,
   "id": "lasting-resident",
   "metadata": {},
   "outputs": [
    {
     "data": {
      "text/plain": [
       "0.9735"
      ]
     },
     "execution_count": 19,
     "metadata": {},
     "output_type": "execute_result"
    }
   ],
   "source": [
    "acc_train "
   ]
  },
  {
   "cell_type": "code",
   "execution_count": 20,
   "id": "furnished-andrews",
   "metadata": {},
   "outputs": [],
   "source": [
    "yproba1_test = model.predict_proba(x_test)[:, 1] \n",
    "np.savetxt('yproba1_test.txt', yproba1_test)"
   ]
  },
  {
   "cell_type": "markdown",
   "id": "chubby-racing",
   "metadata": {},
   "source": [
    "#### Test for all data - Train on all train data "
   ]
  },
  {
   "cell_type": "code",
   "execution_count": 21,
   "id": "composite-excitement",
   "metadata": {},
   "outputs": [],
   "source": [
    "for C in C_grid:\n",
    "    model = LogisticRegression(solver='liblinear', C=C)\n",
    "    model.fit(x_tr, y_tr)\n",
    "    model_list.append(model)\n",
    "    \n",
    "    prob_tr = model.predict_proba(x_tr)\n",
    "    prob_va = model.predict_proba(x_va)\n",
    "\n",
    "    acc_tr = model.score(x_tr, y_tr)\n",
    "    acc_va = model.score(x_va, y_va)\n",
    "\n",
    "    tr_log_loss = log_loss(y_tr,prob_tr)\n",
    "    va_log_loss = log_loss(y_va,prob_va)\n",
    "    \n",
    "    tr_loss_list.append(tr_log_loss)\n",
    "    va_loss_list.append(va_log_loss)\n",
    "    \n",
    "    tr_acc_list.append(acc_tr)\n",
    "    va_acc_list.append(acc_va)\n"
   ]
  },
  {
   "cell_type": "markdown",
   "id": "suffering-curtis",
   "metadata": {},
   "source": [
    "## find the best model "
   ]
  },
  {
   "cell_type": "code",
   "execution_count": 22,
   "id": "extensive-surgeon",
   "metadata": {},
   "outputs": [],
   "source": [
    "min_va_loss = min(va_loss_list)\n",
    "min_va_loss_index = va_loss_list.index(min_va_loss)\n",
    "best_C =  C_grid[min_va_loss_index]\n",
    "best_acc = va_acc_list[min_va_loss_index]"
   ]
  },
  {
   "cell_type": "code",
   "execution_count": 23,
   "id": "stylish-favor",
   "metadata": {},
   "outputs": [
    {
     "name": "stdout",
     "output_type": "stream",
     "text": [
      "Best C-value for LR with 2-feature data: 0.316228\n",
      "Test set log-loss at best C-value: 0.1207\n",
      "Test set accuracy rate at best C-value: 0.9556\n"
     ]
    }
   ],
   "source": [
    "print(\"Best C-value for LR with 2-feature data: %.6f\" % best_C) \n",
    "print(\"Test set log-loss at best C-value: %.4f\" % min_va_loss)\n",
    "print(\"Test set accuracy rate at best C-value: %.4f\" % best_acc)"
   ]
  },
  {
   "cell_type": "code",
   "execution_count": 24,
   "id": "important-officer",
   "metadata": {},
   "outputs": [],
   "source": [
    "best_model = model_list[min_va_loss_index]\n",
    "# yprob_va = best_model.predict_proba(x_va)\n",
    "# print(calc_confusion_matrix_for_threshold(y_va, yprob_va[:, 1], 0.5))"
   ]
  },
  {
   "cell_type": "code",
   "execution_count": 25,
   "id": "electoral-depth",
   "metadata": {},
   "outputs": [],
   "source": [
    "# x_test = np.loadtxt('data_sneaker_vs_sandal/x_test.csv') \n",
    "yproba1_test = best_model.predict_proba(x_test)[:, 1] \n",
    "np.savetxt('yproba1_test.txt', yproba1_test)"
   ]
  },
  {
   "cell_type": "markdown",
   "id": "speaking-robinson",
   "metadata": {},
   "source": [
    "## Feature Scaling"
   ]
  },
  {
   "cell_type": "markdown",
   "id": "substantial-infrastructure",
   "metadata": {},
   "source": [
    "### A basic perceptron model: one test\n",
    "\n",
    "A simple perceptron model will often do an OK job on this data.  Performance can vary quite a bit, however, depending upon the exact test/train split we get, which by default is randomized across runs.  Performance can also be hampered somewhat by the fact that the original data is not scaled, and displays different orders of magnitude.\n",
    "\n",
    "https://scikit-learn.org/stable/modules/generated/sklearn.linear_model.Perceptron.html"
   ]
  },
  {
   "cell_type": "markdown",
   "id": "coupled-seventh",
   "metadata": {},
   "source": [
    "### Scaling data features\n",
    "\n",
    "We can use the exact same test/train split, but scale all our features to the $[0,1]$ range, independently (i.e., each is scaled according to its own maximum/minimum values).  This tends to give significantly better performance, since coefficient-weights on large-magnitude features are less likely to exert undue influence in the solution process.\n",
    "\n",
    "https://scikit-learn.org/stable/modules/generated/sklearn.preprocessing.minmax_scale.html"
   ]
  },
  {
   "cell_type": "code",
   "execution_count": 26,
   "id": "ideal-kruger",
   "metadata": {},
   "outputs": [
    {
     "name": "stdout",
     "output_type": "stream",
     "text": [
      "-----------------\n",
      "Classify with scaled data, 1 split\n",
      "-----------------\n",
      "Train accuracy:  0.9719444444444445\n",
      "Test accuracy:  0.9558333333333333\n"
     ]
    }
   ],
   "source": [
    "print(\"-----------------\\nClassify with scaled data, 1 split\\n-----------------\")\n",
    "X_scaled_tr = minmax_scale(x_tr)\n",
    "X_scaled_va = minmax_scale(x_va)\n",
    "\n",
    "best_model.fit(X_scaled_tr, y_tr)\n",
    "pred_tr = best_model.predict(X_scaled_tr)\n",
    "pred_va = best_model.predict(X_scaled_va)\n",
    "\n",
    "acc_tr = accuracy_score(pred_tr, y_tr)\n",
    "acc_va = accuracy_score(pred_va, y_va)\n",
    "print(\"Train accuracy: \", acc_tr)\n",
    "print(\"Test accuracy: \", acc_va)"
   ]
  },
  {
   "cell_type": "code",
   "execution_count": 27,
   "id": "supreme-intermediate",
   "metadata": {},
   "outputs": [
    {
     "name": "stdout",
     "output_type": "stream",
     "text": [
      "-----------------\n",
      "Classify with scaled data, 1 split\n",
      "-----------------\n",
      "Train accuracy:  0.9701666666666666\n"
     ]
    }
   ],
   "source": [
    "print(\"-----------------\\nClassify with scaled data, 1 split\\n-----------------\")\n",
    "X_scaled_train = minmax_scale(x_train)\n",
    "\n",
    "best_model.fit(X_scaled_train, y_train)\n",
    "pred_train = best_model.predict(X_scaled_train)\n",
    "acc_train = accuracy_score(pred_train, y_train)\n",
    "print(\"Train accuracy: \", acc_train)\n"
   ]
  },
  {
   "cell_type": "code",
   "execution_count": 28,
   "id": "changing-geneva",
   "metadata": {},
   "outputs": [],
   "source": [
    "X_scaled_test = minmax_scale(x_test)\n",
    "yproba1_test = best_model.predict_proba(X_scaled_test)[:, 1] \n",
    "np.savetxt('yproba1_test.txt', yproba1_test)"
   ]
  },
  {
   "cell_type": "markdown",
   "id": "connected-syria",
   "metadata": {},
   "source": [
    "### Cross-validation testing\n",
    "\n",
    "Rather than a single randomized test/train split, we can automate the process somewhat by using $k$-fold cross validation techniques.  Like most things, there are a number of ways of handling this; this is one that is pretty basic, using a `KFold` object to generate splits of our data automatically.  Here, we do this for our basic, non-scaled data, using 5 folds.\n",
    "\n",
    "https://scikit-learn.org/stable/modules/generated/sklearn.model_selection.KFold.html"
   ]
  },
  {
   "cell_type": "code",
   "execution_count": 29,
   "id": "decreased-metropolitan",
   "metadata": {},
   "outputs": [
    {
     "name": "stdout",
     "output_type": "stream",
     "text": [
      "-----------------\n",
      "Classify with base data, 5 folds\n",
      "-----------------\n",
      "Train accuracy:  0.9994791666666667\n",
      "Test accuracy:  0.9263888888888889\n",
      "Train accuracy:  1.0\n",
      "Test accuracy:  0.93125\n"
     ]
    },
    {
     "name": "stderr",
     "output_type": "stream",
     "text": [
      "/Users/mac/opt/anaconda3/envs/ml135_env/lib/python3.9/site-packages/sklearn/svm/_base.py:976: ConvergenceWarning: Liblinear failed to converge, increase the number of iterations.\n",
      "  warnings.warn(\"Liblinear failed to converge, increase \"\n"
     ]
    },
    {
     "name": "stdout",
     "output_type": "stream",
     "text": [
      "Train accuracy:  0.9998263888888889\n",
      "Test accuracy:  0.9354166666666667\n"
     ]
    },
    {
     "name": "stderr",
     "output_type": "stream",
     "text": [
      "/Users/mac/opt/anaconda3/envs/ml135_env/lib/python3.9/site-packages/sklearn/svm/_base.py:976: ConvergenceWarning: Liblinear failed to converge, increase the number of iterations.\n",
      "  warnings.warn(\"Liblinear failed to converge, increase \"\n"
     ]
    },
    {
     "name": "stdout",
     "output_type": "stream",
     "text": [
      "Train accuracy:  0.9949652777777778\n",
      "Test accuracy:  0.9340277777777778\n",
      "Train accuracy:  1.0\n",
      "Test accuracy:  0.93125\n",
      "\n",
      "Average train accuracy:  1.0\n",
      "Average test accuracy:  0.93125\n"
     ]
    }
   ],
   "source": [
    "print(\"-----------------\\nClassify with base data, 5 folds\\n-----------------\")\n",
    "\n",
    "k = 5\n",
    "kfold = KFold(n_splits=k)\n",
    "train_scores = []\n",
    "test_scores = []\n",
    "\n",
    "for train_idx, test_idx in kfold.split(x_tr):\n",
    "    X_train, X_test = x_tr[train_idx,:], x_tr[test_idx,:]\n",
    "    y_train, y_test = y_tr[train_idx], y_tr[test_idx]\n",
    "    \n",
    "    model.fit(X_train, y_train)\n",
    "    pred_train = model.predict(X_train)\n",
    "    pred_test = model.predict(X_test)\n",
    "\n",
    "    acc_train = accuracy_score(pred_train, y_train)\n",
    "    acc_test = accuracy_score(pred_test, y_test)\n",
    "    print(\"Train accuracy: \", acc_train)\n",
    "    print(\"Test accuracy: \", acc_test)\n",
    "    \n",
    "    train_scores.append(acc_train)\n",
    "    test_scores.append(acc_test)\n",
    "    \n",
    "print(\"\\nAverage train accuracy: \", np.average(acc_train))\n",
    "print(\"Average test accuracy: \", np.average(acc_test))"
   ]
  },
  {
   "cell_type": "markdown",
   "id": "green-amber",
   "metadata": {},
   "source": [
    "### Combining data transformation and cross-validation\n",
    "\n",
    "We can also do our $k$-fold validation of data after scaling each feature to $[0,1]$.  This gives us the best accuracy and most robust expected performance.\n",
    "\n",
    "This code is almost identical to that above, but differs in how we access data.\n",
    "    In the above, the `X.iloc[index,:]` notation is used, because the data is still in\n",
    "    data-frame form from pandas.  Here, we index more directly as `X[index,:]`, because\n",
    "    we have run `minmax_scale()` on it, which converts it from pandas frame to more basic\n",
    "    array-based structure.\n",
    "    \n",
    "**NB**: the `KFold.split()` function can handle data in either pandas data-frame or \n",
    "    basic array-based format, and several more.  In general, most of sklearn is pretty good at handling all\n",
    "    manner of basic linear data.  See the entry for 'array-like' at:\n",
    "    \n",
    "    https://scikit-learn.org/stable/glossary.html"
   ]
  },
  {
   "cell_type": "code",
   "execution_count": 30,
   "id": "coordinated-makeup",
   "metadata": {},
   "outputs": [
    {
     "name": "stdout",
     "output_type": "stream",
     "text": [
      "-----------------\n",
      "Classify with scaled data, 5 folds\n",
      "-----------------\n"
     ]
    },
    {
     "ename": "IndexError",
     "evalue": "index 5760 is out of bounds for axis 0 with size 5760",
     "output_type": "error",
     "traceback": [
      "\u001b[0;31m---------------------------------------------------------------------------\u001b[0m",
      "\u001b[0;31mIndexError\u001b[0m                                Traceback (most recent call last)",
      "\u001b[0;32m<ipython-input-30-043750d8793d>\u001b[0m in \u001b[0;36m<module>\u001b[0;34m\u001b[0m\n\u001b[1;32m     10\u001b[0m \u001b[0;32mfor\u001b[0m \u001b[0mtrain_idx\u001b[0m\u001b[0;34m,\u001b[0m \u001b[0mtest_idx\u001b[0m \u001b[0;32min\u001b[0m \u001b[0mkfold\u001b[0m\u001b[0;34m.\u001b[0m\u001b[0msplit\u001b[0m\u001b[0;34m(\u001b[0m\u001b[0mX_scaled\u001b[0m\u001b[0;34m)\u001b[0m\u001b[0;34m:\u001b[0m\u001b[0;34m\u001b[0m\u001b[0;34m\u001b[0m\u001b[0m\n\u001b[1;32m     11\u001b[0m     \u001b[0mX_train\u001b[0m\u001b[0;34m,\u001b[0m \u001b[0mX_test\u001b[0m \u001b[0;34m=\u001b[0m \u001b[0mX_scaled\u001b[0m\u001b[0;34m[\u001b[0m\u001b[0mtrain_idx\u001b[0m\u001b[0;34m,\u001b[0m\u001b[0;34m:\u001b[0m\u001b[0;34m]\u001b[0m\u001b[0;34m,\u001b[0m \u001b[0mX_scaled\u001b[0m\u001b[0;34m[\u001b[0m\u001b[0mtest_idx\u001b[0m\u001b[0;34m,\u001b[0m\u001b[0;34m:\u001b[0m\u001b[0;34m]\u001b[0m\u001b[0;34m\u001b[0m\u001b[0;34m\u001b[0m\u001b[0m\n\u001b[0;32m---> 12\u001b[0;31m     \u001b[0mY_train\u001b[0m\u001b[0;34m,\u001b[0m \u001b[0mY_test\u001b[0m \u001b[0;34m=\u001b[0m \u001b[0my_train\u001b[0m\u001b[0;34m[\u001b[0m\u001b[0mtrain_idx\u001b[0m\u001b[0;34m]\u001b[0m\u001b[0;34m,\u001b[0m \u001b[0my_train\u001b[0m\u001b[0;34m[\u001b[0m\u001b[0mtest_idx\u001b[0m\u001b[0;34m]\u001b[0m\u001b[0;34m\u001b[0m\u001b[0;34m\u001b[0m\u001b[0m\n\u001b[0m\u001b[1;32m     13\u001b[0m \u001b[0;34m\u001b[0m\u001b[0m\n\u001b[1;32m     14\u001b[0m     \u001b[0mmodel\u001b[0m\u001b[0;34m.\u001b[0m\u001b[0mfit\u001b[0m\u001b[0;34m(\u001b[0m\u001b[0mX_train\u001b[0m\u001b[0;34m,\u001b[0m \u001b[0mY_train\u001b[0m\u001b[0;34m)\u001b[0m\u001b[0;34m\u001b[0m\u001b[0;34m\u001b[0m\u001b[0m\n",
      "\u001b[0;31mIndexError\u001b[0m: index 5760 is out of bounds for axis 0 with size 5760"
     ]
    }
   ],
   "source": [
    "print(\"-----------------\\nClassify with scaled data, 5 folds\\n-----------------\")\n",
    "\n",
    "\"\"\" \n",
    "\"\"\"\n",
    "\n",
    "X_scaled = minmax_scale(x_train)\n",
    "train_scores = []\n",
    "test_scores = []\n",
    "\n",
    "for train_idx, test_idx in kfold.split(X_scaled):\n",
    "    X_train, X_test = X_scaled[train_idx,:], X_scaled[test_idx,:]\n",
    "    Y_train, Y_test = y_train[train_idx], y_train[test_idx]\n",
    "    \n",
    "    model.fit(X_train, Y_train)\n",
    "    pred_train = model.predict(X_train)\n",
    "    pred_test = model.predict(X_test)\n",
    "\n",
    "    acc_train = accuracy_score(pred_train, Y_train)\n",
    "    acc_test = accuracy_score(pred_test, Y_test)\n",
    "    print(\"Train accuracy: \", acc_train)\n",
    "    print(\"Test accuracy: \", acc_test)\n",
    "    \n",
    "    train_scores.append(acc_train)\n",
    "    test_scores.append(acc_test)\n",
    "    \n",
    "print(\"\\nAverage train accuracy: \", np.average(acc_train))\n",
    "print(\"Average test accuracy: \", np.average(acc_test))"
   ]
  },
  {
   "cell_type": "markdown",
   "id": "improving-there",
   "metadata": {},
   "source": [
    "## What does the data look like "
   ]
  },
  {
   "cell_type": "code",
   "execution_count": 59,
   "id": "arabic-cotton",
   "metadata": {},
   "outputs": [],
   "source": [
    "# sandals : x_train[sandal_i]\n",
    "sandals_i = y_train.nonzero()\n",
    "sneakers_i = np.setdiff1d( np.arange(0, 12000), sandals_i) \n",
    "\n",
    "# 6000 sandals\n",
    "# 6000 sneakers"
   ]
  },
  {
   "cell_type": "code",
   "execution_count": 60,
   "id": "level-lender",
   "metadata": {},
   "outputs": [],
   "source": [
    "rng = default_rng()\n",
    "\n",
    "x_sneakers = x_train[sneakers_i]\n",
    "x_sandals = x_train[sandals_i]\n",
    "\n",
    "sample_sandals = rng.choice(x_train[sandals_i], 20)\n",
    "sample_sneakers = rng.choice(x_train[sneakers_i], 20)"
   ]
  },
  {
   "cell_type": "code",
   "execution_count": 61,
   "id": "returning-antigua",
   "metadata": {},
   "outputs": [
    {
     "name": "stdout",
     "output_type": "stream",
     "text": [
      "-----------------------\n"
     ]
    },
    {
     "data": {
      "image/png": "[encoded data removed]",
      "text/plain": [
       "<Figure size 576x576 with 20 Axes>"
      ]
     },
     "metadata": {},
     "output_type": "display_data"
    },
    {
     "data": {
      "image/png": "[encoded data removed]",
      "text/plain": [
       "<Figure size 576x576 with 20 Axes>"
      ]
     },
     "metadata": {},
     "output_type": "display_data"
    }
   ],
   "source": [
    "fig_sneakers = plt.figure(figsize=(8, 8))\n",
    "for i in range(20):\n",
    "    plt.subplot(4, 5, i + 1)\n",
    "    plt.axis('off')\n",
    "    plt.imshow(np.reshape(sample_sandals[i], (28,28)), cmap=plt.cm.gray, vmin=0.0, vmax=1.0)\n",
    "\n",
    "print('-----------------------')\n",
    "fig_scandals = plt.figure(figsize=(8, 8))\n",
    "for i in range(20):\n",
    "    plt.subplot(4, 5, i + 1)\n",
    "    plt.axis('off')\n",
    "    plt.imshow(np.reshape(sample_sneakers[i], (28,28)), cmap=plt.cm.gray, vmin=0.0, vmax=1.0)\n",
    "    \n",
    "plt.show()"
   ]
  },
  {
   "cell_type": "markdown",
   "id": "oriented-blair",
   "metadata": {},
   "source": [
    "# histogram "
   ]
  },
  {
   "cell_type": "code",
   "execution_count": 62,
   "id": "featured-samoa",
   "metadata": {},
   "outputs": [
    {
     "data": {
      "text/plain": [
       "(array([8.02, 2.43, 1.87, 1.74, 1.79, 1.24, 1.08, 1.32, 0.84, 0.34]),\n",
       " array([0.  , 0.05, 0.1 , 0.15, 0.19, 0.24, 0.29, 0.34, 0.39, 0.44, 0.48]),\n",
       " <BarContainer object of 10 artists>)"
      ]
     },
     "execution_count": 62,
     "metadata": {},
     "output_type": "execute_result"
    },
    {
     "data": {
      "image/png": "[encoded data removed]",
      "text/plain": [
       "<Figure size 576x396 with 1 Axes>"
      ]
     },
     "metadata": {},
     "output_type": "display_data"
    }
   ],
   "source": [
    "aver_sandals = np.mean(x_sandals,axis=0)\n",
    "plt.hist(aver_sandals, density=True) "
   ]
  },
  {
   "cell_type": "code",
   "execution_count": 63,
   "id": "classified-mineral",
   "metadata": {},
   "outputs": [
    {
     "data": {
      "text/plain": [
       "(array([8.44, 0.82, 0.76, 0.29, 0.58, 0.49, 0.58, 0.51, 0.67, 1.07]),\n",
       " array([0.  , 0.07, 0.14, 0.21, 0.28, 0.35, 0.42, 0.49, 0.56, 0.63, 0.7 ]),\n",
       " <BarContainer object of 10 artists>)"
      ]
     },
     "execution_count": 63,
     "metadata": {},
     "output_type": "execute_result"
    },
    {
     "data": {
      "image/png": "[encoded data removed]",
      "text/plain": [
       "<Figure size 576x396 with 1 Axes>"
      ]
     },
     "metadata": {},
     "output_type": "display_data"
    }
   ],
   "source": [
    "aver_sneakers = np.mean(x_sneakers,axis=0)\n",
    "plt.hist(aver_sneakers, density=True) "
   ]
  },
  {
   "cell_type": "code",
   "execution_count": 64,
   "id": "destroyed-financing",
   "metadata": {},
   "outputs": [
    {
     "data": {
      "image/png": "[encoded data removed]",
      "text/plain": [
       "<Figure size 576x396 with 1 Axes>"
      ]
     },
     "metadata": {},
     "output_type": "display_data"
    }
   ],
   "source": [
    "# find mean pixel intensity for all sandals and sneakers\n",
    "aver_sandals = np.mean(x_sandals,axis=0)\n",
    "aver_sneakers = np.mean(x_sneakers,axis=0)\n",
    "\n",
    "# plot histogram to compare pixel intensity distribution\n",
    "plt.title(\"histograms of sandals and sneakers data\")\n",
    "plt.hist(aver_sandals, bins = 10, range=(0,1), alpha=0.5, density=True, label='sandals')\n",
    "plt.hist(aver_sneakers,  bins = 10, range=(0,1), alpha=0.5, density=True, label='sneakers')\n",
    "plt.legend(loc='upper right')\n",
    "plt.show()"
   ]
  },
  {
   "cell_type": "code",
   "execution_count": 51,
   "id": "empty-address",
   "metadata": {},
   "outputs": [],
   "source": [
    "x_train_ft_hist = []\n",
    "x_test_ft_hist = []\n",
    "\n",
    "for i in range(len(x_train)):\n",
    "    his, _ = np.histogram(x_train[i],  bins = 5, range=(0,0.5), density=True)\n",
    "    ft_hist = np.append(x_train[i], np.array(his))\n",
    "    x_train_ft_hist.append(ft_hist)\n",
    "\n",
    "for i in range(len(x_test)):  \n",
    "    his, _ = np.histogram(x_test[i],  bins = 5, range=(0,0.5), density=True)\n",
    "    ft_hist_test = np.append(x_test[i], np.array(his))\n",
    "    x_test_ft_hist.append(ft_hist_test)"
   ]
  },
  {
   "cell_type": "code",
   "execution_count": 44,
   "id": "backed-faculty",
   "metadata": {},
   "outputs": [
    {
     "ename": "ValueError",
     "evalue": "Found input variables with inconsistent numbers of samples: [12000, 5760]",
     "output_type": "error",
     "traceback": [
      "\u001b[0;31m---------------------------------------------------------------------------\u001b[0m",
      "\u001b[0;31mValueError\u001b[0m                                Traceback (most recent call last)",
      "\u001b[0;32m<ipython-input-44-f7cf181afa65>\u001b[0m in \u001b[0;36m<module>\u001b[0;34m\u001b[0m\n\u001b[1;32m      1\u001b[0m \u001b[0mmodel\u001b[0m \u001b[0;34m=\u001b[0m \u001b[0mLogisticRegression\u001b[0m\u001b[0;34m(\u001b[0m\u001b[0msolver\u001b[0m\u001b[0;34m=\u001b[0m\u001b[0;34m'liblinear'\u001b[0m\u001b[0;34m,\u001b[0m \u001b[0mC\u001b[0m\u001b[0;34m=\u001b[0m\u001b[0;36m1\u001b[0m\u001b[0;34m)\u001b[0m\u001b[0;34m\u001b[0m\u001b[0;34m\u001b[0m\u001b[0m\n\u001b[0;32m----> 2\u001b[0;31m \u001b[0mmodel\u001b[0m\u001b[0;34m.\u001b[0m\u001b[0mfit\u001b[0m\u001b[0;34m(\u001b[0m\u001b[0mx_train_ft_hist\u001b[0m\u001b[0;34m,\u001b[0m \u001b[0my_train\u001b[0m\u001b[0;34m)\u001b[0m\u001b[0;34m\u001b[0m\u001b[0;34m\u001b[0m\u001b[0m\n\u001b[0m\u001b[1;32m      3\u001b[0m \u001b[0;34m\u001b[0m\u001b[0m\n\u001b[1;32m      4\u001b[0m \u001b[0mprob_train\u001b[0m \u001b[0;34m=\u001b[0m \u001b[0mmodel\u001b[0m\u001b[0;34m.\u001b[0m\u001b[0mpredict_proba\u001b[0m\u001b[0;34m(\u001b[0m\u001b[0mx_train_ft_hist\u001b[0m\u001b[0;34m)\u001b[0m\u001b[0;34m\u001b[0m\u001b[0;34m\u001b[0m\u001b[0m\n\u001b[1;32m      5\u001b[0m \u001b[0macc_train\u001b[0m \u001b[0;34m=\u001b[0m \u001b[0mmodel\u001b[0m\u001b[0;34m.\u001b[0m\u001b[0mscore\u001b[0m\u001b[0;34m(\u001b[0m\u001b[0mx_train_ft_hist\u001b[0m\u001b[0;34m,\u001b[0m \u001b[0my_train\u001b[0m\u001b[0;34m)\u001b[0m\u001b[0;34m\u001b[0m\u001b[0;34m\u001b[0m\u001b[0m\n",
      "\u001b[0;32m~/opt/anaconda3/envs/ml135_env/lib/python3.9/site-packages/sklearn/linear_model/_logistic.py\u001b[0m in \u001b[0;36mfit\u001b[0;34m(self, X, y, sample_weight)\u001b[0m\n\u001b[1;32m   1340\u001b[0m             \u001b[0m_dtype\u001b[0m \u001b[0;34m=\u001b[0m \u001b[0;34m[\u001b[0m\u001b[0mnp\u001b[0m\u001b[0;34m.\u001b[0m\u001b[0mfloat64\u001b[0m\u001b[0;34m,\u001b[0m \u001b[0mnp\u001b[0m\u001b[0;34m.\u001b[0m\u001b[0mfloat32\u001b[0m\u001b[0;34m]\u001b[0m\u001b[0;34m\u001b[0m\u001b[0;34m\u001b[0m\u001b[0m\n\u001b[1;32m   1341\u001b[0m \u001b[0;34m\u001b[0m\u001b[0m\n\u001b[0;32m-> 1342\u001b[0;31m         X, y = self._validate_data(X, y, accept_sparse='csr', dtype=_dtype,\n\u001b[0m\u001b[1;32m   1343\u001b[0m                                    \u001b[0morder\u001b[0m\u001b[0;34m=\u001b[0m\u001b[0;34m\"C\"\u001b[0m\u001b[0;34m,\u001b[0m\u001b[0;34m\u001b[0m\u001b[0;34m\u001b[0m\u001b[0m\n\u001b[1;32m   1344\u001b[0m                                    accept_large_sparse=solver != 'liblinear')\n",
      "\u001b[0;32m~/opt/anaconda3/envs/ml135_env/lib/python3.9/site-packages/sklearn/base.py\u001b[0m in \u001b[0;36m_validate_data\u001b[0;34m(self, X, y, reset, validate_separately, **check_params)\u001b[0m\n\u001b[1;32m    430\u001b[0m                 \u001b[0my\u001b[0m \u001b[0;34m=\u001b[0m \u001b[0mcheck_array\u001b[0m\u001b[0;34m(\u001b[0m\u001b[0my\u001b[0m\u001b[0;34m,\u001b[0m \u001b[0;34m**\u001b[0m\u001b[0mcheck_y_params\u001b[0m\u001b[0;34m)\u001b[0m\u001b[0;34m\u001b[0m\u001b[0;34m\u001b[0m\u001b[0m\n\u001b[1;32m    431\u001b[0m             \u001b[0;32melse\u001b[0m\u001b[0;34m:\u001b[0m\u001b[0;34m\u001b[0m\u001b[0;34m\u001b[0m\u001b[0m\n\u001b[0;32m--> 432\u001b[0;31m                 \u001b[0mX\u001b[0m\u001b[0;34m,\u001b[0m \u001b[0my\u001b[0m \u001b[0;34m=\u001b[0m \u001b[0mcheck_X_y\u001b[0m\u001b[0;34m(\u001b[0m\u001b[0mX\u001b[0m\u001b[0;34m,\u001b[0m \u001b[0my\u001b[0m\u001b[0;34m,\u001b[0m \u001b[0;34m**\u001b[0m\u001b[0mcheck_params\u001b[0m\u001b[0;34m)\u001b[0m\u001b[0;34m\u001b[0m\u001b[0;34m\u001b[0m\u001b[0m\n\u001b[0m\u001b[1;32m    433\u001b[0m             \u001b[0mout\u001b[0m \u001b[0;34m=\u001b[0m \u001b[0mX\u001b[0m\u001b[0;34m,\u001b[0m \u001b[0my\u001b[0m\u001b[0;34m\u001b[0m\u001b[0;34m\u001b[0m\u001b[0m\n\u001b[1;32m    434\u001b[0m \u001b[0;34m\u001b[0m\u001b[0m\n",
      "\u001b[0;32m~/opt/anaconda3/envs/ml135_env/lib/python3.9/site-packages/sklearn/utils/validation.py\u001b[0m in \u001b[0;36minner_f\u001b[0;34m(*args, **kwargs)\u001b[0m\n\u001b[1;32m     70\u001b[0m                           FutureWarning)\n\u001b[1;32m     71\u001b[0m         \u001b[0mkwargs\u001b[0m\u001b[0;34m.\u001b[0m\u001b[0mupdate\u001b[0m\u001b[0;34m(\u001b[0m\u001b[0;34m{\u001b[0m\u001b[0mk\u001b[0m\u001b[0;34m:\u001b[0m \u001b[0marg\u001b[0m \u001b[0;32mfor\u001b[0m \u001b[0mk\u001b[0m\u001b[0;34m,\u001b[0m \u001b[0marg\u001b[0m \u001b[0;32min\u001b[0m \u001b[0mzip\u001b[0m\u001b[0;34m(\u001b[0m\u001b[0msig\u001b[0m\u001b[0;34m.\u001b[0m\u001b[0mparameters\u001b[0m\u001b[0;34m,\u001b[0m \u001b[0margs\u001b[0m\u001b[0;34m)\u001b[0m\u001b[0;34m}\u001b[0m\u001b[0;34m)\u001b[0m\u001b[0;34m\u001b[0m\u001b[0;34m\u001b[0m\u001b[0m\n\u001b[0;32m---> 72\u001b[0;31m         \u001b[0;32mreturn\u001b[0m \u001b[0mf\u001b[0m\u001b[0;34m(\u001b[0m\u001b[0;34m**\u001b[0m\u001b[0mkwargs\u001b[0m\u001b[0;34m)\u001b[0m\u001b[0;34m\u001b[0m\u001b[0;34m\u001b[0m\u001b[0m\n\u001b[0m\u001b[1;32m     73\u001b[0m     \u001b[0;32mreturn\u001b[0m \u001b[0minner_f\u001b[0m\u001b[0;34m\u001b[0m\u001b[0;34m\u001b[0m\u001b[0m\n\u001b[1;32m     74\u001b[0m \u001b[0;34m\u001b[0m\u001b[0m\n",
      "\u001b[0;32m~/opt/anaconda3/envs/ml135_env/lib/python3.9/site-packages/sklearn/utils/validation.py\u001b[0m in \u001b[0;36mcheck_X_y\u001b[0;34m(X, y, accept_sparse, accept_large_sparse, dtype, order, copy, force_all_finite, ensure_2d, allow_nd, multi_output, ensure_min_samples, ensure_min_features, y_numeric, estimator)\u001b[0m\n\u001b[1;32m    810\u001b[0m         \u001b[0my\u001b[0m \u001b[0;34m=\u001b[0m \u001b[0my\u001b[0m\u001b[0;34m.\u001b[0m\u001b[0mastype\u001b[0m\u001b[0;34m(\u001b[0m\u001b[0mnp\u001b[0m\u001b[0;34m.\u001b[0m\u001b[0mfloat64\u001b[0m\u001b[0;34m)\u001b[0m\u001b[0;34m\u001b[0m\u001b[0;34m\u001b[0m\u001b[0m\n\u001b[1;32m    811\u001b[0m \u001b[0;34m\u001b[0m\u001b[0m\n\u001b[0;32m--> 812\u001b[0;31m     \u001b[0mcheck_consistent_length\u001b[0m\u001b[0;34m(\u001b[0m\u001b[0mX\u001b[0m\u001b[0;34m,\u001b[0m \u001b[0my\u001b[0m\u001b[0;34m)\u001b[0m\u001b[0;34m\u001b[0m\u001b[0;34m\u001b[0m\u001b[0m\n\u001b[0m\u001b[1;32m    813\u001b[0m \u001b[0;34m\u001b[0m\u001b[0m\n\u001b[1;32m    814\u001b[0m     \u001b[0;32mreturn\u001b[0m \u001b[0mX\u001b[0m\u001b[0;34m,\u001b[0m \u001b[0my\u001b[0m\u001b[0;34m\u001b[0m\u001b[0;34m\u001b[0m\u001b[0m\n",
      "\u001b[0;32m~/opt/anaconda3/envs/ml135_env/lib/python3.9/site-packages/sklearn/utils/validation.py\u001b[0m in \u001b[0;36mcheck_consistent_length\u001b[0;34m(*arrays)\u001b[0m\n\u001b[1;32m    253\u001b[0m     \u001b[0muniques\u001b[0m \u001b[0;34m=\u001b[0m \u001b[0mnp\u001b[0m\u001b[0;34m.\u001b[0m\u001b[0munique\u001b[0m\u001b[0;34m(\u001b[0m\u001b[0mlengths\u001b[0m\u001b[0;34m)\u001b[0m\u001b[0;34m\u001b[0m\u001b[0;34m\u001b[0m\u001b[0m\n\u001b[1;32m    254\u001b[0m     \u001b[0;32mif\u001b[0m \u001b[0mlen\u001b[0m\u001b[0;34m(\u001b[0m\u001b[0muniques\u001b[0m\u001b[0;34m)\u001b[0m \u001b[0;34m>\u001b[0m \u001b[0;36m1\u001b[0m\u001b[0;34m:\u001b[0m\u001b[0;34m\u001b[0m\u001b[0;34m\u001b[0m\u001b[0m\n\u001b[0;32m--> 255\u001b[0;31m         raise ValueError(\"Found input variables with inconsistent numbers of\"\n\u001b[0m\u001b[1;32m    256\u001b[0m                          \" samples: %r\" % [int(l) for l in lengths])\n\u001b[1;32m    257\u001b[0m \u001b[0;34m\u001b[0m\u001b[0m\n",
      "\u001b[0;31mValueError\u001b[0m: Found input variables with inconsistent numbers of samples: [12000, 5760]"
     ]
    }
   ],
   "source": [
    "model = LogisticRegression(solver='liblinear', C=1)\n",
    "model.fit(x_train_ft_hist, y_train)\n",
    "\n",
    "prob_train = model.predict_proba(x_train_ft_hist)\n",
    "acc_train = model.score(x_train_ft_hist, y_train)\n",
    "train_log_loss = log_loss(y_train,prob_train)"
   ]
  },
  {
   "cell_type": "code",
   "execution_count": 45,
   "id": "functional-threat",
   "metadata": {},
   "outputs": [
    {
     "data": {
      "text/plain": [
       "0.07912759446931152"
      ]
     },
     "execution_count": 45,
     "metadata": {},
     "output_type": "execute_result"
    }
   ],
   "source": [
    "train_log_loss"
   ]
  },
  {
   "cell_type": "code",
   "execution_count": 50,
   "id": "heated-huntington",
   "metadata": {},
   "outputs": [
    {
     "ename": "NotFittedError",
     "evalue": "This LogisticRegression instance is not fitted yet. Call 'fit' with appropriate arguments before using this estimator.",
     "output_type": "error",
     "traceback": [
      "\u001b[0;31m---------------------------------------------------------------------------\u001b[0m",
      "\u001b[0;31mNotFittedError\u001b[0m                            Traceback (most recent call last)",
      "\u001b[0;32m<ipython-input-50-ac4e3463e845>\u001b[0m in \u001b[0;36m<module>\u001b[0;34m\u001b[0m\n\u001b[0;32m----> 1\u001b[0;31m \u001b[0myproba1_test\u001b[0m \u001b[0;34m=\u001b[0m \u001b[0mmodel\u001b[0m\u001b[0;34m.\u001b[0m\u001b[0mpredict_proba\u001b[0m\u001b[0;34m(\u001b[0m\u001b[0mx_test_ft_hist\u001b[0m\u001b[0;34m)\u001b[0m\u001b[0;34m[\u001b[0m\u001b[0;34m:\u001b[0m\u001b[0;34m,\u001b[0m \u001b[0;36m1\u001b[0m\u001b[0;34m]\u001b[0m\u001b[0;34m\u001b[0m\u001b[0;34m\u001b[0m\u001b[0m\n\u001b[0m\u001b[1;32m      2\u001b[0m \u001b[0mnp\u001b[0m\u001b[0;34m.\u001b[0m\u001b[0msavetxt\u001b[0m\u001b[0;34m(\u001b[0m\u001b[0;34m'yproba1_test.txt'\u001b[0m\u001b[0;34m,\u001b[0m \u001b[0myproba1_test\u001b[0m\u001b[0;34m)\u001b[0m\u001b[0;34m\u001b[0m\u001b[0;34m\u001b[0m\u001b[0m\n",
      "\u001b[0;32m~/opt/anaconda3/envs/ml135_env/lib/python3.9/site-packages/sklearn/linear_model/_logistic.py\u001b[0m in \u001b[0;36mpredict_proba\u001b[0;34m(self, X)\u001b[0m\n\u001b[1;32m   1460\u001b[0m             \u001b[0mwhere\u001b[0m \u001b[0mclasses\u001b[0m \u001b[0mare\u001b[0m \u001b[0mordered\u001b[0m \u001b[0;32mas\u001b[0m \u001b[0mthey\u001b[0m \u001b[0mare\u001b[0m \u001b[0;32min\u001b[0m\u001b[0;31m \u001b[0m\u001b[0;31m`\u001b[0m\u001b[0;31m`\u001b[0m\u001b[0mself\u001b[0m\u001b[0;34m.\u001b[0m\u001b[0mclasses_\u001b[0m\u001b[0;31m`\u001b[0m\u001b[0;31m`\u001b[0m\u001b[0;34m.\u001b[0m\u001b[0;34m\u001b[0m\u001b[0;34m\u001b[0m\u001b[0m\n\u001b[1;32m   1461\u001b[0m         \"\"\"\n\u001b[0;32m-> 1462\u001b[0;31m         \u001b[0mcheck_is_fitted\u001b[0m\u001b[0;34m(\u001b[0m\u001b[0mself\u001b[0m\u001b[0;34m)\u001b[0m\u001b[0;34m\u001b[0m\u001b[0;34m\u001b[0m\u001b[0m\n\u001b[0m\u001b[1;32m   1463\u001b[0m \u001b[0;34m\u001b[0m\u001b[0m\n\u001b[1;32m   1464\u001b[0m         ovr = (self.multi_class in [\"ovr\", \"warn\"] or\n",
      "\u001b[0;32m~/opt/anaconda3/envs/ml135_env/lib/python3.9/site-packages/sklearn/utils/validation.py\u001b[0m in \u001b[0;36minner_f\u001b[0;34m(*args, **kwargs)\u001b[0m\n\u001b[1;32m     70\u001b[0m                           FutureWarning)\n\u001b[1;32m     71\u001b[0m         \u001b[0mkwargs\u001b[0m\u001b[0;34m.\u001b[0m\u001b[0mupdate\u001b[0m\u001b[0;34m(\u001b[0m\u001b[0;34m{\u001b[0m\u001b[0mk\u001b[0m\u001b[0;34m:\u001b[0m \u001b[0marg\u001b[0m \u001b[0;32mfor\u001b[0m \u001b[0mk\u001b[0m\u001b[0;34m,\u001b[0m \u001b[0marg\u001b[0m \u001b[0;32min\u001b[0m \u001b[0mzip\u001b[0m\u001b[0;34m(\u001b[0m\u001b[0msig\u001b[0m\u001b[0;34m.\u001b[0m\u001b[0mparameters\u001b[0m\u001b[0;34m,\u001b[0m \u001b[0margs\u001b[0m\u001b[0;34m)\u001b[0m\u001b[0;34m}\u001b[0m\u001b[0;34m)\u001b[0m\u001b[0;34m\u001b[0m\u001b[0;34m\u001b[0m\u001b[0m\n\u001b[0;32m---> 72\u001b[0;31m         \u001b[0;32mreturn\u001b[0m \u001b[0mf\u001b[0m\u001b[0;34m(\u001b[0m\u001b[0;34m**\u001b[0m\u001b[0mkwargs\u001b[0m\u001b[0;34m)\u001b[0m\u001b[0;34m\u001b[0m\u001b[0;34m\u001b[0m\u001b[0m\n\u001b[0m\u001b[1;32m     73\u001b[0m     \u001b[0;32mreturn\u001b[0m \u001b[0minner_f\u001b[0m\u001b[0;34m\u001b[0m\u001b[0;34m\u001b[0m\u001b[0m\n\u001b[1;32m     74\u001b[0m \u001b[0;34m\u001b[0m\u001b[0m\n",
      "\u001b[0;32m~/opt/anaconda3/envs/ml135_env/lib/python3.9/site-packages/sklearn/utils/validation.py\u001b[0m in \u001b[0;36mcheck_is_fitted\u001b[0;34m(estimator, attributes, msg, all_or_any)\u001b[0m\n\u001b[1;32m   1017\u001b[0m \u001b[0;34m\u001b[0m\u001b[0m\n\u001b[1;32m   1018\u001b[0m     \u001b[0;32mif\u001b[0m \u001b[0;32mnot\u001b[0m \u001b[0mattrs\u001b[0m\u001b[0;34m:\u001b[0m\u001b[0;34m\u001b[0m\u001b[0;34m\u001b[0m\u001b[0m\n\u001b[0;32m-> 1019\u001b[0;31m         \u001b[0;32mraise\u001b[0m \u001b[0mNotFittedError\u001b[0m\u001b[0;34m(\u001b[0m\u001b[0mmsg\u001b[0m \u001b[0;34m%\u001b[0m \u001b[0;34m{\u001b[0m\u001b[0;34m'name'\u001b[0m\u001b[0;34m:\u001b[0m \u001b[0mtype\u001b[0m\u001b[0;34m(\u001b[0m\u001b[0mestimator\u001b[0m\u001b[0;34m)\u001b[0m\u001b[0;34m.\u001b[0m\u001b[0m__name__\u001b[0m\u001b[0;34m}\u001b[0m\u001b[0;34m)\u001b[0m\u001b[0;34m\u001b[0m\u001b[0;34m\u001b[0m\u001b[0m\n\u001b[0m\u001b[1;32m   1020\u001b[0m \u001b[0;34m\u001b[0m\u001b[0m\n\u001b[1;32m   1021\u001b[0m \u001b[0;34m\u001b[0m\u001b[0m\n",
      "\u001b[0;31mNotFittedError\u001b[0m: This LogisticRegression instance is not fitted yet. Call 'fit' with appropriate arguments before using this estimator."
     ]
    }
   ],
   "source": [
    "yproba1_test = model.predict_proba(x_test_ft_hist)[:, 1] \n",
    "np.savetxt('yproba1_test.txt', yproba1_test)"
   ]
  },
  {
   "cell_type": "markdown",
   "id": "curious-growing",
   "metadata": {},
   "source": [
    "##  Overall numbers of white or black pixels."
   ]
  },
  {
   "cell_type": "code",
   "execution_count": null,
   "id": "4f42b06c",
   "metadata": {},
   "outputs": [],
   "source": [
    "train_N, train_M = x_train.shape\n",
    "test_N, test_M = x_test.shape\n",
    "\n",
    "'''\n",
    "    Adding pixel intensity as a new feature: \n",
    "    ------\n",
    "        nBlack : pixel intensity is 0\n",
    "        ✓ nWhite : pixel intensity is 1\n",
    "        nDark  : pixel intensity less than 0.5\n",
    "        ✓ nBright: pixel intensity greater or equal to 0.5    \n",
    "'''\n",
    "\n",
    "# count nBlack, nWhite, nDark, nBright\n",
    "#   Xtrain features \n",
    "x_train_nWhite  = np.sum(x_train == 1, axis=1)\n",
    "x_train_nBright = np.sum(x_train >= 0.5, axis=1)\n",
    "\n",
    "#  Xtest features\n",
    "x_test_nWhite  = np.sum(x_test == 1, axis=1)\n",
    "x_test_nBright = np.sum(x_test >= 0.5, axis=1)\n",
    "\n",
    "# amplify valid pixels (nWhite and nBright) \n",
    "#   Xtrain features \n",
    "x_train_bnw_features = np.concatenate((x_train_nWhite, x_train_nBright)).reshape(train_N,-1)\n",
    "x_train_ft_bnw = np.append(x_train, x_train_bnw_features, axis=1)\n",
    "\n",
    "#   Xtest features \n",
    "x_test_bnw_features = np.concatenate((x_test_nWhite, x_test_nBright)).reshape(test_N,-1)\n",
    "x_test_ft_bnw = np.append(x_test, x_test_bnw_features, axis=1)"
   ]
  },
  {
   "cell_type": "code",
   "execution_count": null,
   "id": "overhead-purple",
   "metadata": {},
   "outputs": [],
   "source": [
    "# train model\n",
    "model = LogisticRegression(solver='liblinear')\n",
    "model.fit(x_train_bnw_features, y_train)\n",
    "\n",
    "\n",
    "# calculate model score and log loss\n",
    "prob_train = model.predict_proba(x_train_ft_bnw)\n",
    "acc_train = model.score(x_train_ft_bnw, y_train)\n",
    "train_log_loss = log_loss(y_train, prob_train)"
   ]
  },
  {
   "cell_type": "code",
   "execution_count": null,
   "id": "green-steel",
   "metadata": {},
   "outputs": [],
   "source": [
    "# predict the result\n",
    "yproba1_test = model.predict_proba(x_test_ft_bnw)[:, 1] \n",
    "np.savetxt('yproba1_test.txt', yproba1_test)"
   ]
  },
  {
   "cell_type": "markdown",
   "id": "danish-capture",
   "metadata": {},
   "source": [
    "# histogram "
   ]
  },
  {
   "cell_type": "code",
   "execution_count": 48,
   "id": "gorgeous-sheet",
   "metadata": {},
   "outputs": [
    {
     "ename": "ValueError",
     "evalue": "Found input variables with inconsistent numbers of samples: [12000, 5760]",
     "output_type": "error",
     "traceback": [
      "\u001b[0;31m---------------------------------------------------------------------------\u001b[0m",
      "\u001b[0;31mValueError\u001b[0m                                Traceback (most recent call last)",
      "\u001b[0;32m<ipython-input-48-35665a3242a3>\u001b[0m in \u001b[0;36m<module>\u001b[0;34m\u001b[0m\n\u001b[0;32m----> 1\u001b[0;31m \u001b[0mx_tr\u001b[0m\u001b[0;34m,\u001b[0m \u001b[0mx_va\u001b[0m\u001b[0;34m,\u001b[0m \u001b[0my_tr\u001b[0m\u001b[0;34m,\u001b[0m \u001b[0my_va\u001b[0m \u001b[0;34m=\u001b[0m \u001b[0mtrain_test_split\u001b[0m\u001b[0;34m(\u001b[0m\u001b[0mx_train\u001b[0m\u001b[0;34m,\u001b[0m \u001b[0my_train\u001b[0m\u001b[0;34m,\u001b[0m \u001b[0mtest_size\u001b[0m\u001b[0;34m=\u001b[0m\u001b[0;36m0.4\u001b[0m\u001b[0;34m)\u001b[0m\u001b[0;34m\u001b[0m\u001b[0;34m\u001b[0m\u001b[0m\n\u001b[0m",
      "\u001b[0;32m~/opt/anaconda3/envs/ml135_env/lib/python3.9/site-packages/sklearn/model_selection/_split.py\u001b[0m in \u001b[0;36mtrain_test_split\u001b[0;34m(*arrays, **options)\u001b[0m\n\u001b[1;32m   2125\u001b[0m         \u001b[0;32mraise\u001b[0m \u001b[0mTypeError\u001b[0m\u001b[0;34m(\u001b[0m\u001b[0;34m\"Invalid parameters passed: %s\"\u001b[0m \u001b[0;34m%\u001b[0m \u001b[0mstr\u001b[0m\u001b[0;34m(\u001b[0m\u001b[0moptions\u001b[0m\u001b[0;34m)\u001b[0m\u001b[0;34m)\u001b[0m\u001b[0;34m\u001b[0m\u001b[0;34m\u001b[0m\u001b[0m\n\u001b[1;32m   2126\u001b[0m \u001b[0;34m\u001b[0m\u001b[0m\n\u001b[0;32m-> 2127\u001b[0;31m     \u001b[0marrays\u001b[0m \u001b[0;34m=\u001b[0m \u001b[0mindexable\u001b[0m\u001b[0;34m(\u001b[0m\u001b[0;34m*\u001b[0m\u001b[0marrays\u001b[0m\u001b[0;34m)\u001b[0m\u001b[0;34m\u001b[0m\u001b[0;34m\u001b[0m\u001b[0m\n\u001b[0m\u001b[1;32m   2128\u001b[0m \u001b[0;34m\u001b[0m\u001b[0m\n\u001b[1;32m   2129\u001b[0m     \u001b[0mn_samples\u001b[0m \u001b[0;34m=\u001b[0m \u001b[0m_num_samples\u001b[0m\u001b[0;34m(\u001b[0m\u001b[0marrays\u001b[0m\u001b[0;34m[\u001b[0m\u001b[0;36m0\u001b[0m\u001b[0;34m]\u001b[0m\u001b[0;34m)\u001b[0m\u001b[0;34m\u001b[0m\u001b[0;34m\u001b[0m\u001b[0m\n",
      "\u001b[0;32m~/opt/anaconda3/envs/ml135_env/lib/python3.9/site-packages/sklearn/utils/validation.py\u001b[0m in \u001b[0;36mindexable\u001b[0;34m(*iterables)\u001b[0m\n\u001b[1;32m    290\u001b[0m     \"\"\"\n\u001b[1;32m    291\u001b[0m     \u001b[0mresult\u001b[0m \u001b[0;34m=\u001b[0m \u001b[0;34m[\u001b[0m\u001b[0m_make_indexable\u001b[0m\u001b[0;34m(\u001b[0m\u001b[0mX\u001b[0m\u001b[0;34m)\u001b[0m \u001b[0;32mfor\u001b[0m \u001b[0mX\u001b[0m \u001b[0;32min\u001b[0m \u001b[0miterables\u001b[0m\u001b[0;34m]\u001b[0m\u001b[0;34m\u001b[0m\u001b[0;34m\u001b[0m\u001b[0m\n\u001b[0;32m--> 292\u001b[0;31m     \u001b[0mcheck_consistent_length\u001b[0m\u001b[0;34m(\u001b[0m\u001b[0;34m*\u001b[0m\u001b[0mresult\u001b[0m\u001b[0;34m)\u001b[0m\u001b[0;34m\u001b[0m\u001b[0;34m\u001b[0m\u001b[0m\n\u001b[0m\u001b[1;32m    293\u001b[0m     \u001b[0;32mreturn\u001b[0m \u001b[0mresult\u001b[0m\u001b[0;34m\u001b[0m\u001b[0;34m\u001b[0m\u001b[0m\n\u001b[1;32m    294\u001b[0m \u001b[0;34m\u001b[0m\u001b[0m\n",
      "\u001b[0;32m~/opt/anaconda3/envs/ml135_env/lib/python3.9/site-packages/sklearn/utils/validation.py\u001b[0m in \u001b[0;36mcheck_consistent_length\u001b[0;34m(*arrays)\u001b[0m\n\u001b[1;32m    253\u001b[0m     \u001b[0muniques\u001b[0m \u001b[0;34m=\u001b[0m \u001b[0mnp\u001b[0m\u001b[0;34m.\u001b[0m\u001b[0munique\u001b[0m\u001b[0;34m(\u001b[0m\u001b[0mlengths\u001b[0m\u001b[0;34m)\u001b[0m\u001b[0;34m\u001b[0m\u001b[0;34m\u001b[0m\u001b[0m\n\u001b[1;32m    254\u001b[0m     \u001b[0;32mif\u001b[0m \u001b[0mlen\u001b[0m\u001b[0;34m(\u001b[0m\u001b[0muniques\u001b[0m\u001b[0;34m)\u001b[0m \u001b[0;34m>\u001b[0m \u001b[0;36m1\u001b[0m\u001b[0;34m:\u001b[0m\u001b[0;34m\u001b[0m\u001b[0;34m\u001b[0m\u001b[0m\n\u001b[0;32m--> 255\u001b[0;31m         raise ValueError(\"Found input variables with inconsistent numbers of\"\n\u001b[0m\u001b[1;32m    256\u001b[0m                          \" samples: %r\" % [int(l) for l in lengths])\n\u001b[1;32m    257\u001b[0m \u001b[0;34m\u001b[0m\u001b[0m\n",
      "\u001b[0;31mValueError\u001b[0m: Found input variables with inconsistent numbers of samples: [12000, 5760]"
     ]
    }
   ],
   "source": [
    "x_tr, x_va, y_tr, y_va = train_test_split(x_train, y_train, test_size=0.4)"
   ]
  },
  {
   "cell_type": "code",
   "execution_count": null,
   "id": "substantial-syria",
   "metadata": {},
   "outputs": [],
   "source": [
    "x_train_ft_hist = []\n",
    "x_test_ft_hist = []\n",
    "\n",
    "for i in range(len(x_train)):\n",
    "    his, _ = np.histogram(x_train[i],  bins = 10, range=(0,1), density=True)\n",
    "    ft_hist = np.append(x_train[i], np.array(his))\n",
    "    x_train_ft_hist.append(ft_hist)\n",
    "    \n",
    "\n",
    "for i in range(len(x_test)):  \n",
    "    his, _ = np.histogram(x_test[i],  bins = 10, range=(0,1), density=True)\n",
    "    ft_hist_test = np.append(x_test[i], np.array(his))\n",
    "    x_test_ft_hist.append(ft_hist_test)"
   ]
  },
  {
   "cell_type": "code",
   "execution_count": null,
   "id": "professional-theology",
   "metadata": {},
   "outputs": [],
   "source": [
    "x_train_ft_hist"
   ]
  },
  {
   "cell_type": "code",
   "execution_count": null,
   "id": "contemporary-judges",
   "metadata": {},
   "outputs": [],
   "source": [
    "model.fit(x_tr_ft_hist, y_tr)\n",
    "\n",
    "prob_tr = model.predict_proba(x_tr_ft_hist)\n",
    "acc_tr = model.score(x_tr_ft_hist, y_tr)\n",
    "train_log_loss = log_loss(y_tr,prob_tr)"
   ]
  },
  {
   "cell_type": "code",
   "execution_count": null,
   "id": "adjustable-credits",
   "metadata": {},
   "outputs": [],
   "source": [
    "yproba1_test = model.predict_proba(x_test_ft_hist)[:, 1] \n",
    "np.savetxt('yproba1_test.txt', yproba1_test)"
   ]
  },
  {
   "cell_type": "code",
   "execution_count": null,
   "id": "appointed-devil",
   "metadata": {},
   "outputs": [],
   "source": [
    "print(\"-----------------\\nClassify with base data, 5 folds\\n-----------------\")\n",
    "\n",
    "k = 5\n",
    "kfold = KFold(n_splits=k)\n",
    "train_scores = []\n",
    "test_scores = []\n",
    "\n",
    "for train_idx, test_idx in kfold.split(x_train_ft_hist):\n",
    "    X_train, X_test = x_train_ft_hist[train_idx,:], x_train_ft_hist[test_idx,:]\n",
    "    Y_train, Y_test = y_train[train_idx], y_train[test_idx]\n",
    "    \n",
    "    model.fit(X_train, Y_train)\n",
    "    pred_train = model.predict(X_train)\n",
    "    pred_test = model.predict(X_test)\n",
    "\n",
    "    acc_train = accuracy_score(pred_train, Y_train)\n",
    "    acc_test = accuracy_score(pred_test, Y_test)\n",
    "    print(\"Train accuracy: \", acc_train)\n",
    "    print(\"Test accuracy: \", acc_test)\n",
    "    \n",
    "    train_scores.append(acc_train)\n",
    "    test_scores.append(acc_test)\n",
    "    \n",
    "print(\"\\nAverage train accuracy: \", np.average(acc_train))\n",
    "print(\"Average test accuracy: \", np.average(acc_test))"
   ]
  },
  {
   "cell_type": "code",
   "execution_count": null,
   "id": "advanced-career",
   "metadata": {},
   "outputs": [],
   "source": [
    "aver = np.mean(x_train,axis=0)\n",
    "\n",
    "plt.figure(figsize=(8, 8),frameon = True)\n",
    "for index in range(len(aver)):\n",
    "    plt.imshow(np.reshape(aver, (28,28)), cmap=plt.cm.RdYlBu,vmin=-0.5, vmax=0.5)\n",
    "    \n",
    "plt.title('shjakdhsaklds', loc='center')\n",
    "\n",
    "plt.show()"
   ]
  },
  {
   "cell_type": "code",
   "execution_count": null,
   "id": "limiting-production",
   "metadata": {},
   "outputs": [],
   "source": [
    "plt.imshow(best_model.coef_[0].reshape(28,28), cmap=plt.cm.RdYlBu ,vmin=-0.5, vmax=0.5)\n",
    "plt.title('RdYlBu map of the coefficients', loc='center')\n",
    "plt.show()"
   ]
  },
  {
   "cell_type": "markdown",
   "id": "operating-groove",
   "metadata": {},
   "source": [
    "# Flip the data \n"
   ]
  },
  {
   "cell_type": "code",
   "execution_count": 95,
   "id": "solar-kentucky",
   "metadata": {},
   "outputs": [],
   "source": [
    "x_train_flip = np.flip(x_train, axis = 1)\n",
    "x_train_ft_flip = np.append(x_train, x_train_flip,axis=0)"
   ]
  },
  {
   "cell_type": "code",
   "execution_count": 99,
   "id": "configured-realtor",
   "metadata": {},
   "outputs": [],
   "source": [
    "y_train_ft_flip = np.append(y_train, y_train,axis=0)"
   ]
  },
  {
   "cell_type": "code",
   "execution_count": 101,
   "id": "accepting-highlight",
   "metadata": {},
   "outputs": [],
   "source": [
    "model = LogisticRegression(solver='liblinear')\n",
    "model.fit(x_train_ft_flip, y_train_ft_flip)\n",
    "\n",
    "prob_train = model.predict_proba(x_train_ft_flip)\n",
    "acc_train = model.score(x_train_ft_flip, y_train_ft_flip)\n",
    "train_log_loss = log_loss(y_train_ft_flip,prob_train)"
   ]
  },
  {
   "cell_type": "code",
   "execution_count": 104,
   "id": "grave-thunder",
   "metadata": {},
   "outputs": [],
   "source": [
    "yproba1_test = model.predict_proba(x_test)[:, 1] \n",
    "np.savetxt('yproba1_test.txt', yproba1_test)"
   ]
  },
  {
   "cell_type": "markdown",
   "id": "adolescent-colleague",
   "metadata": {},
   "source": [
    "## try different C"
   ]
  },
  {
   "cell_type": "code",
   "execution_count": 107,
   "id": "noble-jonathan",
   "metadata": {},
   "outputs": [],
   "source": [
    "x_tr, x_va, y_tr, y_va = train_test_split(x_train_ft_flip, y_train_ft_flip, test_size=0.4)"
   ]
  },
  {
   "cell_type": "code",
   "execution_count": 108,
   "id": "advance-replication",
   "metadata": {},
   "outputs": [],
   "source": [
    "C_grid = np.logspace(-9, 6, 31)"
   ]
  },
  {
   "cell_type": "code",
   "execution_count": 109,
   "id": "viral-charm",
   "metadata": {},
   "outputs": [],
   "source": [
    "for C in C_grid:\n",
    "    model = LogisticRegression(solver='liblinear', C=C)\n",
    "    model.fit(x_tr, y_tr)\n",
    "    model_list.append(model)\n",
    "    \n",
    "    prob_tr = model.predict_proba(x_tr)\n",
    "    prob_va = model.predict_proba(x_va)\n",
    "\n",
    "    acc_tr = model.score(x_tr, y_tr)\n",
    "    acc_va = model.score(x_va, y_va)\n",
    "\n",
    "    tr_log_loss = log_loss(y_tr,prob_tr)\n",
    "    va_log_loss = log_loss(y_va,prob_va)\n",
    "    \n",
    "    tr_loss_list.append(tr_log_loss)\n",
    "    va_loss_list.append(va_log_loss)\n",
    "    \n",
    "    tr_acc_list.append(acc_tr)\n",
    "    va_acc_list.append(acc_va)"
   ]
  },
  {
   "cell_type": "code",
   "execution_count": 110,
   "id": "prescription-contractor",
   "metadata": {},
   "outputs": [],
   "source": [
    "min_va_loss = min(va_loss_list)\n",
    "min_va_loss_index = va_loss_list.index(min_va_loss)\n",
    "best_C =  C_grid[min_va_loss_index]\n",
    "best_acc = va_acc_list[min_va_loss_index]"
   ]
  },
  {
   "cell_type": "code",
   "execution_count": 111,
   "id": "electronic-packet",
   "metadata": {},
   "outputs": [
    {
     "name": "stdout",
     "output_type": "stream",
     "text": [
      "Best C-value for LR with 2-feature data: 0.316228\n",
      "Test set log-loss at best C-value: 0.1207\n",
      "Test set accuracy rate at best C-value: 0.9556\n"
     ]
    }
   ],
   "source": [
    "print(\"Best C-value for LR with 2-feature data: %.6f\" % best_C) \n",
    "print(\"Test set log-loss at best C-value: %.4f\" % min_va_loss)\n",
    "print(\"Test set accuracy rate at best C-value: %.4f\" % best_acc)"
   ]
  },
  {
   "cell_type": "code",
   "execution_count": 112,
   "id": "english-campaign",
   "metadata": {},
   "outputs": [],
   "source": [
    "best_model = model_list[min_va_loss_index]"
   ]
  },
  {
   "cell_type": "code",
   "execution_count": 113,
   "id": "appreciated-restoration",
   "metadata": {},
   "outputs": [],
   "source": [
    "yproba1_test = model.predict_proba(x_test)[:, 1] \n",
    "np.savetxt('yproba1_test.txt', yproba1_test)"
   ]
  }
 ],
 "metadata": {
  "kernelspec": {
   "display_name": "Python 3",
   "language": "python",
   "name": "python3"
  },
  "language_info": {
   "codemirror_mode": {
    "name": "ipython",
    "version": 3
   },
   "file_extension": ".py",
   "mimetype": "text/x-python",
   "name": "python",
   "nbconvert_exporter": "python",
   "pygments_lexer": "ipython3",
   "version": "3.9.1"
  }
 },
 "nbformat": 4,
 "nbformat_minor": 5
}
