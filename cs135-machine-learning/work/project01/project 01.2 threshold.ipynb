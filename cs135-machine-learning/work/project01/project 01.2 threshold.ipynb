{
 "cells": [
  {
   "cell_type": "code",
   "execution_count": 33,
   "id": "colored-shopper",
   "metadata": {},
   "outputs": [],
   "source": [
    "import numpy as np\n",
    "from sklearn.datasets import load_breast_cancer\n",
    "from sklearn.model_selection import train_test_split, KFold\n",
    "from sklearn.linear_model import LogisticRegression\n",
    "from sklearn.metrics import accuracy_score, log_loss, confusion_matrix\n",
    "from sklearn.preprocessing import minmax_scale\n",
    "\n",
    "from numpy.random import default_rng\n",
    "import seaborn as sns\n",
    "import matplotlib\n",
    "import matplotlib.pyplot as plt\n",
    "\n",
    "%matplotlib inline\n",
    "np.set_printoptions(suppress=True, precision=2)\n",
    "plt.style.use('seaborn') # pretty matplotlib plots\n",
    "sns.set(font_scale=2)"
   ]
  },
  {
   "cell_type": "code",
   "execution_count": 34,
   "id": "bearing-complement",
   "metadata": {},
   "outputs": [],
   "source": [
    "# Load 3 feature version of x arrays\n",
    "x_train = np.loadtxt('./data_sneaker_vs_sandal/x_train.csv', delimiter=',', skiprows=1)\n",
    "x_test = np.loadtxt('./data_sneaker_vs_sandal/x_test.csv', delimiter=',', skiprows=1)\n",
    "\n",
    "y_train = np.loadtxt('./data_sneaker_vs_sandal/y_train.csv', delimiter=',', skiprows=1)"
   ]
  },
  {
   "cell_type": "code",
   "execution_count": 58,
   "id": "small-desktop",
   "metadata": {},
   "outputs": [],
   "source": []
  },
  {
   "cell_type": "code",
   "execution_count": 74,
   "id": "executive-cartoon",
   "metadata": {},
   "outputs": [],
   "source": [
    "thres = 0.01\n",
    "x_train_ft_trans = np.zeros(12000*784).reshape(12000,784)\n",
    "x_test_ft_trans = np.zeros(2000*784).reshape(2000,784)\n",
    "\n",
    "for i in range(12000):\n",
    "    for j in range(784):\n",
    "        if (x_train[i][j] >= thres):\n",
    "            x_train_ft_trans[i][j] = 1\n",
    "        else:\n",
    "            x_train_ft_trans[i][j] = 0\n",
    "\n",
    "for i in range(2000):\n",
    "    for j in range(784):\n",
    "        if (x_test[i][j] >= thres):\n",
    "            x_test_ft_trans[i][j] = 1\n",
    "        else:\n",
    "            x_test_ft_trans[i][j] = 0"
   ]
  },
  {
   "cell_type": "code",
   "execution_count": 75,
   "id": "standard-neutral",
   "metadata": {},
   "outputs": [],
   "source": [
    "x_tr, x_va, y_tr, y_va = train_test_split(x_train_ft_trans, y_train, test_size=0.4)"
   ]
  },
  {
   "cell_type": "code",
   "execution_count": 76,
   "id": "registered-lafayette",
   "metadata": {},
   "outputs": [
    {
     "name": "stdout",
     "output_type": "stream",
     "text": [
      "train log loss 0.03504630222628368\n",
      "validation log loss 0.1341340709974774\n",
      "train acc 0.9911111111111112\n",
      "validation acc 0.958125\n"
     ]
    }
   ],
   "source": [
    "model = LogisticRegression(solver='liblinear')\n",
    "model.fit(x_tr, y_tr)\n",
    "\n",
    "prob_tr = model.predict_proba(x_tr)\n",
    "prob_va = model.predict_proba(x_va)\n",
    "\n",
    "acc_tr = model.score(x_tr, y_tr)\n",
    "acc_va = model.score(x_va, y_va)\n",
    "\n",
    "tr_log_loss = log_loss(y_tr,prob_tr)\n",
    "va_log_loss = log_loss(y_va,prob_va)\n",
    "\n",
    "print('train log loss', tr_log_loss)\n",
    "print('validation log loss', va_log_loss)\n",
    "\n",
    "\n",
    "print('train acc', acc_tr)\n",
    "print('validation acc', acc_va)"
   ]
  },
  {
   "cell_type": "markdown",
   "id": "organized-front",
   "metadata": {},
   "source": [
    "# 试！"
   ]
  },
  {
   "cell_type": "code",
   "execution_count": 80,
   "id": "initial-african",
   "metadata": {},
   "outputs": [],
   "source": [
    "thres = 0.001\n",
    "\n",
    "x_train_ft_trans = np.zeros(12000*784).reshape(12000,784)\n",
    "x_test_ft_trans = np.zeros(2000*784).reshape(2000,784)\n",
    "\n",
    "\n",
    "for i in range(12000):\n",
    "    for j in range(784):\n",
    "        if (x_train[i][j] >= thres):\n",
    "            x_train_ft_trans[i][j] = 1\n",
    "        else:\n",
    "            x_train_ft_trans[i][j] = 0\n",
    "\n",
    "for i in range(2000):\n",
    "    for j in range(784):\n",
    "        if (x_test[i][j] >= thres):\n",
    "            x_test_ft_trans[i][j] = 1\n",
    "        else:\n",
    "            x_test_ft_trans[i][j] = 0\n",
    "            "
   ]
  },
  {
   "cell_type": "code",
   "execution_count": 71,
   "id": "daily-marshall",
   "metadata": {},
   "outputs": [],
   "source": [
    "model = LogisticRegression(solver='liblinear')\n",
    "model.fit(x_train_ft_trans, y_train)\n",
    "\n",
    "prob_train = model.predict_proba(x_train_ft_trans)\n",
    "acc_train = model.score(x_train_ft_trans, y_train)\n",
    "train_log_loss = log_loss(y_train,prob_train)"
   ]
  },
  {
   "cell_type": "code",
   "execution_count": 55,
   "id": "modular-security",
   "metadata": {},
   "outputs": [
    {
     "data": {
      "text/plain": [
       "0.045999298135265106"
      ]
     },
     "execution_count": 55,
     "metadata": {},
     "output_type": "execute_result"
    }
   ],
   "source": [
    "train_log_loss"
   ]
  },
  {
   "cell_type": "markdown",
   "id": "southeast-fifth",
   "metadata": {},
   "source": [
    "# Result"
   ]
  },
  {
   "cell_type": "code",
   "execution_count": 81,
   "id": "cubic-pastor",
   "metadata": {},
   "outputs": [],
   "source": [
    "yproba1_test = model.predict_proba(x_test_ft_trans)[:, 1] \n",
    "np.savetxt('yproba1_test.txt', yproba1_test)"
   ]
  },
  {
   "cell_type": "code",
   "execution_count": 83,
   "id": "dried-gamma",
   "metadata": {},
   "outputs": [],
   "source": [
    "# what the data looks like "
   ]
  },
  {
   "cell_type": "code",
   "execution_count": 90,
   "id": "certified-class",
   "metadata": {},
   "outputs": [
    {
     "data": {
      "text/plain": [
       "<matplotlib.image.AxesImage at 0x7fcdb1bca100>"
      ]
     },
     "execution_count": 90,
     "metadata": {},
     "output_type": "execute_result"
    },
    {
     "data": {
      "image/png": "[encoded data removed]",
      "text/plain": [
       "<Figure size 576x396 with 1 Axes>"
      ]
     },
     "metadata": {},
     "output_type": "display_data"
    }
   ],
   "source": [
    "plt.imshow(np.reshape(x_train_ft_trans[1], (28,28)), cmap=plt.cm.gray, vmin=0.0, vmax=1.0)"
   ]
  },
  {
   "cell_type": "code",
   "execution_count": null,
   "id": "renewable-crisis",
   "metadata": {},
   "outputs": [],
   "source": []
  }
 ],
 "metadata": {
  "kernelspec": {
   "display_name": "Python 3",
   "language": "python",
   "name": "python3"
  },
  "language_info": {
   "codemirror_mode": {
    "name": "ipython",
    "version": 3
   },
   "file_extension": ".py",
   "mimetype": "text/x-python",
   "name": "python",
   "nbconvert_exporter": "python",
   "pygments_lexer": "ipython3",
   "version": "3.9.1"
  }
 },
 "nbformat": 4,
 "nbformat_minor": 5
}
